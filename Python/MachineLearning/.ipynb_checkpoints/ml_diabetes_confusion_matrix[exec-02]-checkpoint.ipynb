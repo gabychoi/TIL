{
 "cells": [
  {
   "cell_type": "markdown",
   "metadata": {},
   "source": [
    "- 학습 목표\n",
    "- 머신러닝의 분류 모델을 이용해 여러 평가 지표를 적용해 확인\n",
    "- 의학(당뇨병 여부 판단) : 재현율 지표 확인"
   ]
  },
  {
   "cell_type": "code",
   "execution_count": 18,
   "metadata": {},
   "outputs": [],
   "source": [
    "from sklearn.tree import DecisionTreeClassifier\n",
    "from sklearn.linear_model import LogisticRegression\n",
    "from sklearn.ensemble import RandomForestClassifier\n",
    "\n",
    "from sklearn.preprocessing import LabelEncoder , OneHotEncoder , StandardScaler , MinMaxScaler , Binarizer\n",
    "from sklearn.model_selection import train_test_split , GridSearchCV\n",
    "\n",
    "from sklearn.metrics import accuracy_score , precision_score , recall_score , f1_score , roc_auc_score\n",
    "from sklearn.metrics import confusion_matrix , precision_recall_curve , roc_curve\n",
    "\n",
    "import pandas as pd\n",
    "import numpy as np\n",
    "import matplotlib.pyplot as plt\n",
    "import seaborn as sns\n",
    "\n",
    "import missingno as ms\n",
    "%matplotlib inline\n",
    "\n",
    "import warnings\n",
    "warnings.filterwarnings('ignore')\n"
   ]
  },
  {
   "cell_type": "code",
   "execution_count": 75,
   "metadata": {
    "scrolled": true
   },
   "outputs": [
    {
     "data": {
      "text/html": [
       "<div>\n",
       "<style scoped>\n",
       "    .dataframe tbody tr th:only-of-type {\n",
       "        vertical-align: middle;\n",
       "    }\n",
       "\n",
       "    .dataframe tbody tr th {\n",
       "        vertical-align: top;\n",
       "    }\n",
       "\n",
       "    .dataframe thead th {\n",
       "        text-align: right;\n",
       "    }\n",
       "</style>\n",
       "<table border=\"1\" class=\"dataframe\">\n",
       "  <thead>\n",
       "    <tr style=\"text-align: right;\">\n",
       "      <th></th>\n",
       "      <th>Pregnancies</th>\n",
       "      <th>Glucose</th>\n",
       "      <th>BloodPressure</th>\n",
       "      <th>SkinThickness</th>\n",
       "      <th>Insulin</th>\n",
       "      <th>BMI</th>\n",
       "      <th>DiabetesPedigreeFunction</th>\n",
       "      <th>Age</th>\n",
       "      <th>Outcome</th>\n",
       "    </tr>\n",
       "  </thead>\n",
       "  <tbody>\n",
       "    <tr>\n",
       "      <th>763</th>\n",
       "      <td>10</td>\n",
       "      <td>101</td>\n",
       "      <td>76</td>\n",
       "      <td>48</td>\n",
       "      <td>180</td>\n",
       "      <td>32.9</td>\n",
       "      <td>0.171</td>\n",
       "      <td>63</td>\n",
       "      <td>0</td>\n",
       "    </tr>\n",
       "    <tr>\n",
       "      <th>764</th>\n",
       "      <td>2</td>\n",
       "      <td>122</td>\n",
       "      <td>70</td>\n",
       "      <td>27</td>\n",
       "      <td>0</td>\n",
       "      <td>36.8</td>\n",
       "      <td>0.340</td>\n",
       "      <td>27</td>\n",
       "      <td>0</td>\n",
       "    </tr>\n",
       "    <tr>\n",
       "      <th>765</th>\n",
       "      <td>5</td>\n",
       "      <td>121</td>\n",
       "      <td>72</td>\n",
       "      <td>23</td>\n",
       "      <td>112</td>\n",
       "      <td>26.2</td>\n",
       "      <td>0.245</td>\n",
       "      <td>30</td>\n",
       "      <td>0</td>\n",
       "    </tr>\n",
       "    <tr>\n",
       "      <th>766</th>\n",
       "      <td>1</td>\n",
       "      <td>126</td>\n",
       "      <td>60</td>\n",
       "      <td>0</td>\n",
       "      <td>0</td>\n",
       "      <td>30.1</td>\n",
       "      <td>0.349</td>\n",
       "      <td>47</td>\n",
       "      <td>1</td>\n",
       "    </tr>\n",
       "    <tr>\n",
       "      <th>767</th>\n",
       "      <td>1</td>\n",
       "      <td>93</td>\n",
       "      <td>70</td>\n",
       "      <td>31</td>\n",
       "      <td>0</td>\n",
       "      <td>30.4</td>\n",
       "      <td>0.315</td>\n",
       "      <td>23</td>\n",
       "      <td>0</td>\n",
       "    </tr>\n",
       "  </tbody>\n",
       "</table>\n",
       "</div>"
      ],
      "text/plain": [
       "     Pregnancies  Glucose  BloodPressure  SkinThickness  Insulin   BMI  \\\n",
       "763           10      101             76             48      180  32.9   \n",
       "764            2      122             70             27        0  36.8   \n",
       "765            5      121             72             23      112  26.2   \n",
       "766            1      126             60              0        0  30.1   \n",
       "767            1       93             70             31        0  30.4   \n",
       "\n",
       "     DiabetesPedigreeFunction  Age  Outcome  \n",
       "763                     0.171   63        0  \n",
       "764                     0.340   27        0  \n",
       "765                     0.245   30        0  \n",
       "766                     0.349   47        1  \n",
       "767                     0.315   23        0  "
      ]
     },
     "execution_count": 75,
     "metadata": {},
     "output_type": "execute_result"
    }
   ],
   "source": [
    "# 데이터 로드 및 확인\n",
    "diabetes_df = pd.read_csv('C:/Users/i/data/diabetes.csv', sep=',')\n",
    "diabetes_df.tail()"
   ]
  },
  {
   "cell_type": "code",
   "execution_count": 21,
   "metadata": {
    "scrolled": true
   },
   "outputs": [
    {
     "name": "stdout",
     "output_type": "stream",
     "text": [
      "<class 'pandas.core.frame.DataFrame'>\n",
      "RangeIndex: 768 entries, 0 to 767\n",
      "Data columns (total 9 columns):\n",
      " #   Column                    Non-Null Count  Dtype  \n",
      "---  ------                    --------------  -----  \n",
      " 0   Pregnancies               768 non-null    int64  \n",
      " 1   Glucose                   768 non-null    int64  \n",
      " 2   BloodPressure             768 non-null    int64  \n",
      " 3   SkinThickness             768 non-null    int64  \n",
      " 4   Insulin                   768 non-null    int64  \n",
      " 5   BMI                       768 non-null    float64\n",
      " 6   DiabetesPedigreeFunction  768 non-null    float64\n",
      " 7   Age                       768 non-null    int64  \n",
      " 8   Outcome                   768 non-null    int64  \n",
      "dtypes: float64(2), int64(7)\n",
      "memory usage: 54.1 KB\n"
     ]
    }
   ],
   "source": [
    "diabetes_df.info()"
   ]
  },
  {
   "cell_type": "code",
   "execution_count": 22,
   "metadata": {},
   "outputs": [
    {
     "data": {
      "text/plain": [
       "0    500\n",
       "1    268\n",
       "Name: Outcome, dtype: int64"
      ]
     },
     "execution_count": 22,
     "metadata": {},
     "output_type": "execute_result"
    }
   ],
   "source": [
    "# target 분포 확인\n",
    "diabetes_df['Outcome'].value_counts()"
   ]
  },
  {
   "cell_type": "code",
   "execution_count": 24,
   "metadata": {},
   "outputs": [],
   "source": [
    "# 분류를 위한 예측 모델 생성\n",
    "# 모델 셀렉션 , 교차 검증\n",
    "# 학습 , 예측 및 평가\n",
    "# 임계값별 정밀도-재현율 확인 및 시각화\n",
    "# 당수치, 혈압, 피하지방, 인슐린, 체질량지수 의 분포를 히스토그램으로 확인\n",
    "# 표준화, 정규화"
   ]
  },
  {
   "cell_type": "code",
   "execution_count": 27,
   "metadata": {
    "scrolled": true
   },
   "outputs": [
    {
     "data": {
      "image/png": "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\n",
      "text/plain": [
       "<Figure size 1800x720 with 2 Axes>"
      ]
     },
     "metadata": {
      "needs_background": "light"
     },
     "output_type": "display_data"
    }
   ],
   "source": [
    "# 결측치 확인 \n",
    "ms.matrix(diabetes_df)\n",
    "plt.show()"
   ]
  },
  {
   "cell_type": "code",
   "execution_count": 74,
   "metadata": {
    "scrolled": false
   },
   "outputs": [
    {
     "data": {
      "image/png": "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\n",
      "text/plain": [
       "<Figure size 1080x360 with 5 Axes>"
      ]
     },
     "metadata": {
      "needs_background": "light"
     },
     "output_type": "display_data"
    }
   ],
   "source": [
    "# 당수치, 혈압, 피하지방, 인슐린, 체질량지수 의 분포를 히스토그램으로 확인\n",
    "fig = plt.figure(figsize=(15,5))\n",
    "\n",
    "area01 = fig.add_subplot(1,5,1)\n",
    "# area01.set_title('Glucose')\n",
    "\n",
    "area02 = fig.add_subplot(1,5,2)\n",
    "# area02.set_title('BloodPressure')\n",
    "\n",
    "area03 = fig.add_subplot(1,5,3)\n",
    "# area03.set_title('SkinThickness')\n",
    "\n",
    "area04 = fig.add_subplot(1,5,4)\n",
    "# area04.set_title('Insulin')\n",
    "\n",
    "area05 = fig.add_subplot(1,5,5)\n",
    "# area05.set_title('BMI')\n",
    "\n",
    "# 당수치 분포 히스토그램\n",
    "sns.distplot(diabetes_df['Glucose'], ax=area01, color='purple')\n",
    "# 혈압 분포 히스토그램\n",
    "sns.distplot(diabetes_df['BloodPressure'], ax=area02, color='red')\n",
    "# 피하지방 분포 히스토그램\n",
    "sns.distplot(diabetes_df['SkinThickness'], ax=area03, color='yellow')\n",
    "# 인슐린 분포 히스토그램\n",
    "sns.distplot(diabetes_df['Insulin'], ax=area04, color='springgreen')\n",
    "# 체질량지수 분포 히스토그램\n",
    "sns.distplot(diabetes_df['BMI'], ax=area05)\n",
    "\n",
    "plt.show()"
   ]
  },
  {
   "cell_type": "code",
   "execution_count": 76,
   "metadata": {},
   "outputs": [
    {
     "data": {
      "text/html": [
       "<div>\n",
       "<style scoped>\n",
       "    .dataframe tbody tr th:only-of-type {\n",
       "        vertical-align: middle;\n",
       "    }\n",
       "\n",
       "    .dataframe tbody tr th {\n",
       "        vertical-align: top;\n",
       "    }\n",
       "\n",
       "    .dataframe thead th {\n",
       "        text-align: right;\n",
       "    }\n",
       "</style>\n",
       "<table border=\"1\" class=\"dataframe\">\n",
       "  <thead>\n",
       "    <tr style=\"text-align: right;\">\n",
       "      <th></th>\n",
       "      <th>Pregnancies</th>\n",
       "      <th>Glucose</th>\n",
       "      <th>BloodPressure</th>\n",
       "      <th>SkinThickness</th>\n",
       "      <th>Insulin</th>\n",
       "      <th>BMI</th>\n",
       "      <th>DiabetesPedigreeFunction</th>\n",
       "      <th>Age</th>\n",
       "      <th>Outcome</th>\n",
       "    </tr>\n",
       "  </thead>\n",
       "  <tbody>\n",
       "    <tr>\n",
       "      <th>0</th>\n",
       "      <td>6</td>\n",
       "      <td>148</td>\n",
       "      <td>72</td>\n",
       "      <td>35</td>\n",
       "      <td>0</td>\n",
       "      <td>33.6</td>\n",
       "      <td>0.627</td>\n",
       "      <td>50</td>\n",
       "      <td>1</td>\n",
       "    </tr>\n",
       "    <tr>\n",
       "      <th>1</th>\n",
       "      <td>1</td>\n",
       "      <td>85</td>\n",
       "      <td>66</td>\n",
       "      <td>29</td>\n",
       "      <td>0</td>\n",
       "      <td>26.6</td>\n",
       "      <td>0.351</td>\n",
       "      <td>31</td>\n",
       "      <td>0</td>\n",
       "    </tr>\n",
       "    <tr>\n",
       "      <th>2</th>\n",
       "      <td>8</td>\n",
       "      <td>183</td>\n",
       "      <td>64</td>\n",
       "      <td>0</td>\n",
       "      <td>0</td>\n",
       "      <td>23.3</td>\n",
       "      <td>0.672</td>\n",
       "      <td>32</td>\n",
       "      <td>1</td>\n",
       "    </tr>\n",
       "    <tr>\n",
       "      <th>3</th>\n",
       "      <td>1</td>\n",
       "      <td>89</td>\n",
       "      <td>66</td>\n",
       "      <td>23</td>\n",
       "      <td>94</td>\n",
       "      <td>28.1</td>\n",
       "      <td>0.167</td>\n",
       "      <td>21</td>\n",
       "      <td>0</td>\n",
       "    </tr>\n",
       "    <tr>\n",
       "      <th>4</th>\n",
       "      <td>0</td>\n",
       "      <td>137</td>\n",
       "      <td>40</td>\n",
       "      <td>35</td>\n",
       "      <td>168</td>\n",
       "      <td>43.1</td>\n",
       "      <td>2.288</td>\n",
       "      <td>33</td>\n",
       "      <td>1</td>\n",
       "    </tr>\n",
       "    <tr>\n",
       "      <th>...</th>\n",
       "      <td>...</td>\n",
       "      <td>...</td>\n",
       "      <td>...</td>\n",
       "      <td>...</td>\n",
       "      <td>...</td>\n",
       "      <td>...</td>\n",
       "      <td>...</td>\n",
       "      <td>...</td>\n",
       "      <td>...</td>\n",
       "    </tr>\n",
       "    <tr>\n",
       "      <th>763</th>\n",
       "      <td>10</td>\n",
       "      <td>101</td>\n",
       "      <td>76</td>\n",
       "      <td>48</td>\n",
       "      <td>180</td>\n",
       "      <td>32.9</td>\n",
       "      <td>0.171</td>\n",
       "      <td>63</td>\n",
       "      <td>0</td>\n",
       "    </tr>\n",
       "    <tr>\n",
       "      <th>764</th>\n",
       "      <td>2</td>\n",
       "      <td>122</td>\n",
       "      <td>70</td>\n",
       "      <td>27</td>\n",
       "      <td>0</td>\n",
       "      <td>36.8</td>\n",
       "      <td>0.340</td>\n",
       "      <td>27</td>\n",
       "      <td>0</td>\n",
       "    </tr>\n",
       "    <tr>\n",
       "      <th>765</th>\n",
       "      <td>5</td>\n",
       "      <td>121</td>\n",
       "      <td>72</td>\n",
       "      <td>23</td>\n",
       "      <td>112</td>\n",
       "      <td>26.2</td>\n",
       "      <td>0.245</td>\n",
       "      <td>30</td>\n",
       "      <td>0</td>\n",
       "    </tr>\n",
       "    <tr>\n",
       "      <th>766</th>\n",
       "      <td>1</td>\n",
       "      <td>126</td>\n",
       "      <td>60</td>\n",
       "      <td>0</td>\n",
       "      <td>0</td>\n",
       "      <td>30.1</td>\n",
       "      <td>0.349</td>\n",
       "      <td>47</td>\n",
       "      <td>1</td>\n",
       "    </tr>\n",
       "    <tr>\n",
       "      <th>767</th>\n",
       "      <td>1</td>\n",
       "      <td>93</td>\n",
       "      <td>70</td>\n",
       "      <td>31</td>\n",
       "      <td>0</td>\n",
       "      <td>30.4</td>\n",
       "      <td>0.315</td>\n",
       "      <td>23</td>\n",
       "      <td>0</td>\n",
       "    </tr>\n",
       "  </tbody>\n",
       "</table>\n",
       "<p>768 rows × 9 columns</p>\n",
       "</div>"
      ],
      "text/plain": [
       "     Pregnancies  Glucose  BloodPressure  SkinThickness  Insulin   BMI  \\\n",
       "0              6      148             72             35        0  33.6   \n",
       "1              1       85             66             29        0  26.6   \n",
       "2              8      183             64              0        0  23.3   \n",
       "3              1       89             66             23       94  28.1   \n",
       "4              0      137             40             35      168  43.1   \n",
       "..           ...      ...            ...            ...      ...   ...   \n",
       "763           10      101             76             48      180  32.9   \n",
       "764            2      122             70             27        0  36.8   \n",
       "765            5      121             72             23      112  26.2   \n",
       "766            1      126             60              0        0  30.1   \n",
       "767            1       93             70             31        0  30.4   \n",
       "\n",
       "     DiabetesPedigreeFunction  Age  Outcome  \n",
       "0                       0.627   50        1  \n",
       "1                       0.351   31        0  \n",
       "2                       0.672   32        1  \n",
       "3                       0.167   21        0  \n",
       "4                       2.288   33        1  \n",
       "..                        ...  ...      ...  \n",
       "763                     0.171   63        0  \n",
       "764                     0.340   27        0  \n",
       "765                     0.245   30        0  \n",
       "766                     0.349   47        1  \n",
       "767                     0.315   23        0  \n",
       "\n",
       "[768 rows x 9 columns]"
      ]
     },
     "execution_count": 76,
     "metadata": {},
     "output_type": "execute_result"
    }
   ],
   "source": [
    "diabetes_df"
   ]
  },
  {
   "cell_type": "code",
   "execution_count": 29,
   "metadata": {},
   "outputs": [],
   "source": [
    "# 데이터 분리\n",
    "y_diabetes_df = diabetes_df['Outcome']\n",
    "X_diabetes_df = diabetes_df.drop('Outcome' , axis=1)\n",
    "\n",
    "X_train , X_test , y_train , y_test = train_test_split( X_diabetes_df , y_diabetes_df , \n",
    "                                                       test_size=0.2 , \n",
    "                                                       random_state=10)"
   ]
  },
  {
   "cell_type": "code",
   "execution_count": 30,
   "metadata": {},
   "outputs": [],
   "source": [
    "# 학습기 생성\n",
    "dt_clf = DecisionTreeClassifier(random_state=10)\n",
    "rf_clf = RandomForestClassifier(random_state=10)\n",
    "lr_clf = LogisticRegression(random_state=10)"
   ]
  },
  {
   "cell_type": "code",
   "execution_count": 37,
   "metadata": {},
   "outputs": [
    {
     "name": "stdout",
     "output_type": "stream",
     "text": [
      "예측 정확도 : 0.6818\n"
     ]
    }
   ],
   "source": [
    "# 의사결정나무 학습 & 예측 수행\n",
    "dt_clf.fit(X_train, y_train)\n",
    "pred = dt_clf.predict(X_test)\n",
    "print('예측 정확도 : {0:.4f}'.format(accuracy_score(y_test, pred)))"
   ]
  },
  {
   "cell_type": "code",
   "execution_count": 33,
   "metadata": {
    "scrolled": true
   },
   "outputs": [
    {
     "name": "stdout",
     "output_type": "stream",
     "text": [
      "예측 정확도 : 0.7727\n"
     ]
    }
   ],
   "source": [
    "# 랜덤포레스트 학습 &  예측 수행\n",
    "rf_clf.fit(X_train, y_train)\n",
    "pred = rf_clf.predict(X_test)\n",
    "print('예측 정확도 : {0:.4f}'.format(accuracy_score(y_test, pred)))"
   ]
  },
  {
   "cell_type": "code",
   "execution_count": 34,
   "metadata": {},
   "outputs": [
    {
     "name": "stdout",
     "output_type": "stream",
     "text": [
      "예측 정확도 : 0.7662\n"
     ]
    }
   ],
   "source": [
    "# 로지스틱 회귀 학습 &  예측 수행\n",
    "lr_clf.fit(X_train, y_train)\n",
    "pred = lr_clf.predict(X_test)\n",
    "print('예측 정확도 : {0:.4f}'.format(accuracy_score(y_test, pred)))"
   ]
  },
  {
   "cell_type": "code",
   "execution_count": 39,
   "metadata": {},
   "outputs": [
    {
     "name": "stdout",
     "output_type": "stream",
     "text": [
      "교차 검증 0 정확도: 0.7727\n",
      "평균 정확도: 0.7727\n",
      "교차 검증 1 정확도: 0.7013\n",
      "평균 정확도: 0.7370\n",
      "교차 검증 2 정확도: 0.7532\n",
      "평균 정확도: 0.7424\n",
      "교차 검증 3 정확도: 0.8366\n",
      "평균 정확도: 0.7660\n",
      "교차 검증 4 정확도: 0.7647\n",
      "평균 정확도: 0.7657\n"
     ]
    }
   ],
   "source": [
    "# 교차 검증\n",
    "\n",
    "from sklearn.model_selection import KFold\n",
    "\n",
    "def exec_kfold(clf, folds=5):\n",
    "    # 폴드 세트를 5개인 KFold 객체를 생성, 폴드 수만큼 예측 결과 저장을 위한 리스트 객체 생성.\n",
    "    kfold = KFold(n_splits=folds)\n",
    "    \n",
    "    scores = []\n",
    "\n",
    "    # kFold 교차 검증 수행\n",
    "\n",
    "    for iter_count, (train_index, test_index) in enumerate(kfold.split(X_diabetes_df)):\n",
    "\n",
    "        # X_titanic_df 데이터에서 교차 검증별로 학습과 검증 데이터를 가리키는 index 생성\n",
    "        X_train , X_test = X_diabetes_df.values[train_index], X_diabetes_df.values[test_index]\n",
    "        y_train , y_test = y_diabetes_df.values[train_index], y_diabetes_df.values[test_index]\n",
    "\n",
    "        #Classifier 학습, 예측, 정확도 계산\n",
    "        clf.fit(X_train, y_train)\n",
    "        predictions = clf.predict(X_test)\n",
    "        accuracy = accuracy_score(y_test , predictions)\n",
    "        scores.append(accuracy)\n",
    "        print(\"교차 검증 {0} 정확도: {1:.4f}\".format(iter_count, accuracy))\n",
    "\n",
    "        # 5개의 fold에서의 평균 정확도 계산\n",
    "        mean_score = np.mean(scores)\n",
    "        print(\"평균 정확도: {0:.4f}\".format(mean_score))\n",
    "\n",
    "#exec_kfold 호출\n",
    "exec_kfold(rf_clf, folds=5)"
   ]
  },
  {
   "cell_type": "code",
   "execution_count": 45,
   "metadata": {},
   "outputs": [
    {
     "name": "stdout",
     "output_type": "stream",
     "text": [
      "GridSearchCV 최적 하이퍼 파라미터 : {'max_depth': 7, 'min_samples_leaf': 1, 'min_samples_split': 7}\n",
      "GridSearchCV 최고 정확도 : 0.7834\n",
      "테스트 세트에서의 DecisionTreeClassifier 정확도 : 0.7532\n"
     ]
    }
   ],
   "source": [
    "from sklearn.model_selection import GridSearchCV\n",
    "from sklearn.metrics import accuracy_score\n",
    "\n",
    "parameters = {'max_depth' : [5,7,9],\n",
    "              'min_samples_split':[5,7,9], 'min_samples_leaf':[1,5,8]}\n",
    "\n",
    "grid_rclf = GridSearchCV(rf_clf, param_grid=parameters, scoring='accuracy', cv=5)\n",
    "grid_rclf.fit(X_train, y_train)\n",
    "\n",
    "print('GridSearchCV 최적 하이퍼 파라미터 :' , grid_rclf.best_params_)\n",
    "print('GridSearchCV 최고 정확도 : {0:.4f}'.format(grid_rclf.best_score_))\n",
    "best_rclf = grid_rclf.best_estimator_\n",
    "\n",
    "# GridSearchCV의 최적 하이퍼 파라미터로 학습된 Estimator로 예측 및 평가 수행\n",
    "dpredictions = best_rclf.predict(X_test)\n",
    "accuracy = accuracy_score(y_test, dpredictions)\n",
    "print('테스트 세트에서의 DecisionTreeClassifier 정확도 : {0:.4f}'.format(accuracy))"
   ]
  },
  {
   "cell_type": "code",
   "execution_count": 46,
   "metadata": {},
   "outputs": [],
   "source": [
    "# 임계값별 정밀도-재현율 확인 및 시각화"
   ]
  },
  {
   "cell_type": "code",
   "execution_count": 49,
   "metadata": {},
   "outputs": [
    {
     "name": "stdout",
     "output_type": "stream",
     "text": [
      "shape (154, 2)\n",
      "result\n",
      " [[0.84 0.16]\n",
      " [0.73 0.27]\n",
      " [0.83 0.17]]\n",
      "\n",
      "**************************************************\n",
      "\n",
      "[0 0 0 1 0 0 0 1 0 0 0 0 1 0 1 0 0 0 0 1 1 0 0 1 0 1 0 1 1 1 0 0 0 0 1 0 1\n",
      " 0 0 0 0 1 1 0 1 0 0 0 1 0 0 1 0 0 1 0 0 0 0 0 0 0 0 1 0 0 1 0 0 1 1 1 0 1\n",
      " 0 0 1 1 0 0 0 1 0 0 1 1 0 1 1 0 0 1 0 0 0 0 1 0 0 0 1 1 1 0 0 0 1 1 0 0 0\n",
      " 1 0 0 1 0 0 1 0 1 0 0 0 0 0 1 0 1 0 0 1 1 0 0 0 0 0 1 1 1 0 0 1 0 1 0 0 1\n",
      " 1 1 0 0 1 0]\n",
      "568    0\n",
      "620    0\n",
      "456    0\n",
      "197    1\n",
      "714    0\n",
      "      ..\n",
      "264    1\n",
      "706    1\n",
      "194    0\n",
      "179    1\n",
      "514    0\n",
      "Name: Outcome, Length: 154, dtype: int64\n",
      "확률에 따른 예측 결과\n",
      " [[0.84 0.16 0.  ]\n",
      " [0.73 0.27 0.  ]\n",
      " [0.83 0.17 0.  ]\n",
      " [0.3  0.7  1.  ]\n",
      " [0.67 0.33 0.  ]]\n",
      "**************************************************\n",
      "\n"
     ]
    }
   ],
   "source": [
    "pred_pro_result = rf_clf.predict_proba(X_test)\n",
    "print('shape' , pred_pro_result.shape)\n",
    "print('result\\n', pred_pro_result[:3])\n",
    "print()\n",
    "print(\"*\" * 50)\n",
    "print()\n",
    "y_pred = rf_clf.predict(X_test)\n",
    "print(y_pred)\n",
    "print(y_test)\n",
    "result = np.concatenate([pred_pro_result , y_pred.reshape(-1,1)] , axis=1)\n",
    "print('확률에 따른 예측 결과\\n' , result[:5])\n",
    "print(\"*\" * 50)\n",
    "print()"
   ]
  },
  {
   "cell_type": "code",
   "execution_count": 50,
   "metadata": {},
   "outputs": [],
   "source": [
    "# 모델성능평가 함수\n",
    "def display_eval(y_test, y_pred):\n",
    "    confusion = confusion_matrix(y_test, y_pred)\n",
    "    accuracy = accuracy_score(y_test, y_pred)\n",
    "    precision = precision_score(y_test, y_pred)\n",
    "    recall = recall_score(y_test, y_pred)\n",
    "    print('accuracy' , accuracy)\n",
    "    print('precision' , precision)\n",
    "    print('recall' , recall)"
   ]
  },
  {
   "cell_type": "code",
   "execution_count": 51,
   "metadata": {},
   "outputs": [
    {
     "name": "stdout",
     "output_type": "stream",
     "text": [
      "accuracy 0.9675324675324676\n",
      "precision 0.9821428571428571\n",
      "recall 0.9322033898305084\n"
     ]
    }
   ],
   "source": [
    "from sklearn.preprocessing import Binarizer\n",
    "user_threshold = 0.5\n",
    "# pred_pro_result[: , 1]\n",
    "positive_pred_proba = pred_pro_result[: , 1].reshape(-1,1)\n",
    "# positive_pred_proba\n",
    "user_predict = Binarizer(threshold=user_threshold).fit(positive_pred_proba).transform(positive_pred_proba)\n",
    "display_eval(y_test , user_predict)"
   ]
  },
  {
   "cell_type": "code",
   "execution_count": 52,
   "metadata": {},
   "outputs": [
    {
     "name": "stdout",
     "output_type": "stream",
     "text": [
      "accuracy 0.6883116883116883\n",
      "precision 0.5514018691588785\n",
      "recall 1.0\n"
     ]
    }
   ],
   "source": [
    "user_threshold = 0.1\n",
    "# pred_pro_result[: , 1]\n",
    "positive_pred_proba = pred_pro_result[: , 1].reshape(-1,1)\n",
    "# positive_pred_proba\n",
    "user_predict = Binarizer(threshold=user_threshold).fit(positive_pred_proba).transform(positive_pred_proba)\n",
    "display_eval(y_test , user_predict)"
   ]
  },
  {
   "cell_type": "code",
   "execution_count": 54,
   "metadata": {},
   "outputs": [
    {
     "name": "stdout",
     "output_type": "stream",
     "text": [
      "(49,)\n"
     ]
    }
   ],
   "source": [
    "from sklearn.metrics import precision_recall_curve\n",
    "\n",
    "# 레이블 값이 1일 때의 예측 확률을 추출\n",
    "pred_positive_label = rf_clf.predict_proba(X_test)[:, 1]\n",
    "# print(pred_positive_label)\n",
    "precisions , recalls , thresholds = precision_recall_curve(y_test , pred_positive_label)\n",
    "# print('precisions : \\n' , precisions)\n",
    "# print('recalls : \\n' , recalls)\n",
    "print(thresholds.shape)"
   ]
  },
  {
   "cell_type": "code",
   "execution_count": 55,
   "metadata": {},
   "outputs": [
    {
     "data": {
      "image/png": "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\n",
      "text/plain": [
       "<Figure size 1080x360 with 1 Axes>"
      ]
     },
     "metadata": {
      "needs_background": "light"
     },
     "output_type": "display_data"
    }
   ],
   "source": [
    "import matplotlib.pyplot as plt\n",
    "%matplotlib inline\n",
    "\n",
    "precisions , recalls , thresholds = precision_recall_curve(y_test , pred_positive_label)\n",
    "\n",
    "plt.figure(figsize=(15, 5))\n",
    "\n",
    "plt.plot(thresholds, precisions[0 : thresholds.shape[0]], linestyle='--' , label='precision') # X, Y 축 개수가 맞지 않아 슬라이싱으로 맞춰줌\n",
    "plt.plot(thresholds, recalls[0 : thresholds.shape[0]], label = 'recall')\n",
    "\n",
    "plt.xlabel('threshold ratio')\n",
    "plt.ylabel('precision and recall value')\n",
    "plt.legend()\n",
    "plt.grid()\n",
    "plt.show()"
   ]
  }
 ],
 "metadata": {
  "kernelspec": {
   "display_name": "Python 3",
   "language": "python",
   "name": "python3"
  },
  "language_info": {
   "codemirror_mode": {
    "name": "ipython",
    "version": 3
   },
   "file_extension": ".py",
   "mimetype": "text/x-python",
   "name": "python",
   "nbconvert_exporter": "python",
   "pygments_lexer": "ipython3",
<<<<<<< HEAD
   "version": "3.6.10"
=======
   "version": "3.8.3"
>>>>>>> 3b6b54449c3f514e8c42ad9ebb1cce02dd5ea7ad
  }
 },
 "nbformat": 4,
 "nbformat_minor": 4
}
