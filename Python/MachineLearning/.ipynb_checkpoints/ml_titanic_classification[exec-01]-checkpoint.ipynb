{
 "cells": [
  {
   "cell_type": "markdown",
   "metadata": {},
   "source": [
    "## 실습 가이드\n",
    "\n",
    "### 탐색적 데이터 분석\n",
    "1. 데이터 로드 및 확인\n",
    "2. 데이터 정보 확인\n",
    "3. missingno 패키지를 이용한 결측값을 가지는 컬럼 확인 및 처리\n",
    "-  age는 평균으로, cabin 'N', embarked 'N' 으로 대체\n",
    "4. age , cabin , embarked 빈도확인\n",
    "5. 성별에 따른 생존여부 확인 및 barplot를 이용한 시각화\n",
    "- 수업시간에 배운 시각화를 이용하여 다양한 정보를 탐색하세요\n",
    "6. sex , cabin , embarked 에 대한 라벨 인코딩\n",
    "\n",
    "### ML학습\n",
    "1. 원본 데이터를 재로딩 하고, feature데이터 셋과 Label 데이터 셋 추출.\n",
    "2. 80:20 으로 데이터 분리(train_test_split)\n",
    "3. 의사결정트리를 이용한 학습, 예측 및 정확도 확인\n",
    "4. KFold=5 를 이용한 교차검증 및 평균정확도 확인\n",
    "5. cross_val_score 를 이용한 교차검증 및 평균정확도 확인\n",
    "6. GridSearchCV 를 이용한 교차검증 및 평균정확도 확인\n",
    "- 하이퍼 파라미터 적용해보기\n"
   ]
  },
  {
   "cell_type": "code",
   "execution_count": 192,
   "metadata": {},
   "outputs": [],
   "source": [
    "import pandas as pd\n",
    "import numpy as np \n",
    "import matplotlib as mpl\n",
    "import matplotlib.pyplot as plt\n",
    "import seaborn as sns\n",
    "%matplotlib inline"
   ]
  },
  {
   "cell_type": "markdown",
   "metadata": {},
   "source": [
    "#### 탐색적 데이터 분석"
   ]
  },
  {
   "cell_type": "code",
   "execution_count": 193,
   "metadata": {},
   "outputs": [
    {
     "data": {
      "text/html": [
       "<div>\n",
       "<style scoped>\n",
       "    .dataframe tbody tr th:only-of-type {\n",
       "        vertical-align: middle;\n",
       "    }\n",
       "\n",
       "    .dataframe tbody tr th {\n",
       "        vertical-align: top;\n",
       "    }\n",
       "\n",
       "    .dataframe thead th {\n",
       "        text-align: right;\n",
       "    }\n",
       "</style>\n",
       "<table border=\"1\" class=\"dataframe\">\n",
       "  <thead>\n",
       "    <tr style=\"text-align: right;\">\n",
       "      <th></th>\n",
       "      <th>PassengerId</th>\n",
       "      <th>Survived</th>\n",
       "      <th>Pclass</th>\n",
       "      <th>Name</th>\n",
       "      <th>Sex</th>\n",
       "      <th>Age</th>\n",
       "      <th>SibSp</th>\n",
       "      <th>Parch</th>\n",
       "      <th>Ticket</th>\n",
       "      <th>Fare</th>\n",
       "      <th>Cabin</th>\n",
       "      <th>Embarked</th>\n",
       "    </tr>\n",
       "  </thead>\n",
       "  <tbody>\n",
       "    <tr>\n",
       "      <th>0</th>\n",
       "      <td>1</td>\n",
       "      <td>0</td>\n",
       "      <td>3</td>\n",
       "      <td>Braund, Mr. Owen Harris</td>\n",
       "      <td>male</td>\n",
       "      <td>22.0</td>\n",
       "      <td>1</td>\n",
       "      <td>0</td>\n",
       "      <td>A/5 21171</td>\n",
       "      <td>7.2500</td>\n",
       "      <td>NaN</td>\n",
       "      <td>S</td>\n",
       "    </tr>\n",
       "    <tr>\n",
       "      <th>1</th>\n",
       "      <td>2</td>\n",
       "      <td>1</td>\n",
       "      <td>1</td>\n",
       "      <td>Cumings, Mrs. John Bradley (Florence Briggs Th...</td>\n",
       "      <td>female</td>\n",
       "      <td>38.0</td>\n",
       "      <td>1</td>\n",
       "      <td>0</td>\n",
       "      <td>PC 17599</td>\n",
       "      <td>71.2833</td>\n",
       "      <td>C85</td>\n",
       "      <td>C</td>\n",
       "    </tr>\n",
       "    <tr>\n",
       "      <th>2</th>\n",
       "      <td>3</td>\n",
       "      <td>1</td>\n",
       "      <td>3</td>\n",
       "      <td>Heikkinen, Miss. Laina</td>\n",
       "      <td>female</td>\n",
       "      <td>26.0</td>\n",
       "      <td>0</td>\n",
       "      <td>0</td>\n",
       "      <td>STON/O2. 3101282</td>\n",
       "      <td>7.9250</td>\n",
       "      <td>NaN</td>\n",
       "      <td>S</td>\n",
       "    </tr>\n",
       "    <tr>\n",
       "      <th>3</th>\n",
       "      <td>4</td>\n",
       "      <td>1</td>\n",
       "      <td>1</td>\n",
       "      <td>Futrelle, Mrs. Jacques Heath (Lily May Peel)</td>\n",
       "      <td>female</td>\n",
       "      <td>35.0</td>\n",
       "      <td>1</td>\n",
       "      <td>0</td>\n",
       "      <td>113803</td>\n",
       "      <td>53.1000</td>\n",
       "      <td>C123</td>\n",
       "      <td>S</td>\n",
       "    </tr>\n",
       "    <tr>\n",
       "      <th>4</th>\n",
       "      <td>5</td>\n",
       "      <td>0</td>\n",
       "      <td>3</td>\n",
       "      <td>Allen, Mr. William Henry</td>\n",
       "      <td>male</td>\n",
       "      <td>35.0</td>\n",
       "      <td>0</td>\n",
       "      <td>0</td>\n",
       "      <td>373450</td>\n",
       "      <td>8.0500</td>\n",
       "      <td>NaN</td>\n",
       "      <td>S</td>\n",
       "    </tr>\n",
       "  </tbody>\n",
       "</table>\n",
       "</div>"
      ],
      "text/plain": [
       "   PassengerId  Survived  Pclass  \\\n",
       "0            1         0       3   \n",
       "1            2         1       1   \n",
       "2            3         1       3   \n",
       "3            4         1       1   \n",
       "4            5         0       3   \n",
       "\n",
       "                                                Name     Sex   Age  SibSp  \\\n",
       "0                            Braund, Mr. Owen Harris    male  22.0      1   \n",
       "1  Cumings, Mrs. John Bradley (Florence Briggs Th...  female  38.0      1   \n",
       "2                             Heikkinen, Miss. Laina  female  26.0      0   \n",
       "3       Futrelle, Mrs. Jacques Heath (Lily May Peel)  female  35.0      1   \n",
       "4                           Allen, Mr. William Henry    male  35.0      0   \n",
       "\n",
       "   Parch            Ticket     Fare Cabin Embarked  \n",
       "0      0         A/5 21171   7.2500   NaN        S  \n",
       "1      0          PC 17599  71.2833   C85        C  \n",
       "2      0  STON/O2. 3101282   7.9250   NaN        S  \n",
       "3      0            113803  53.1000  C123        S  \n",
       "4      0            373450   8.0500   NaN        S  "
      ]
     },
     "execution_count": 193,
     "metadata": {},
     "output_type": "execute_result"
    }
   ],
   "source": [
    "# 데이터 로드 및 확인\n",
    "titanic = pd.read_csv('C:/Users/i/data/titanic_train.csv', sep=',')\n",
    "titanic.head()"
   ]
  },
  {
   "cell_type": "code",
   "execution_count": 194,
   "metadata": {},
   "outputs": [
    {
     "name": "stdout",
     "output_type": "stream",
     "text": [
      "<class 'pandas.core.frame.DataFrame'>\n",
      "RangeIndex: 891 entries, 0 to 890\n",
      "Data columns (total 12 columns):\n",
      " #   Column       Non-Null Count  Dtype  \n",
      "---  ------       --------------  -----  \n",
      " 0   PassengerId  891 non-null    int64  \n",
      " 1   Survived     891 non-null    int64  \n",
      " 2   Pclass       891 non-null    int64  \n",
      " 3   Name         891 non-null    object \n",
      " 4   Sex          891 non-null    object \n",
      " 5   Age          714 non-null    float64\n",
      " 6   SibSp        891 non-null    int64  \n",
      " 7   Parch        891 non-null    int64  \n",
      " 8   Ticket       891 non-null    object \n",
      " 9   Fare         891 non-null    float64\n",
      " 10  Cabin        204 non-null    object \n",
      " 11  Embarked     889 non-null    object \n",
      "dtypes: float64(2), int64(5), object(5)\n",
      "memory usage: 83.7+ KB\n"
     ]
    }
   ],
   "source": [
    "# 데이터 정보 확인\n",
    "titanic.info()"
   ]
  },
  {
   "cell_type": "code",
   "execution_count": 195,
   "metadata": {
    "scrolled": true
   },
   "outputs": [
    {
     "data": {
      "image/png": "[encoded data removed]",
      "text/plain": [
       "<Figure size 1800x720 with 2 Axes>"
      ]
     },
     "metadata": {
      "needs_background": "light"
     },
     "output_type": "display_data"
    }
   ],
   "source": [
    "# missingno 패키지를 이용한 결측값을 가지는 컬럼 확인 및 처리\n",
    "import missingno as msno \n",
    "msno.matrix(titanic)\n",
    "plt.show()"
   ]
  },
  {
   "cell_type": "code",
   "execution_count": 196,
   "metadata": {},
   "outputs": [
    {
     "data": {
      "text/plain": [
       "PassengerId      0\n",
       "Survived         0\n",
       "Pclass           0\n",
       "Name             0\n",
       "Sex              0\n",
       "Age            177\n",
       "SibSp            0\n",
       "Parch            0\n",
       "Ticket           0\n",
       "Fare             0\n",
       "Cabin          687\n",
       "Embarked         2\n",
       "dtype: int64"
      ]
     },
     "execution_count": 196,
     "metadata": {},
     "output_type": "execute_result"
    }
   ],
   "source": [
    "titanic.isna().sum()"
   ]
  },
  {
   "cell_type": "code",
   "execution_count": 197,
   "metadata": {},
   "outputs": [
    {
     "data": {
      "image/png": "[encoded data removed]",
      "text/plain": [
       "<Figure size 1800x720 with 2 Axes>"
      ]
     },
     "metadata": {
      "needs_background": "light"
     },
     "output_type": "display_data"
    }
   ],
   "source": [
    "from sklearn.impute import SimpleImputer\n",
    "\n",
    "# age 평균값으로 대체\n",
    "titanic_age_imputer = SimpleImputer(strategy = 'mean')\n",
    "titanic['Age'] = titanic_age_imputer.fit_transform(titanic[['Age']])\n",
    "\n",
    "msno.matrix(titanic)\n",
    "plt.show()"
   ]
  },
  {
   "cell_type": "code",
   "execution_count": 198,
   "metadata": {},
   "outputs": [
    {
     "data": {
      "image/png": "[encoded data removed]",
      "text/plain": [
       "<Figure size 1800x720 with 2 Axes>"
      ]
     },
     "metadata": {
      "needs_background": "light"
     },
     "output_type": "display_data"
    }
   ],
   "source": [
    "# cabin 'N', embarked 'N' 으로 대체\n",
    "titanic.Cabin.fillna('N', inplace=True)\n",
    "titanic.Embarked.fillna('N', inplace=True)\n",
    "msno.matrix(titanic)\n",
    "plt.show()"
   ]
  },
  {
   "cell_type": "code",
   "execution_count": 199,
   "metadata": {},
   "outputs": [
    {
     "data": {
      "text/html": [
       "<div>\n",
       "<style scoped>\n",
       "    .dataframe tbody tr th:only-of-type {\n",
       "        vertical-align: middle;\n",
       "    }\n",
       "\n",
       "    .dataframe tbody tr th {\n",
       "        vertical-align: top;\n",
       "    }\n",
       "\n",
       "    .dataframe thead th {\n",
       "        text-align: right;\n",
       "    }\n",
       "</style>\n",
       "<table border=\"1\" class=\"dataframe\">\n",
       "  <thead>\n",
       "    <tr style=\"text-align: right;\">\n",
       "      <th></th>\n",
       "      <th>Age</th>\n",
       "    </tr>\n",
       "  </thead>\n",
       "  <tbody>\n",
       "    <tr>\n",
       "      <th>29.699118</th>\n",
       "      <td>177</td>\n",
       "    </tr>\n",
       "    <tr>\n",
       "      <th>24.000000</th>\n",
       "      <td>30</td>\n",
       "    </tr>\n",
       "    <tr>\n",
       "      <th>22.000000</th>\n",
       "      <td>27</td>\n",
       "    </tr>\n",
       "    <tr>\n",
       "      <th>18.000000</th>\n",
       "      <td>26</td>\n",
       "    </tr>\n",
       "    <tr>\n",
       "      <th>28.000000</th>\n",
       "      <td>25</td>\n",
       "    </tr>\n",
       "    <tr>\n",
       "      <th>...</th>\n",
       "      <td>...</td>\n",
       "    </tr>\n",
       "    <tr>\n",
       "      <th>55.500000</th>\n",
       "      <td>1</td>\n",
       "    </tr>\n",
       "    <tr>\n",
       "      <th>53.000000</th>\n",
       "      <td>1</td>\n",
       "    </tr>\n",
       "    <tr>\n",
       "      <th>20.500000</th>\n",
       "      <td>1</td>\n",
       "    </tr>\n",
       "    <tr>\n",
       "      <th>23.500000</th>\n",
       "      <td>1</td>\n",
       "    </tr>\n",
       "    <tr>\n",
       "      <th>0.420000</th>\n",
       "      <td>1</td>\n",
       "    </tr>\n",
       "  </tbody>\n",
       "</table>\n",
       "<p>89 rows × 1 columns</p>\n",
       "</div>"
      ],
      "text/plain": [
       "           Age\n",
       "29.699118  177\n",
       "24.000000   30\n",
       "22.000000   27\n",
       "18.000000   26\n",
       "28.000000   25\n",
       "...        ...\n",
       "55.500000    1\n",
       "53.000000    1\n",
       "20.500000    1\n",
       "23.500000    1\n",
       "0.420000     1\n",
       "\n",
       "[89 rows x 1 columns]"
      ]
     },
     "execution_count": 199,
     "metadata": {},
     "output_type": "execute_result"
    }
   ],
   "source": [
    "# age , cabin , embarked 빈도확인\n",
    "age_group = pd.DataFrame(titanic['Age'].value_counts())\n",
    "age_group"
   ]
  },
  {
   "cell_type": "code",
   "execution_count": 200,
   "metadata": {},
   "outputs": [
    {
     "data": {
      "text/plain": [
       "N              687\n",
       "B96 B98          4\n",
       "G6               4\n",
       "C23 C25 C27      4\n",
       "C22 C26          3\n",
       "              ... \n",
       "E77              1\n",
       "E31              1\n",
       "C91              1\n",
       "A24              1\n",
       "C32              1\n",
       "Name: Cabin, Length: 148, dtype: int64"
      ]
     },
     "execution_count": 200,
     "metadata": {},
     "output_type": "execute_result"
    }
   ],
   "source": [
    "# cabin 빈도 확인\n",
    "titanic['Cabin'].value_counts()"
   ]
  },
  {
   "cell_type": "code",
   "execution_count": 201,
   "metadata": {},
   "outputs": [
    {
     "data": {
      "text/plain": [
       "<matplotlib.axes._subplots.AxesSubplot at 0x202ee798518>"
      ]
     },
     "execution_count": 201,
     "metadata": {},
     "output_type": "execute_result"
    },
    {
     "data": {
      "image/png": "[encoded data removed]",
      "text/plain": [
       "<Figure size 432x288 with 1 Axes>"
      ]
     },
     "metadata": {
      "needs_background": "light"
     },
     "output_type": "display_data"
    }
   ],
   "source": [
    "# Embarked 빈도 확인\n",
    "titanic['Embarked'].value_counts()\n",
    "sns.countplot(x = 'Embarked', data = titanic)"
   ]
  },
  {
   "cell_type": "code",
   "execution_count": 202,
   "metadata": {},
   "outputs": [],
   "source": [
    "# 한글 폰트 문제 해결\n",
    "import platform\n",
    "\n",
    "from matplotlib import font_manager, rc\n",
    "# plt.rcParams['axes.unicode_minus'] = False\n",
    "\n",
    "if platform.system() == 'Darwin':\n",
    "    rc('font', family='AppleGothic')\n",
    "elif platform.system() == 'Windows':\n",
    "    path = \"c:/Windows/Fonts/malgun.ttf\"\n",
    "    font_name = font_manager.FontProperties(fname=path).get_name()\n",
    "    rc('font', family=font_name)\n",
    "else:\n",
    "    print('Unknown system... sorry~~~~') "
   ]
  },
  {
   "cell_type": "code",
   "execution_count": 203,
   "metadata": {},
   "outputs": [],
   "source": [
    "import matplotlib\n",
    "matplotlib.rcParams['axes.unicode_minus'] = False # 음수 부호 출력"
   ]
  },
  {
   "cell_type": "code",
   "execution_count": 204,
   "metadata": {},
   "outputs": [],
   "source": [
    "# 경고 메시지 무시\n",
    "import warnings\n",
    "warnings.filterwarnings(action='ignore') "
   ]
  },
  {
   "cell_type": "code",
   "execution_count": 205,
   "metadata": {},
   "outputs": [
    {
     "data": {
      "text/plain": [
       "Text(0.5, 1.0, '성별에 따른 생존 여부')"
      ]
     },
     "execution_count": 205,
     "metadata": {},
     "output_type": "execute_result"
    },
    {
     "data": {
      "image/png": "[encoded data removed]",
      "text/plain": [
       "<Figure size 432x288 with 1 Axes>"
      ]
     },
     "metadata": {
      "needs_background": "light"
     },
     "output_type": "display_data"
    }
   ],
   "source": [
    "# 성별에 따른 생존여부 확인 및 barplot를 이용한 시각화\n",
    "\n",
    "sex_group = titanic[['Sex', 'Survived']].groupby('Sex')\n",
    "sex_group.count()\n",
    "\n",
    "sns.barplot(x = 'Sex', y = 'Survived', data = titanic)\n",
    "plt.title('성별에 따른 생존 여부')"
   ]
  },
  {
   "cell_type": "code",
   "execution_count": 206,
   "metadata": {},
   "outputs": [],
   "source": [
    "# sex , cabin , embarked 에 대한 라벨 인코딩\n",
    "\n",
    "from sklearn.datasets import load_iris , load_breast_cancer\n",
    "from sklearn.tree import DecisionTreeClassifier  \n",
    "from sklearn.model_selection import GridSearchCV, train_test_split, cross_val_score, cross_validate\n",
    "from sklearn.metrics import accuracy_score\n",
    "from sklearn.preprocessing import StandardScaler\n",
    "\n",
    "from sklearn.preprocessing import LabelEncoder\n",
    "from sklearn.preprocessing import OneHotEncoder\n",
    "\n",
    "import pandas as pd\n",
    "import numpy as np"
   ]
  },
  {
   "cell_type": "code",
   "execution_count": 207,
   "metadata": {},
   "outputs": [
    {
     "name": "stdout",
     "output_type": "stream",
     "text": [
      "encoder LabelEncoder()\n",
      "encoder 결과 [1 0 0 0 1 1 1 1 0 0 0 0 1 1 0 0 1 1 0 0 1 1 0 1 0 0 1 1 0 1 1 0 0 1 1 1 1\n",
      " 1 0 0 0 0 1 0 0 1 1 0 1 0 1 1 0 0 1 1 0 1 0 1 1 0 1 1 1 1 0 1 0 1 1 0 1 1\n",
      " 1 1 1 1 1 0 1 1 0 1 0 0 1 1 0 1 1 1 1 1 1 1 1 1 0 1 0 1 1 1 1 1 0 1 1 0 1\n",
      " 0 1 0 0 1 1 1 1 0 1 1 1 0 1 1 1 1 0 1 1 1 0 0 1 1 0 1 1 1 0 0 0 1 1 1 1 0\n",
      " 1 1 1 0 1 1 1 1 0 1 1 1 1 0 1 1 1 1 0 0 1 1 1 1 0 1 1 1 1 0 1 1 0 1 1 1 0\n",
      " 1 0 1 1 1 0 1 0 1 0 0 1 1 0 0 1 1 1 1 1 0 1 1 0 1 1 0 1 1 1 0 0 1 0 1 1 1\n",
      " 1 1 1 1 1 1 1 0 0 1 1 0 1 0 1 0 1 1 0 0 1 1 1 1 0 0 1 1 1 0 1 1 0 0 0 0 0\n",
      " 0 1 1 1 1 0 1 1 1 0 0 1 1 0 1 0 0 0 1 1 0 1 1 1 1 1 1 1 1 1 0 0 0 1 0 1 1\n",
      " 1 0 1 0 0 1 1 0 1 1 0 0 1 0 0 0 0 1 1 0 0 1 0 0 1 1 0 0 1 0 1 0 0 0 0 1 1\n",
      " 1 0 1 1 0 1 1 1 0 1 1 1 0 0 0 1 1 1 1 1 1 1 1 0 0 0 0 1 1 0 1 1 1 0 0 0 0\n",
      " 1 1 1 1 0 0 0 1 1 1 0 0 1 0 1 1 1 0 1 0 1 1 1 0 0 1 0 1 1 0 1 1 0 1 0 1 1\n",
      " 1 1 0 1 1 0 1 1 0 0 0 1 0 1 1 1 0 1 1 0 0 1 1 1 0 0 1 1 0 0 0 1 1 0 1 1 0\n",
      " 1 1 0 1 0 1 1 1 1 1 1 1 1 0 0 1 1 1 1 1 1 1 1 1 1 0 1 1 0 0 0 1 1 1 1 0 1\n",
      " 1 1 0 1 0 0 1 1 1 1 1 1 1 1 1 0 1 0 1 1 0 0 0 0 1 0 1 1 1 1 1 1 0 1 1 0 1\n",
      " 0 1 0 1 1 0 1 1 0 1 1 1 0 1 1 0 0 0 1 0 1 0 0 0 0 1 1 1 0 1 1 1 1 1 1 1 0\n",
      " 1 0 1 0 0 1 1 1 1 0 1 1 0 1 1 1 0 1 0 1 1 0 0 0 1 0 0 1 1 1 0 1 1 1 1 1 0\n",
      " 1 0 1 1 0 1 1 1 0 1 1 1 1 1 1 1 0 0 0 1 0 1 1 0 1 0 0 1 1 1 1 1 1 1 1 0 1\n",
      " 1 1 1 1 1 0 0 1 1 0 1 1 0 0 1 0 1 1 1 1 0 1 0 1 0 0 1 1 0 1 1 1 1 1 1 1 1\n",
      " 1 1 1 0 0 1 1 1 1 1 1 0 0 1 0 1 1 1 1 1 1 1 1 0 1 0 1 1 1 1 1 0 1 1 0 1 0\n",
      " 1 1 1 0 1 0 1 0 1 1 1 1 1 0 0 1 1 0 1 1 1 1 1 0 0 1 0 0 1 1 1 1 1 0 1 1 1\n",
      " 1 1 0 1 1 1 1 0 1 1 0 1 1 1 0 1 1 1 1 0 1 1 1 0 1 0 1 0 1 1 1 1 0 1 0 1 1\n",
      " 0 1 0 0 0 1 1 1 1 0 1 1 1 1 1 0 1 1 1 0 0 1 0 1 0 1 1 1 1 1 0 1 0 1 1 1 0\n",
      " 1 1 0 1 1 1 0 1 1 0 1 1 1 1 1 0 0 1 1 1 1 0 1 1 1 1 1 1 0 1 1 1 1 1 1 0 1\n",
      " 1 0 0 0 0 0 1 0 1 1 1 0 0 1 0 0 1 1 1 1 0 1 1 0 0 1 1 1 0 0 1 0 1 1 0 1 0\n",
      " 0 1 1]\n"
     ]
    }
   ],
   "source": [
    "# sex 에 대한 라벨 인코딩\n",
    "encoder = LabelEncoder()\n",
    "encoder.fit(titanic.Sex)\n",
    "sex_label = encoder.transform(titanic.Sex)\n",
    "print('encoder' , encoder)\n",
    "print('encoder 결과' , sex_label)\n",
    "\n",
    "titanic['Sex'] = sex_label"
   ]
  },
  {
   "cell_type": "code",
   "execution_count": 208,
   "metadata": {},
   "outputs": [
    {
     "name": "stdout",
     "output_type": "stream",
     "text": [
      "encoder LabelEncoder()\n",
      "encoder 결과 [146  81 146  55 146 146 129 146 146 146 145  49 146 146 146 146 146 146\n",
      " 146 146 146 111 146  13 146 146 146  63 146 146 146  41 146 146 146 146\n",
      " 146 146 146 146 146 146 146 146 146 146 146 146 146 146 146 146 101 146\n",
      "  23  71 146 146 146 146 146  21  80 146 146 146 142 146 146 146 146 146\n",
      " 146 146 146 140 146 146 146 146 146 146 146 146 146 146 146 146  63 146\n",
      " 146 146 122 146 146 146  12  91 146 146 146 146  98 146 146 146 146 146\n",
      " 146 146  52 146 146 146 146 146 146 146  36 146 146 146 146 116  98 146\n",
      " 146 146 138 146 146 146 146 146 146 146 107  55 146  45 146 146 146 146\n",
      " 146 146 146 146 141 146 146  61 146 146 146 146 146 146 146 146 146 146\n",
      " 146 146 146 146 123 146 146 146  18 146 146 146  14 146 146  69 146 146\n",
      " 146 146 146 144 146   9 146 146 146 146 146 146 146 141  28  43 146 146\n",
      " 146 146 146 146 146 146 146 145 146 146 146   8 146 146 146 146 146 103\n",
      " 146 146  93 146 146 146 146 146  87 146 146 146 146 146  80 146 146 146\n",
      " 146 146 146 146 146 146 146 146 146 146 146  78 146 146 102 146 146 145\n",
      "  83 146 146 146 146  40 146 146 146 146 134  46 146 146 146 146  57  89\n",
      " 146 146 146  54 146 113 146 146 146 146 146 146 146 146   3 146 146 146\n",
      " 146 146 146  31  90 146 146 146 146  62  51  36 146 146 146 116 146  62\n",
      " 146  74 146 125  72  35 146 146 146 146 146 146  76 124 146 146 146 146\n",
      " 146  65 146  90 146  17 146  56  85 146 146 146  61 127 146 147 141  63\n",
      " 146 146 146 142 146 146 146 146 146  59 146 146 146 146 123 146 146 146\n",
      " 146 146 146 146 146 146 104 146 146  24 131 146 146 146 146 146 146  79\n",
      " 146 146 146 146 146 146 146 146 146 146 146 146  47 146 146 103 145 146\n",
      " 146 146 146 146 146 146 146 146 146 146 146 146 146 146 146 146  78 146\n",
      " 146 146 146 146 146 146 146 146 146 146 146 146 146 146 146 115  71 146\n",
      " 146 146 128  47 146 146  63 146 146 146 146 146 146  10 146 146 146  50\n",
      " 146 146  53  86 146 146 126  97 146 146 117 146 133 146 146 146 146 146\n",
      " 146 146 146 146 146  90 146   1 146 146 146 146 146 146 146 146  31 146\n",
      "  87  25 146 146 146 146  64 146 146 146  96 146  62 146 146 146 146 146\n",
      "  42  74 146 146 146 146 146 146 121 146 146 106 142 146 146 146  39 146\n",
      " 146  17 146 146 146  88 146 146 146 146 146 146 146 146  26 146 146  27\n",
      "  20 146 146 146  82 146 146 146 146 146  77 146 146 146 146 146   2 146\n",
      " 134 146 146 146 146 146 146 146 146 146 146 146 146  48 121 146 146 146\n",
      " 146 128 146 146 146  75 146   0 146 135 146  29 146 146 146  96 146 146\n",
      " 146 146 146 146 146   4 146 146 146 146 146 146 146 146 146  57 146 146\n",
      " 146 146 146 146 146 146 144 146 146  95 146 146 146 110 146 114 146 146\n",
      "   5 146  33 146 146 146 146 146 146 146 146  24 146 146 146 101 146   7\n",
      " 146 146 146 146 146 146 146 146 146 146 146 108 146 146 132 146 146 146\n",
      " 146 146 146  58 146  38 146 146 146 146 146 146 146  34 146 109 146 146\n",
      " 146 146 146 146 146  32  19 146 146 146 146 146 146 146  75 139  73 120\n",
      " 146 146 146 146 146 120 146 146  84  56  58 146 146 140  66 116 146 146\n",
      " 146 146 146 146 137 146 146 146 146 146  32 146 146 146 146 146 146  15\n",
      " 146 146 105  67  35 146 146  20 146 146 100 146 146 118 146 146 146 146\n",
      " 146 146 146  40 146 146 146  47 146  92 146 146 146 146 146 146 136 146\n",
      " 146 146 143 146 146  22 146  19 112 146 146 146 146 146 146  44 146 146\n",
      " 146 146 146 146  94 146 146 146 146 146  47 146 146 146  11 146 146 137\n",
      " 146 146 146 146 146  16 146 146 146 146  37 146 146 118 146 146 146 146\n",
      " 146  21 146 146 146 146 146 130 146 146 146  68 146 146 146 146 146 146\n",
      " 146 146 146  86 146 146 146  99 146 146 146 119 146 146 146 146  94 146\n",
      " 146 146 146   6 146 146 146 102  34 146 146 146 146 146 146  70 146 146\n",
      " 146 146 146 146 146  30 146  60 146]\n"
     ]
    }
   ],
   "source": [
    "# cabin 에 대한 라벨 인코딩\n",
    "encoder = LabelEncoder()\n",
    "encoder.fit(titanic.Cabin)\n",
    "cabin_label = encoder.transform(titanic.Cabin)\n",
    "print('encoder' , encoder)\n",
    "print('encoder 결과' , cabin_label)\n",
    "\n",
    "titanic['Cabin'] = cabin_label"
   ]
  },
  {
   "cell_type": "code",
   "execution_count": 209,
   "metadata": {},
   "outputs": [
    {
     "name": "stdout",
     "output_type": "stream",
     "text": [
      "encoder LabelEncoder()\n",
      "encoder 결과 [3 0 3 3 3 2 3 3 3 0 3 3 3 3 3 3 2 3 3 0 3 3 2 3 3 3 0 3 2 3 0 0 2 3 0 3 0\n",
      " 3 3 0 3 3 0 0 2 3 2 2 0 3 3 3 0 3 0 3 3 0 3 3 0 1 3 3 0 0 3 3 3 3 3 3 3 0\n",
      " 3 3 3 3 3 3 3 3 2 3 3 3 3 3 3 3 3 3 3 3 3 3 0 0 3 3 3 3 3 3 3 3 3 3 3 2 3\n",
      " 0 3 3 0 3 2 3 0 3 3 3 0 3 3 0 2 3 0 3 0 3 3 3 3 0 3 3 3 0 0 3 3 2 3 3 3 3\n",
      " 3 3 3 3 3 3 3 0 2 3 3 3 3 3 3 3 3 3 3 3 3 3 3 2 3 3 0 3 3 0 3 3 3 0 3 3 3\n",
      " 3 2 3 2 3 3 3 3 3 0 0 2 3 2 3 3 3 3 0 3 3 3 0 2 0 3 3 3 3 2 0 3 3 0 3 3 3\n",
      " 3 3 3 3 3 3 3 3 3 3 3 3 3 3 3 3 3 3 0 2 3 3 0 2 3 3 3 3 3 3 3 3 3 0 0 3 0\n",
      " 3 2 3 3 3 2 3 3 3 3 3 3 3 3 0 2 3 3 3 2 3 2 3 3 3 3 0 3 3 3 2 3 0 0 3 3 0\n",
      " 0 3 3 0 2 2 3 2 3 3 0 0 0 0 0 0 3 3 3 3 3 3 3 0 3 3 2 3 3 0 3 3 3 0 2 3 3\n",
      " 3 3 3 3 0 3 3 3 3 3 3 3 3 3 3 3 3 3 3 0 3 0 3 3 3 2 2 3 0 0 3 2 3 0 0 2 0\n",
      " 0 3 3 0 3 0 3 0 0 3 0 0 3 3 3 3 3 3 2 0 3 3 3 0 3 3 3 3 3 3 3 3 3 3 3 3 3\n",
      " 3 3 3 3 2 2 3 3 3 3 3 3 3 0 2 3 3 3 3 3 3 2 3 3 3 3 3 3 3 3 3 3 3 3 3 3 3\n",
      " 3 3 3 3 0 3 3 3 0 0 3 0 3 3 3 2 3 3 3 3 3 3 3 3 2 0 3 3 3 0 3 3 3 3 3 3 3\n",
      " 3 3 3 0 3 3 0 3 3 3 3 3 0 3 0 0 3 3 3 3 2 2 3 3 0 3 3 3 3 2 3 3 0 3 3 3 2\n",
      " 3 3 3 3 0 0 0 2 3 3 3 3 3 0 0 0 3 3 3 0 3 0 3 3 3 3 0 3 3 0 3 3 0 3 2 0 3\n",
      " 3 0 0 3 3 2 3 3 3 3 3 3 3 0 3 3 3 3 2 3 3 3 3 0 3 3 0 3 0 0 3 3 0 3 3 3 0\n",
      " 3 2 3 3 3 3 0 0 3 3 3 3 0 3 3 3 0 3 3 3 2 2 3 3 3 3 3 3 0 3 0 3 3 3 2 3 3\n",
      " 2 3 3 0 3 3 3 3 3 3 3 3 0 3 3 0 0 3 0 3 3 3 3 3 2 2 3 3 2 3 0 3 0 3 3 3 3\n",
      " 3 3 3 3 3 3 3 3 3 3 3 3 3 0 2 0 3 3 3 0 3 3 3 3 3 0 3 0 3 3 3 2 0 3 0 3 0\n",
      " 2 3 3 3 3 3 0 0 3 3 3 3 3 0 3 2 3 3 3 3 3 3 3 3 2 3 3 3 0 3 3 3 3 3 0 3 3\n",
      " 3 3 0 3 3 3 3 3 3 2 3 3 3 3 3 3 3 3 3 3 3 3 0 3 3 3 0 2 2 3 3 3 3 0 3 3 2\n",
      " 3 2 3 0 3 3 3 3 3 3 2 3 0 2 3 3 0 3 3 3 3 0 3 3 3 3 0 3 3 3 3 3 3 3 3 3 3\n",
      " 3 3 3 0 3 3 3 3 3 3 3 2 3 0 2 1 0 3 0 3 3 0 3 3 3 0 3 3 0 0 3 3 3 0 3 0 3\n",
      " 3 0 3 3 3 3 3 0 0 3 3 3 3 3 3 0 3 3 3 3 3 3 3 0 0 3 3 3 0 3 3 3 3 3 2 3 3\n",
      " 3 0 2]\n"
     ]
    }
   ],
   "source": [
    "# embarked 에 대한 라벨 인코딩\n",
    "encoder = LabelEncoder()\n",
    "encoder.fit(titanic.Embarked)\n",
    "embarked_label = encoder.transform(titanic.Embarked)\n",
    "print('encoder' , encoder)\n",
    "print('encoder 결과' , embarked_label)\n",
    "\n",
    "titanic['Embarked'] = embarked_label"
   ]
  },
  {
   "cell_type": "markdown",
   "metadata": {},
   "source": [
    "#### ML학습"
   ]
  },
  {
   "cell_type": "code",
   "execution_count": 238,
   "metadata": {
    "scrolled": true
   },
   "outputs": [
    {
     "data": {
      "text/html": [
       "<div>\n",
       "<style scoped>\n",
       "    .dataframe tbody tr th:only-of-type {\n",
       "        vertical-align: middle;\n",
       "    }\n",
       "\n",
       "    .dataframe tbody tr th {\n",
       "        vertical-align: top;\n",
       "    }\n",
       "\n",
       "    .dataframe thead th {\n",
       "        text-align: right;\n",
       "    }\n",
       "</style>\n",
       "<table border=\"1\" class=\"dataframe\">\n",
       "  <thead>\n",
       "    <tr style=\"text-align: right;\">\n",
       "      <th></th>\n",
       "      <th>Survived</th>\n",
       "      <th>Pclass</th>\n",
       "      <th>Sex</th>\n",
       "      <th>Age</th>\n",
       "      <th>SibSp</th>\n",
       "      <th>Parch</th>\n",
       "      <th>Fare</th>\n",
       "      <th>Cabin</th>\n",
       "      <th>Embarked</th>\n",
       "    </tr>\n",
       "  </thead>\n",
       "  <tbody>\n",
       "    <tr>\n",
       "      <th>0</th>\n",
       "      <td>0</td>\n",
       "      <td>3</td>\n",
       "      <td>1</td>\n",
       "      <td>22.000000</td>\n",
       "      <td>1</td>\n",
       "      <td>0</td>\n",
       "      <td>7.2500</td>\n",
       "      <td>146</td>\n",
       "      <td>3</td>\n",
       "    </tr>\n",
       "    <tr>\n",
       "      <th>1</th>\n",
       "      <td>1</td>\n",
       "      <td>1</td>\n",
       "      <td>0</td>\n",
       "      <td>38.000000</td>\n",
       "      <td>1</td>\n",
       "      <td>0</td>\n",
       "      <td>71.2833</td>\n",
       "      <td>81</td>\n",
       "      <td>0</td>\n",
       "    </tr>\n",
       "    <tr>\n",
       "      <th>2</th>\n",
       "      <td>1</td>\n",
       "      <td>3</td>\n",
       "      <td>0</td>\n",
       "      <td>26.000000</td>\n",
       "      <td>0</td>\n",
       "      <td>0</td>\n",
       "      <td>7.9250</td>\n",
       "      <td>146</td>\n",
       "      <td>3</td>\n",
       "    </tr>\n",
       "    <tr>\n",
       "      <th>3</th>\n",
       "      <td>1</td>\n",
       "      <td>1</td>\n",
       "      <td>0</td>\n",
       "      <td>35.000000</td>\n",
       "      <td>1</td>\n",
       "      <td>0</td>\n",
       "      <td>53.1000</td>\n",
       "      <td>55</td>\n",
       "      <td>3</td>\n",
       "    </tr>\n",
       "    <tr>\n",
       "      <th>4</th>\n",
       "      <td>0</td>\n",
       "      <td>3</td>\n",
       "      <td>1</td>\n",
       "      <td>35.000000</td>\n",
       "      <td>0</td>\n",
       "      <td>0</td>\n",
       "      <td>8.0500</td>\n",
       "      <td>146</td>\n",
       "      <td>3</td>\n",
       "    </tr>\n",
       "    <tr>\n",
       "      <th>...</th>\n",
       "      <td>...</td>\n",
       "      <td>...</td>\n",
       "      <td>...</td>\n",
       "      <td>...</td>\n",
       "      <td>...</td>\n",
       "      <td>...</td>\n",
       "      <td>...</td>\n",
       "      <td>...</td>\n",
       "      <td>...</td>\n",
       "    </tr>\n",
       "    <tr>\n",
       "      <th>886</th>\n",
       "      <td>0</td>\n",
       "      <td>2</td>\n",
       "      <td>1</td>\n",
       "      <td>27.000000</td>\n",
       "      <td>0</td>\n",
       "      <td>0</td>\n",
       "      <td>13.0000</td>\n",
       "      <td>146</td>\n",
       "      <td>3</td>\n",
       "    </tr>\n",
       "    <tr>\n",
       "      <th>887</th>\n",
       "      <td>1</td>\n",
       "      <td>1</td>\n",
       "      <td>0</td>\n",
       "      <td>19.000000</td>\n",
       "      <td>0</td>\n",
       "      <td>0</td>\n",
       "      <td>30.0000</td>\n",
       "      <td>30</td>\n",
       "      <td>3</td>\n",
       "    </tr>\n",
       "    <tr>\n",
       "      <th>888</th>\n",
       "      <td>0</td>\n",
       "      <td>3</td>\n",
       "      <td>0</td>\n",
       "      <td>29.699118</td>\n",
       "      <td>1</td>\n",
       "      <td>2</td>\n",
       "      <td>23.4500</td>\n",
       "      <td>146</td>\n",
       "      <td>3</td>\n",
       "    </tr>\n",
       "    <tr>\n",
       "      <th>889</th>\n",
       "      <td>1</td>\n",
       "      <td>1</td>\n",
       "      <td>1</td>\n",
       "      <td>26.000000</td>\n",
       "      <td>0</td>\n",
       "      <td>0</td>\n",
       "      <td>30.0000</td>\n",
       "      <td>60</td>\n",
       "      <td>0</td>\n",
       "    </tr>\n",
       "    <tr>\n",
       "      <th>890</th>\n",
       "      <td>0</td>\n",
       "      <td>3</td>\n",
       "      <td>1</td>\n",
       "      <td>32.000000</td>\n",
       "      <td>0</td>\n",
       "      <td>0</td>\n",
       "      <td>7.7500</td>\n",
       "      <td>146</td>\n",
       "      <td>2</td>\n",
       "    </tr>\n",
       "  </tbody>\n",
       "</table>\n",
       "<p>891 rows × 9 columns</p>\n",
       "</div>"
      ],
      "text/plain": [
       "     Survived  Pclass  Sex        Age  SibSp  Parch     Fare  Cabin  Embarked\n",
       "0           0       3    1  22.000000      1      0   7.2500    146         3\n",
       "1           1       1    0  38.000000      1      0  71.2833     81         0\n",
       "2           1       3    0  26.000000      0      0   7.9250    146         3\n",
       "3           1       1    0  35.000000      1      0  53.1000     55         3\n",
       "4           0       3    1  35.000000      0      0   8.0500    146         3\n",
       "..        ...     ...  ...        ...    ...    ...      ...    ...       ...\n",
       "886         0       2    1  27.000000      0      0  13.0000    146         3\n",
       "887         1       1    0  19.000000      0      0  30.0000     30         3\n",
       "888         0       3    0  29.699118      1      2  23.4500    146         3\n",
       "889         1       1    1  26.000000      0      0  30.0000     60         0\n",
       "890         0       3    1  32.000000      0      0   7.7500    146         2\n",
       "\n",
       "[891 rows x 9 columns]"
      ]
     },
     "execution_count": 238,
     "metadata": {},
     "output_type": "execute_result"
    }
   ],
   "source": [
    "from sklearn import preprocessing\n",
    "from sklearn.datasets import load_iris\n",
    "from sklearn.tree import DecisionTreeClassifier\n",
    "from sklearn.model_selection import train_test_split\n",
    "import pandas as pd\n",
    "import numpy as np\n",
    "\n",
    "# 원본 데이터를 재로딩하고, feature 데이터 셋과 Label 데이터 셋 추출.\n",
    "titanic"
   ]
  },
  {
   "cell_type": "code",
   "execution_count": 243,
   "metadata": {},
   "outputs": [],
   "source": [
    "y_titanic_df= titanic['Survived']\n",
    "X_titanic_df=titanic.drop('Survived' , axis=1)"
   ]
  },
  {
   "cell_type": "code",
   "execution_count": 244,
   "metadata": {},
   "outputs": [],
   "source": [
    "# 데이터 분리\n",
    "X_train , X_test , y_train , y_test = train_test_split( X_titanic_df , y_titanic_df , \n",
    "                                                       test_size=0.2 , \n",
    "                                                       random_state=11)"
   ]
  },
  {
   "cell_type": "code",
   "execution_count": 245,
   "metadata": {
    "scrolled": true
   },
   "outputs": [],
   "source": [
    "# 학습기 생성\n",
    "titanic_clf = DecisionTreeClassifier(random_state=11)"
   ]
  },
  {
   "cell_type": "code",
   "execution_count": 246,
   "metadata": {
    "scrolled": false
   },
   "outputs": [
    {
     "data": {
      "text/plain": [
       "DecisionTreeClassifier(random_state=11)"
      ]
     },
     "execution_count": 246,
     "metadata": {},
     "output_type": "execute_result"
    }
   ],
   "source": [
    "# 학습 수행\n",
    "titanic_clf.fit(X_train, y_train)"
   ]
  },
  {
   "cell_type": "code",
   "execution_count": 247,
   "metadata": {},
   "outputs": [
    {
     "name": "stdout",
     "output_type": "stream",
     "text": [
      "예측 정확도 : 0.7989\n"
     ]
    }
   ],
   "source": [
    "# 예측 수행\n",
    "pred = titanic_clf.predict(X_test)\n",
    "print('예측 정확도 : {0:.4f}'.format(accuracy_score(y_test, pred)))"
   ]
  },
  {
   "cell_type": "code",
   "execution_count": 257,
   "metadata": {},
   "outputs": [
    {
     "name": "stdout",
     "output_type": "stream",
     "text": [
      "교차 검증 0 정확도: 0.7486\n",
      "평균 정확도: 0.7486\n",
      "교차 검증 1 정확도: 0.7640\n",
      "평균 정확도: 0.7563\n",
      "교차 검증 2 정확도: 0.8202\n",
      "평균 정확도: 0.7776\n",
      "교차 검증 3 정확도: 0.7809\n",
      "평균 정확도: 0.7784\n",
      "교차 검증 4 정확도: 0.7921\n",
      "평균 정확도: 0.7812\n"
     ]
    }
   ],
   "source": [
    "from sklearn.model_selection import KFold\n",
    "\n",
    "def exec_kfold(clf, folds=5):\n",
    "    # 폴드 세트를 5개인 KFold 객체를 생성, 폴드 수만큼 예측 결과 저장을 위한 리스트 객체 생성.\n",
    "    kfold = KFold(n_splits=folds)\n",
    "    \n",
    "    scores = []\n",
    "\n",
    "    # kFold 교차 검증 수행\n",
    "\n",
    "    for iter_count, (train_index, test_index) in enumerate(kfold.split(X_titanic_df)):\n",
    "\n",
    "        # X_titanic_df 데이터에서 교차 검증별로 학습과 검증 데이터를 가리키는 index 생성\n",
    "        X_train , X_test = X_titanic_df.values[train_index], X_titanic_df.values[test_index]\n",
    "        y_train , y_test = y_titanic_df.values[train_index], y_titanic_df.values[test_index]\n",
    "\n",
    "        #Classifier 학습, 예측, 정확도 계산\n",
    "        clf.fit(X_train, y_train)\n",
    "        predictions = clf.predict(X_test)\n",
    "        accuracy = accuracy_score(y_test , predictions)\n",
    "        scores.append(accuracy)\n",
    "        print(\"교차 검증 {0} 정확도: {1:.4f}\".format(iter_count, accuracy))\n",
    "\n",
    "        # 5개의 fold에서의 평균 정확도 계산\n",
    "        mean_score = np.mean(scores)\n",
    "        print(\"평균 정확도: {0:.4f}\".format(mean_score))\n",
    "\n",
    "#exec_kfold 호출\n",
    "exec_kfold(titanic_clf, folds=5)"
   ]
  },
  {
   "cell_type": "code",
   "execution_count": 262,
   "metadata": {},
   "outputs": [
    {
     "name": "stdout",
     "output_type": "stream",
     "text": [
      "교차 검증 0 정확도: 0.7486\n",
      "교차 검증 1 정확도: 0.7753\n",
      "교차 검증 2 정확도: 0.8090\n",
      "교차 검증 3 정확도: 0.7584\n",
      "교차 검증 4 정확도: 0.8034\n",
      "평균 정확도: 0.7789\n"
     ]
    }
   ],
   "source": [
    "# cross_val_score 를 이용한 교차검증 및 평균정확도 확인\n",
    "\n",
    "from sklearn.model_selection import cross_val_score\n",
    "\n",
    "scores = cross_val_score(titanic_clf, X_titanic_df, y_titanic_df, cv=5)\n",
    "for iter_count, accuracy in enumerate(scores):\n",
    "    print(\"교차 검증 {0} 정확도: {1:.4f}\".format(iter_count, accuracy))\n",
    "\n",
    "print(\"평균 정확도: {0:.4f}\".format(np.mean(scores)))"
   ]
  },
  {
   "cell_type": "code",
   "execution_count": 269,
   "metadata": {},
   "outputs": [
    {
     "name": "stdout",
     "output_type": "stream",
     "text": [
      "GridSearchCV 최적 하이퍼 파라미터 : {'max_depth': 5, 'min_samples_leaf': 1, 'min_samples_split': 5}\n",
      "GridSearchCV 최고 정확도 : 0.7993\n",
      "테스트 세트에서의 DecisionTreeClassifier 정확도 : 0.8659\n"
     ]
    }
   ],
   "source": [
    "from sklearn.model_selection import GridSearchCV\n",
    "from sklearn.metrics import accuracy_score\n",
    "\n",
    "parameters = {'max_depth' : [2,3, 5, 10],\n",
    "              'min_samples_split':[2,3,5], 'min_samples_leaf':[1,5,8]}\n",
    "\n",
    "grid_dclf = GridSearchCV(titanic_clf, param_grid=parameters, scoring='accuracy', cv=5)\n",
    "grid_dclf.fit(X_train, y_train)\n",
    "\n",
    "print('GridSearchCV 최적 하이퍼 파라미터 :' , grid_dclf.best_params_)\n",
    "print('GridSearchCV 최고 정확도 : {0:.4f}'.format(grid_dclf.best_score_))\n",
    "best_dclf = grid_dclf.best_estimator_\n",
    "\n",
    "# GridSearchCV의 최적 하이퍼 파라미터로 학습된 Estimator로 예측 및 평가 수행\n",
    "dpredictions = best_dclf.predict(X_test)\n",
    "accuracy = accuracy_score(y_test, dpredictions)\n",
    "print('테스트 세트에서의 DecisionTreeClassifier 정확도 : {0:.4f}'.format(accuracy))"
   ]
  }
 ],
 "metadata": {
  "kernelspec": {
   "display_name": "Python 3",
   "language": "python",
   "name": "python3"
  },
  "language_info": {
   "codemirror_mode": {
    "name": "ipython",
    "version": 3
   },
   "file_extension": ".py",
   "mimetype": "text/x-python",
   "name": "python",
   "nbconvert_exporter": "python",
   "pygments_lexer": "ipython3",
   "version": "3.6.10"
  }
 },
 "nbformat": 4,
 "nbformat_minor": 4
}
