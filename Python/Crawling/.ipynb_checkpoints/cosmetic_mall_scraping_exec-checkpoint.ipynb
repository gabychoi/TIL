{
 "cells": [
  {
   "cell_type": "code",
   "execution_count": 2,
   "metadata": {},
   "outputs": [],
   "source": [
    "import requests\n",
    "from bs4 import BeautifulSoup\n",
    "\n",
    "url = \"https://www.skinbolic.co.kr/basicline\"\n",
    "result = requests.get(url)\n",
    "\n",
    "bs_obj = BeautifulSoup(result.content, \"html.parser\")\n"
   ]
  },
  {
   "cell_type": "code",
   "execution_count": 3,
   "metadata": {},
   "outputs": [
    {
     "name": "stdout",
     "output_type": "stream",
     "text": [
      "<h2>레 데마끼앙 1000ml</h2>\n",
      "<p class=\"pay no-margin\" style=\"\">91,000원</p>\n",
      "<h2>로션 토닉 로즈 1000ml</h2>\n",
      "<p class=\"pay no-margin\" style=\"\">91,000원</p>\n",
      "<h2>베이스 테크니컬 크림 1000ml</h2>\n",
      "<p class=\"pay no-margin\" style=\"\">91,000원</p>\n",
      "<h2>오 엑스폴리앙 500ml</h2>\n",
      "<p class=\"pay no-margin\" style=\"\">91,000원</p>\n",
      "<h2>비타민 폼 150ml</h2>\n",
      "<p class=\"pay no-margin\" style=\"\">50,000원</p>\n"
     ]
    }
   ],
   "source": [
    "# 가격, 제품명 추출\n",
    "items = bs_obj.findAll(\"div\", {\"class\":\"shop-item _shop_item\"})\n",
    "\n",
    "for item in items :\n",
    "    div = item.find(\"div\", {\"class\":\"item-pay\"})\n",
    "    h2 = div.find(\"h2\")\n",
    "    print(h2)\n",
    "    ptag = item.find(\"p\", {\"class\":\"pay no-margin\"})\n",
    "    print(ptag)\n",
    "    \n",
    "    \n",
    "\n",
    "    "
   ]
  }
 ],
 "metadata": {
  "kernelspec": {
   "display_name": "Python 3",
   "language": "python",
   "name": "python3"
  },
  "language_info": {
   "codemirror_mode": {
    "name": "ipython",
    "version": 3
   },
   "file_extension": ".py",
   "mimetype": "text/x-python",
   "name": "python",
   "nbconvert_exporter": "python",
   "pygments_lexer": "ipython3",
   "version": "3.8.3"
  }
 },
 "nbformat": 4,
 "nbformat_minor": 2
}
