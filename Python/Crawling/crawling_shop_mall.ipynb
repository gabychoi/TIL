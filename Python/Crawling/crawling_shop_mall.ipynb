{
 "cells": [
  {
   "cell_type": "code",
   "execution_count": 44,
   "metadata": {},
   "outputs": [
    {
     "data": {
      "text/plain": [
       "<selenium.webdriver.chrome.webdriver.WebDriver (session=\"1ee67c1dca005badb0c06e468fbf3d0c\")>"
      ]
     },
     "execution_count": 44,
     "metadata": {},
     "output_type": "execute_result"
    }
   ],
   "source": [
    "from selenium import webdriver\n",
    "import time\n",
    "path = './driver/chromedriver.exe'\n",
    "driver = webdriver.Chrome(path)\n",
    "driver"
   ]
  },
  {
   "cell_type": "code",
   "execution_count": 45,
   "metadata": {},
   "outputs": [
    {
     "name": "stdout",
     "output_type": "stream",
     "text": [
      "72\n"
     ]
    }
   ],
   "source": [
    "details_list = []\n",
    "for page in range(1,9) :\n",
    "    url = 'https://www.ildong.com/kor/product/list.id?page='+str(page)+'&halt=&prdDisease=&prdCategory=5&searchVal=&searchOption=0'\n",
    "    driver.get(url)\n",
    "#     elements = driver.find_elements_by_css_selector('div.productBox > div.prCnt > div.prList > ul > li')\n",
    "#     elements\n",
    "    prList= driver.find_element_by_class_name('prList')\n",
    "    a_tag = prList.find_elements_by_tag_name('a')\n",
    "\n",
    "    for idx in range(0,9) :\n",
    "        a_tag[idx].click()\n",
    "        detail = driver.find_element_by_class_name('detailCnt2')\n",
    "#         print(detail.text)\n",
    "        \n",
    "        details_list.append(detail.text)\n",
    "        driver.back()\n",
    "        prList= driver.find_element_by_class_name('prList')\n",
    "        a_tag = prList.find_elements_by_tag_name('a')\n",
    "        time.sleep(5)\n",
    "        \n",
    "print(len(details_list))\n"
   ]
  },
  {
   "cell_type": "markdown",
   "metadata": {},
   "source": [
    "- id : contents\n",
    "- class : prList\n",
    "- tag : a"
   ]
  },
  {
   "cell_type": "code",
   "execution_count": 24,
   "metadata": {},
   "outputs": [
    {
     "name": "stdout",
     "output_type": "stream",
     "text": [
      "[<selenium.webdriver.remote.webelement.WebElement (session=\"29d8a684b9709fd7d332cd3ec5f6727c\", element=\"b10aaaf2-1323-4deb-8d8f-446436557c9a\")>, <selenium.webdriver.remote.webelement.WebElement (session=\"29d8a684b9709fd7d332cd3ec5f6727c\", element=\"c3cee969-5d0e-49f4-ab94-8a13f55bdea5\")>, <selenium.webdriver.remote.webelement.WebElement (session=\"29d8a684b9709fd7d332cd3ec5f6727c\", element=\"72929467-dd2b-4f68-966c-665af00be0ed\")>, <selenium.webdriver.remote.webelement.WebElement (session=\"29d8a684b9709fd7d332cd3ec5f6727c\", element=\"79b51b2d-d65f-47c9-8b3a-6a7ebe187527\")>, <selenium.webdriver.remote.webelement.WebElement (session=\"29d8a684b9709fd7d332cd3ec5f6727c\", element=\"d0a0c223-5480-42c1-88de-64b4929d14eb\")>, <selenium.webdriver.remote.webelement.WebElement (session=\"29d8a684b9709fd7d332cd3ec5f6727c\", element=\"e4a010db-c6ab-41ea-9b3a-c40ccc2d4124\")>, <selenium.webdriver.remote.webelement.WebElement (session=\"29d8a684b9709fd7d332cd3ec5f6727c\", element=\"dfe683a6-8b4f-40df-a7d3-97a5d99b9a5c\")>, <selenium.webdriver.remote.webelement.WebElement (session=\"29d8a684b9709fd7d332cd3ec5f6727c\", element=\"c5201ce3-50fd-474c-b300-466a0d30af1a\")>, <selenium.webdriver.remote.webelement.WebElement (session=\"29d8a684b9709fd7d332cd3ec5f6727c\", element=\"b8243588-7f87-4c83-8e01-90c31d07c45b\")>]\n",
      "https://www.ildong.com/kor/product/view.id?prdSeq=1210\n",
      "https://www.ildong.com/kor/product/view.id?prdSeq=2801\n",
      "https://www.ildong.com/kor/product/view.id?prdSeq=1212\n",
      "https://www.ildong.com/kor/product/view.id?prdSeq=2861\n",
      "https://www.ildong.com/kor/product/view.id?prdSeq=1263\n",
      "https://www.ildong.com/kor/product/view.id?prdSeq=2875\n",
      "https://www.ildong.com/kor/product/view.id?prdSeq=2862\n",
      "https://www.ildong.com/kor/product/view.id?prdSeq=2725\n",
      "https://www.ildong.com/kor/product/view.id?prdSeq=3082\n"
     ]
    }
   ],
   "source": [
    "# 테스트\n",
    "url = 'https://www.ildong.com/kor/product/list.id?page=1&halt=&prdDisease=&prdCategory=5&searchVal=&searchOption=0'\n",
    "elements = driver.find_elements_by_css_selector('div.productBox > div.prCnt > div.prList > ul > li')\n",
    "print(elements)\n",
    "\n",
    "for element in elements :\n",
    "    link = element.find_element_by_tag_name('a').get_attribute('href')\n",
    "    a_tag = element.find.element_by_tag)man\n",
    "    print(link)"
   ]
  },
  {
   "cell_type": "code",
   "execution_count": 68,
   "metadata": {},
   "outputs": [
    {
     "data": {
      "text/plain": [
       "<selenium.webdriver.chrome.webdriver.WebDriver (session=\"128108346134c8e86d61a5bbce1d775e\")>"
      ]
     },
     "execution_count": 68,
     "metadata": {},
     "output_type": "execute_result"
    }
   ],
   "source": [
    "from selenium import webdriver\n",
    "import time \n",
    "path = './driver/chromedriver.exe'\n",
    "driver = webdriver.Chrome(path)\n",
    "driver"
   ]
  },
  {
   "cell_type": "code",
   "execution_count": 106,
   "metadata": {},
   "outputs": [
    {
     "name": "stdout",
     "output_type": "stream",
     "text": [
      "['https://cdn.imweb.me/thumbnail/20190529/5cee0cdd4e59b.jpg', 'https://cdn.imweb.me/thumbnail/20190529/5cee0cdd73816.jpg', 'https://cdn.imweb.me/thumbnail/20190529/5cee0cdda0f22.jpg', 'https://cdn.imweb.me/thumbnail/20200805/f8a6175fe7dfb.jpg', 'https://cdn.imweb.me/thumbnail/20190529/5cee0cdd26b73.jpg']\n"
     ]
    }
   ],
   "source": [
    "img_list = []\n",
    "\n",
    "driver.get('https://www.skinbolic.co.kr/basicline')\n",
    "\n",
    "# product = driver.find_elements_by_css_selector('div.shop-item _shop_item > div.item-wrap > a')\n",
    "items = driver.find_elements_by_css_selector('div.item-wrap')\n",
    "# print(len(items))\n",
    "\n",
    "for item in items :    \n",
    "    img = item.find_element_by_tag_name('img').get_attribute('src')\n",
    "    img_list.append(img)\n",
    "    \n",
    "print(img_list)\n",
    "\n",
    "\n",
    "\n",
    "\n",
    "\n",
    "\n"
   ]
  },
  {
   "cell_type": "code",
   "execution_count": 108,
   "metadata": {},
   "outputs": [
    {
     "ename": "TypeError",
     "evalue": "string indices must be integers",
     "output_type": "error",
     "traceback": [
      "\u001b[1;31m---------------------------------------------------------------------------\u001b[0m",
      "\u001b[1;31mTypeError\u001b[0m                                 Traceback (most recent call last)",
      "\u001b[1;32m<ipython-input-108-2fb3c16c65ac>\u001b[0m in \u001b[0;36m<module>\u001b[1;34m()\u001b[0m\n\u001b[0;32m      1\u001b[0m \u001b[0mcnt\u001b[0m \u001b[1;33m=\u001b[0m \u001b[1;36m1\u001b[0m\u001b[1;33m\u001b[0m\u001b[0m\n\u001b[0;32m      2\u001b[0m \u001b[1;32mfor\u001b[0m \u001b[0mi\u001b[0m \u001b[1;32min\u001b[0m \u001b[0mimg\u001b[0m \u001b[1;33m:\u001b[0m\u001b[1;33m\u001b[0m\u001b[0m\n\u001b[1;32m----> 3\u001b[1;33m     \u001b[0mimgUrl\u001b[0m \u001b[1;33m=\u001b[0m \u001b[0mi\u001b[0m\u001b[1;33m[\u001b[0m\u001b[1;34m'data-source'\u001b[0m\u001b[1;33m]\u001b[0m\u001b[1;33m\u001b[0m\u001b[0m\n\u001b[0m\u001b[0;32m      4\u001b[0m     \u001b[0mprint\u001b[0m\u001b[1;33m(\u001b[0m\u001b[0mimgUrl\u001b[0m\u001b[1;33m)\u001b[0m\u001b[1;33m\u001b[0m\u001b[0m\n\u001b[0;32m      5\u001b[0m     \u001b[1;32mwith\u001b[0m \u001b[0murlopen\u001b[0m\u001b[1;33m(\u001b[0m\u001b[0mimgUrl\u001b[0m\u001b[1;33m)\u001b[0m \u001b[1;32mas\u001b[0m \u001b[0mfile\u001b[0m \u001b[1;33m:\u001b[0m\u001b[1;33m\u001b[0m\u001b[0m\n",
      "\u001b[1;31mTypeError\u001b[0m: string indices must be integers"
     ]
    }
   ],
   "source": [
    "cnt = 1\n",
    "for i in img :\n",
    "    imgUrl = i['data-source']\n",
    "    print(imgUrl)\n",
    "    with urlopen(imgUrl) as file :\n",
    "        with open('./images/'+str(cnt)+'.jpg' , 'wb') as imgFile :\n",
    "            temp = file.read()\n",
    "            imgFile.write(temp)        \n",
    "    \n",
    "    cnt += 1\n",
    "    if cnt > imgCnt :\n",
    "        break\n",
    "\n",
    "print('Image download success')"
   ]
  },
  {
   "cell_type": "code",
   "execution_count": null,
   "metadata": {},
   "outputs": [],
   "source": [
    "details_list = []\n",
    "for page in range(1,9) :\n",
    "    url = 'https://www.ildong.com/kor/product/list.id?page='+str(page)+'&halt=&prdDisease=&prdCategory=5&searchVal=&searchOption=0'\n",
    "    driver.get(url)\n",
    "#     elements = driver.find_elements_by_css_selector('div.productBox > div.prCnt > div.prList > ul > li')\n",
    "#     elements\n",
    "    prList= driver.find_element_by_class_name('prList')\n",
    "    a_tag = prList.find_elements_by_tag_name('a')\n",
    "\n",
    "    for idx in range(0,9) :\n",
    "        a_tag[idx].click()\n",
    "        detail = driver.find_element_by_class_name('detailCnt2')\n",
    "#         print(detail.text)\n",
    "        \n",
    "        details_list.append(detail.text)\n",
    "        driver.back()\n",
    "        prList= driver.find_element_by_class_name('prList')\n",
    "        a_tag = prList.find_elements_by_tag_name('a')\n",
    "        time.sleep(5)\n",
    "        \n",
    "print(len(details_list))"
   ]
  }
 ],
 "metadata": {
  "kernelspec": {
   "display_name": "Python 3",
   "language": "python",
   "name": "python3"
  },
  "language_info": {
   "codemirror_mode": {
    "name": "ipython",
    "version": 3
   },
   "file_extension": ".py",
   "mimetype": "text/x-python",
   "name": "python",
   "nbconvert_exporter": "python",
   "pygments_lexer": "ipython3",
   "version": "3.8.3"
  }
 },
 "nbformat": 4,
 "nbformat_minor": 2
}
