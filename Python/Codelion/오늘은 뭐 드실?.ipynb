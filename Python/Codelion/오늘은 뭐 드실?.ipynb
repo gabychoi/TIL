{
 "cells": [
  {
   "cell_type": "code",
   "execution_count": 2,
   "metadata": {},
   "outputs": [
    {
     "name": "stdout",
     "output_type": "stream",
     "text": [
      "라면\n",
      "떡볶이\n",
      "된장찌개\n",
      "라면\n",
      "된장찌개\n",
      "치킨\n",
      "된장찌개\n",
      "라면\n",
      "제육볶음\n",
      "제육볶음\n",
      "라면\n",
      "치킨\n",
      "라면\n",
      "제육볶음\n",
      "치킨\n",
      "된장찌개\n",
      "떡볶이\n",
      "라면\n",
      "라면\n",
      "된장찌개\n",
      "떡볶이\n",
      "제육볶음\n",
      "떡볶이\n",
      "치킨\n",
      "라면\n",
      "떡볶이\n",
      "제육볶음\n",
      "떡볶이\n",
      "치킨\n",
      "된장찌개\n"
     ]
    }
   ],
   "source": [
    "import random\n",
    "\n",
    "for x in range(30):\n",
    "    print(random.choice([\"된장찌개\",\"제육볶음\",\"치킨\",\"떡볶이\",\"라면\"]))"
   ]
  },
  {
   "cell_type": "code",
   "execution_count": null,
   "metadata": {},
   "outputs": [],
   "source": []
  }
 ],
 "metadata": {
  "kernelspec": {
   "display_name": "Python 3",
   "language": "python",
   "name": "python3"
  },
  "language_info": {
   "codemirror_mode": {
    "name": "ipython",
    "version": 3
   },
   "file_extension": ".py",
   "mimetype": "text/x-python",
   "name": "python",
   "nbconvert_exporter": "python",
   "pygments_lexer": "ipython3",
   "version": "3.8.3"
  }
 },
 "nbformat": 4,
 "nbformat_minor": 4
}
