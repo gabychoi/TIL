{
 "cells": [
  {
   "cell_type": "code",
   "execution_count": 41,
   "metadata": {
    "scrolled": false
   },
   "outputs": [
    {
     "name": "stdout",
     "output_type": "stream",
     "text": [
      "Anna:95\n",
      "Minsu:80\n"
     ]
    }
   ],
   "source": [
    "f=open('/Users/HojinChoi/Desktop/github/TIL/Python/Python_basic/abc.txt')\n",
    "lineList=f.readlines()\n",
    "\n",
    "for line in lineList:\n",
    "    line = line.replace(\"\\n\",\"\")\n",
    "    newline = line.split(\":\")\n",
    "    score = int(newline[1])\n",
    "\n",
    "    if score >=80:\n",
    "        print(line)"
   ]
  }
 ],
 "metadata": {
  "kernelspec": {
   "display_name": "Python 3",
   "language": "python",
   "name": "python3"
  },
  "language_info": {
   "codemirror_mode": {
    "name": "ipython",
    "version": 3
   },
   "file_extension": ".py",
   "mimetype": "text/x-python",
   "name": "python",
   "nbconvert_exporter": "python",
   "pygments_lexer": "ipython3",
   "version": "3.8.3"
  }
 },
 "nbformat": 4,
 "nbformat_minor": 4
}
