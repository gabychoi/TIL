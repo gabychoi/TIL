{
 "cells": [
  {
   "cell_type": "markdown",
   "metadata": {},
   "source": [
    "# Pandas"
   ]
  },
  {
   "cell_type": "markdown",
   "metadata": {},
   "source": [
    "- 분석하려는 데이터는 대부분 시계열(Series) 이거나, 표(table) 형태로 정의해야 한다.\n",
    "- Series 클래스와 DataFrame 클래스를 제공한다. / Series는 벡터, DataFrame 배열(행렬)\n",
    "- Numpy 수행 속도가 빠름"
   ]
  },
  {
   "cell_type": "code",
   "execution_count": 3,
   "metadata": {},
   "outputs": [],
   "source": [
    "import pandas as pd\n",
    "import numpy as np\n",
    "import matplotlib.pyplot as plt"
   ]
  },
  {
   "cell_type": "markdown",
   "metadata": {},
   "source": [
    "## Series 클래스\n",
    "- 넘차이의 1차원 배열과 비슷하지만 , pandes는 각 데이터의 의미를 표시하는 인덱스로 붙일 수 있다.\n",
    "- series = index + value"
   ]
  },
  {
   "cell_type": "code",
   "execution_count": 8,
   "metadata": {},
   "outputs": [
    {
     "name": "stdout",
     "output_type": "stream",
     "text": [
      "[1 2 3 4 'jslim']\n",
      "object\n"
     ]
    }
   ],
   "source": [
    "# series 와 numpy array 비교\n",
    "arr = np.array([1,2,3,4,'jslim'] , dtype=np.object)\n",
    "print(arr)\n",
    "print(arr.dtype)"
   ]
  },
  {
   "cell_type": "code",
   "execution_count": 15,
   "metadata": {},
   "outputs": [
    {
     "name": "stdout",
     "output_type": "stream",
     "text": [
      "0    1.0\n",
      "1    2.0\n",
      "2    3.0\n",
      "3    4.0\n",
      "dtype: float64\n",
      "[1. 2. 3. 4.]\n",
      "<class 'numpy.ndarray'>\n",
      "RangeIndex(start=0, stop=4, step=1)\n",
      "<class 'pandas.core.indexes.range.RangeIndex'>\n"
     ]
    }
   ],
   "source": [
    "s = pd.Series([1,2,3,4] , dtype=np.float64)\n",
    "print(s)\n",
    "print(s.values)\n",
    "print(type(s.values))\n",
    "print(s.index)\n",
    "print(type(s.index))"
   ]
  },
  {
   "cell_type": "code",
   "execution_count": 17,
   "metadata": {},
   "outputs": [],
   "source": [
    "def serieInfo(s) :\n",
    "    print('value :' , s.values)\n",
    "    print('value type :' , type(s.values))\n",
    "    print('index : ' , s.index)\n",
    "    print('index type :' , type(s.index))\n",
    "    print('index + value : ' , s)"
   ]
  },
  {
   "cell_type": "code",
   "execution_count": 22,
   "metadata": {},
   "outputs": [
    {
     "name": "stdout",
     "output_type": "stream",
     "text": [
      "value : [344234  23423   3453  45674]\n",
      "value type : <class 'numpy.ndarray'>\n",
      "index :  Int64Index([0, 1, 2, 3], dtype='int64')\n",
      "index type : <class 'pandas.core.indexes.numeric.Int64Index'>\n",
      "index + value :  0    344234\n",
      "1     23423\n",
      "2      3453\n",
      "3     45674\n",
      "dtype: int64\n"
     ]
    }
   ],
   "source": [
    "# 인덱스의 라벨은 문자열뿐만 아니라, 날짜, 시간, 정수 등이 가능하다.\n",
    "s = pd.Series([344234, 2342333, 345333, 456742],\n",
    "             index = np.arange(4))\n",
    "serieInfo(s)"
   ]
  },
  {
   "cell_type": "code",
   "execution_count": 27,
   "metadata": {},
   "outputs": [
    {
     "name": "stdout",
     "output_type": "stream",
     "text": [
      "value : [344234  23423   3453  45674]\n",
      "value type : <class 'numpy.ndarray'>\n",
      "index :  Index(['서울', '부산', '대전', '광주'], dtype='object')\n",
      "index type : <class 'pandas.core.indexes.base.Index'>\n",
      "index + value :  서울    344234\n",
      "부산     23423\n",
      "대전      3453\n",
      "광주     45674\n",
      "dtype: int32\n"
     ]
    }
   ],
   "source": [
    "# 인덱스의 라벨은 문자열뿐만 아니라, 날짜, 시간, 정수 등이 가능하다.\n",
    "s = pd.Series([344234, 23423, 3453, 45674],\n",
    "              dtype=np.int32 ,\n",
    "              index=['서울', '부산', '대전', '광주'])\n",
    "serieInfo(s)"
   ]
  },
  {
   "cell_type": "code",
   "execution_count": 28,
   "metadata": {},
   "outputs": [
    {
     "name": "stdout",
     "output_type": "stream",
     "text": [
      "지역별\n",
      "서울    344234\n",
      "부산     23423\n",
      "대전      3453\n",
      "광주     45674\n",
      "dtype: int32\n"
     ]
    }
   ],
   "source": [
    "s.index.name = '지역별'\n",
    "print(s)"
   ]
  },
  {
   "cell_type": "code",
   "execution_count": 30,
   "metadata": {},
   "outputs": [
    {
     "data": {
      "text/plain": [
       "지역별\n",
       "서울    3.44234\n",
       "부산    0.23423\n",
       "대전    0.03453\n",
       "광주    0.45674\n",
       "dtype: float64"
      ]
     },
     "execution_count": 30,
     "metadata": {},
     "output_type": "execute_result"
    }
   ],
   "source": [
    "s / 100000"
   ]
  },
  {
   "cell_type": "markdown",
   "metadata": {},
   "source": [
    "### series indexing"
   ]
  },
  {
   "cell_type": "code",
   "execution_count": 40,
   "metadata": {},
   "outputs": [
    {
     "data": {
      "text/plain": [
       "지역별\n",
       "서울    344234\n",
       "부산     23423\n",
       "대전      3453\n",
       "dtype: int32"
      ]
     },
     "execution_count": 40,
     "metadata": {},
     "output_type": "execute_result"
    }
   ],
   "source": [
    "s[3] #인덱싱\n",
    "s['광주']\n",
    "s[0:2] #슬라이싱\n",
    "s['서울':'대전'] #라벨 인덱싱은 -1 적용이 안 되서, 대전까지 리턴된다"
   ]
  },
  {
   "cell_type": "code",
   "execution_count": 42,
   "metadata": {},
   "outputs": [
    {
     "data": {
      "text/plain": [
       "지역별\n",
       "서울    344234\n",
       "대전      3453\n",
       "dtype: int32"
      ]
     },
     "execution_count": 42,
     "metadata": {},
     "output_type": "execute_result"
    }
   ],
   "source": [
    "s[['서울', '대전']] #[[]] 해줘야 인덱싱 가능"
   ]
  },
  {
   "cell_type": "code",
   "execution_count": 45,
   "metadata": {},
   "outputs": [
    {
     "data": {
      "text/plain": [
       "False"
      ]
     },
     "execution_count": 45,
     "metadata": {},
     "output_type": "execute_result"
    }
   ],
   "source": [
    "'강원' in s"
   ]
  },
  {
   "cell_type": "code",
   "execution_count": 47,
   "metadata": {},
   "outputs": [
    {
     "name": "stdout",
     "output_type": "stream",
     "text": [
      "key : 서울 , value = 344234\n",
      "key : 부산 , value = 23423\n",
      "key : 대전 , value = 3453\n",
      "key : 광주 , value = 45674\n"
     ]
    }
   ],
   "source": [
    "for key , value in s.items() :\n",
    "    print('key : {} , value = {}'.format(key, value))"
   ]
  },
  {
   "cell_type": "code",
   "execution_count": 62,
   "metadata": {},
   "outputs": [
    {
     "name": "stdout",
     "output_type": "stream",
     "text": [
      "value : [ 1.  5. -8. 10.]\n",
      "value type : <class 'numpy.ndarray'>\n",
      "index :  Index(['c', 'b', 'a', 'k'], dtype='object')\n",
      "index type : <class 'pandas.core.indexes.base.Index'>\n",
      "index + value :  c     1.0\n",
      "b     5.0\n",
      "a    -8.0\n",
      "k    10.0\n",
      "dtype: float64\n"
     ]
    }
   ],
   "source": [
    "s2 = pd.Series({'c' : 1, 'b' : '5', 'a' : -8, 'k' : 10}, dtype=np.float64)\n",
    "serieInfo(s2)"
   ]
  },
  {
   "cell_type": "markdown",
   "metadata": {},
   "source": [
    "### Fancy Indexing "
   ]
  },
  {
   "cell_type": "code",
   "execution_count": 63,
   "metadata": {},
   "outputs": [
    {
     "name": "stdout",
     "output_type": "stream",
     "text": [
      "fancy [0,2] indexing : c    1.0\n",
      "a   -8.0\n",
      "dtype: float64\n"
     ]
    }
   ],
   "source": [
    "print('fancy [0,2] indexing : {}'.format(s2[[0,2]]))"
   ]
  },
  {
   "cell_type": "markdown",
   "metadata": {},
   "source": [
    "### Boolean Indexing"
   ]
  },
  {
   "cell_type": "code",
   "execution_count": 64,
   "metadata": {},
   "outputs": [
    {
     "name": "stdout",
     "output_type": "stream",
     "text": [
      "boolean s2%2==0 : a    -8.0\n",
      "k    10.0\n",
      "dtype: float64\n"
     ]
    }
   ],
   "source": [
    "# boolean indexing으로 2의 배수인 것 추출\n",
    "print('boolean s2%2==0 : {}'.format(s2[s2%2==0]))"
   ]
  },
  {
   "cell_type": "code",
   "execution_count": 68,
   "metadata": {},
   "outputs": [
    {
     "name": "stdout",
     "output_type": "stream",
     "text": [
      "value : [    nan  45674.  23423. 344234.]\n",
      "value type : <class 'numpy.ndarray'>\n",
      "index :  Index(['광주', '대전', '부산', '서울'], dtype='object')\n",
      "index type : <class 'pandas.core.indexes.base.Index'>\n",
      "index + value :  광주         NaN\n",
      "대전     45674.0\n",
      "부산     23423.0\n",
      "서울    344234.0\n",
      "dtype: float64\n"
     ]
    }
   ],
   "source": [
    "s3 = pd.Series({'서울' : 344234, '부산' : 23423, '인천' : 345343, '대전' : 45674},\n",
    "              dtype=np.int32 ,\n",
    "              index=['광주', '대전', '부산', '서울']) #key 값보다 우리가 지정한 index가 우선으로 적용된다.\n",
    "                # index + value 로 가져올 때 딕셔너리에 없는 것은 가져올 수 없다.\n",
    "serieInfo(s3)"
   ]
  },
  {
   "cell_type": "code",
   "execution_count": 71,
   "metadata": {},
   "outputs": [
    {
     "name": "stdout",
     "output_type": "stream",
     "text": [
      "a    NaN\n",
      "b    NaN\n",
      "c    NaN\n",
      "k    NaN\n",
      "광주   NaN\n",
      "대전   NaN\n",
      "부산   NaN\n",
      "서울   NaN\n",
      "dtype: float64\n"
     ]
    }
   ],
   "source": [
    "diff_s = s - s2\n",
    "print(diff_s)\n",
    "#series 끼리도 연산이 가능하다. 인덱스의 이름을 가지고 연산이 가능하다. \n",
    "#위 코드의 경우 인덱스 이름이 다르기 때문에 연산이 되지 않는 것을 확인할 수 있다."
   ]
  },
  {
   "cell_type": "code",
   "execution_count": null,
   "metadata": {},
   "outputs": [],
   "source": [
    "# A 공장의 2019-01-01 부터 10일간의 생산량을 Series에 저장\n",
    "# 생산량은 평균이 50이고, 편차가 5인 정규분포 생성(정수)\n",
    "\n",
    "# B 공장의 2019-01-01 부터 10일간의 생산량을 Series에 저장\n",
    "# 생산량은 평균이 70이고 편차가 6인 정규분포 생성(정수)\n",
    "\n",
    "#날짜별로 모든 공장의 생산량 합계를 구한다면?"
   ]
  },
  {
   "cell_type": "code",
   "execution_count": 72,
   "metadata": {},
   "outputs": [],
   "source": [
    "import numpy as np\n",
    "import pandas as pd\n",
    "from datetime import date, datetime, timedelta\n",
    "from dateutil.parser import parse"
   ]
  },
  {
   "cell_type": "code",
   "execution_count": 94,
   "metadata": {},
   "outputs": [
    {
     "name": "stdout",
     "output_type": "stream",
     "text": [
      "2019-01-01 00:00:00\n",
      "2019-01-01    46\n",
      "2019-01-02    55\n",
      "2019-01-03    48\n",
      "2019-01-04    46\n",
      "2019-01-05    57\n",
      "2019-01-06    41\n",
      "2019-01-07    46\n",
      "2019-01-08    51\n",
      "2019-01-09    48\n",
      "2019-01-10    51\n",
      "dtype: int64\n",
      "**************************************************\n",
      "2019-01-01    65\n",
      "2019-01-02    63\n",
      "2019-01-03    74\n",
      "2019-01-04    77\n",
      "2019-01-05    66\n",
      "2019-01-06    78\n",
      "2019-01-07    76\n",
      "2019-01-08    76\n",
      "2019-01-09    62\n",
      "2019-01-10    67\n",
      "dtype: int64\n"
     ]
    }
   ],
   "source": [
    "start_day = datetime(2019, 1, 1)\n",
    "print(start_day)\n",
    "facA = pd.Series([ int(x) for x in np.random.normal(50, 5, (10,))] ,\n",
    "                index=[ start_day + timedelta(days=idx) for idx in range(10) ])\n",
    "print(facA)\n",
    "facB = pd.Series([ int(x) for x in np.random.normal(70, 8, (10,))] ,\n",
    "                index=[ start_day + timedelta(days=idx) for idx in range(10) ])\n",
    "\n",
    "print(\"*\" * 50)\n",
    "print(facB)"
   ]
  },
  {
   "cell_type": "code",
   "execution_count": 87,
   "metadata": {},
   "outputs": [
    {
     "name": "stdout",
     "output_type": "stream",
     "text": [
      "2019-01-02 00:00:00\n"
     ]
    }
   ],
   "source": [
    "# 단위 테스트를 위한 셀\n",
    "# type( np.random.normal(50, 5, (10,)) )\n",
    "print(start_day + timedelta(days=1))"
   ]
  },
  {
   "cell_type": "code",
   "execution_count": 92,
   "metadata": {
    "scrolled": true
   },
   "outputs": [
    {
     "name": "stdout",
     "output_type": "stream",
     "text": [
      "DatetimeIndex(['2019-01-01', '2019-01-02', '2019-01-03', '2019-01-04',\n",
      "               '2019-01-05', '2019-01-06', '2019-01-07', '2019-01-08',\n",
      "               '2019-01-09', '2019-01-10'],\n",
      "              dtype='datetime64[ns]', freq=None)\n",
      "DatetimeIndex(['2019-01-01', '2019-01-02', '2019-01-03', '2019-01-04',\n",
      "               '2019-01-05', '2019-01-06', '2019-01-07', '2019-01-08',\n",
      "               '2019-01-09', '2019-01-10'],\n",
      "              dtype='datetime64[ns]', freq=None)\n"
     ]
    }
   ],
   "source": [
    "print(facA.index)\n",
    "print(facB.index)"
   ]
  },
  {
   "cell_type": "code",
   "execution_count": 96,
   "metadata": {},
   "outputs": [
    {
     "name": "stdout",
     "output_type": "stream",
     "text": [
      "2019-01-01    111\n",
      "2019-01-02    118\n",
      "2019-01-03    122\n",
      "2019-01-04    123\n",
      "2019-01-05    123\n",
      "2019-01-06    119\n",
      "2019-01-07    122\n",
      "2019-01-08    127\n",
      "2019-01-09    110\n",
      "2019-01-10    118\n",
      "dtype: int64\n"
     ]
    }
   ],
   "source": [
    "print(facA + facB)"
   ]
  }
 ],
 "metadata": {
  "kernelspec": {
   "display_name": "Python 3",
   "language": "python",
   "name": "python3"
  },
  "language_info": {
   "codemirror_mode": {
    "name": "ipython",
    "version": 3
   },
   "file_extension": ".py",
   "mimetype": "text/x-python",
   "name": "python",
   "nbconvert_exporter": "python",
   "pygments_lexer": "ipython3",
   "version": "3.6.5"
  }
 },
 "nbformat": 4,
 "nbformat_minor": 2
}
