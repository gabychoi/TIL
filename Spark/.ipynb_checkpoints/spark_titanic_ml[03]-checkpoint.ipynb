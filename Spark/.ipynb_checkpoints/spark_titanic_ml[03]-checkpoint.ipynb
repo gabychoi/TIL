{
 "cells": [
  {
   "cell_type": "code",
   "execution_count": 2,
   "metadata": {
    "scrolled": true
   },
   "outputs": [
    {
     "data": {
      "text/plain": [
       "<pyspark.sql.context.SQLContext at 0x294dec712e8>"
      ]
     },
     "execution_count": 2,
     "metadata": {},
     "output_type": "execute_result"
    }
   ],
   "source": [
    "from pyspark import SparkConf , SparkContext\n",
    "from pyspark.sql import SQLContext\n",
    "\n",
    "conf = SparkConf().setMaster('local').setAppName('sparkApp')\n",
    "spark = SparkContext(conf=conf)\n",
    "\n",
    "sqlCtx = SQLContext(spark)\n",
    "sqlCtx"
   ]
  },
  {
   "cell_type": "markdown",
   "metadata": {},
   "source": [
    "### Titanic ML"
   ]
  },
  {
   "cell_type": "code",
   "execution_count": 3,
   "metadata": {},
   "outputs": [
    {
     "data": {
      "text/plain": [
       "pyspark.sql.dataframe.DataFrame"
      ]
     },
     "execution_count": 3,
     "metadata": {},
     "output_type": "execute_result"
    }
   ],
   "source": [
    "titanic = sqlCtx.read.csv('C:/Users/i/data/spark_titanic_train.csv',\n",
    "                        header=True ,\n",
    "                        inferSchema=True) # 인퍼스키마를 줘야 타입에 맞게 데이터가 로드된다\n",
    "type( titanic )"
   ]
  },
  {
   "cell_type": "code",
   "execution_count": 4,
   "metadata": {},
   "outputs": [
    {
     "name": "stdout",
     "output_type": "stream",
     "text": [
      "root\n",
      " |-- PassengerId: integer (nullable = true)\n",
      " |-- Survived: integer (nullable = true)\n",
      " |-- Pclass: integer (nullable = true)\n",
      " |-- Name: string (nullable = true)\n",
      " |-- Sex: string (nullable = true)\n",
      " |-- Age: double (nullable = true)\n",
      " |-- SibSp: integer (nullable = true)\n",
      " |-- Parch: integer (nullable = true)\n",
      " |-- Ticket: string (nullable = true)\n",
      " |-- Fare: double (nullable = true)\n",
      " |-- Cabin: string (nullable = true)\n",
      " |-- Embarked: string (nullable = true)\n",
      "\n"
     ]
    }
   ],
   "source": [
    "titanic.printSchema()"
   ]
  },
  {
   "cell_type": "code",
   "execution_count": 5,
   "metadata": {},
   "outputs": [
    {
     "name": "stdout",
     "output_type": "stream",
     "text": [
      "+-----------+--------+------+--------------------+------+----+-----+-----+----------------+-------+-----+--------+\n",
      "|PassengerId|Survived|Pclass|                Name|   Sex| Age|SibSp|Parch|          Ticket|   Fare|Cabin|Embarked|\n",
      "+-----------+--------+------+--------------------+------+----+-----+-----+----------------+-------+-----+--------+\n",
      "|          1|       0|     3|Braund, Mr. Owen ...|  male|22.0|    1|    0|       A/5 21171|   7.25| null|       S|\n",
      "|          2|       1|     1|Cumings, Mrs. Joh...|female|38.0|    1|    0|        PC 17599|71.2833|  C85|       C|\n",
      "|          3|       1|     3|Heikkinen, Miss. ...|female|26.0|    0|    0|STON/O2. 3101282|  7.925| null|       S|\n",
      "|          4|       1|     1|Futrelle, Mrs. Ja...|female|35.0|    1|    0|          113803|   53.1| C123|       S|\n",
      "|          5|       0|     3|Allen, Mr. Willia...|  male|35.0|    0|    0|          373450|   8.05| null|       S|\n",
      "+-----------+--------+------+--------------------+------+----+-----+-----+----------------+-------+-----+--------+\n",
      "only showing top 5 rows\n",
      "\n"
     ]
    }
   ],
   "source": [
    "titanic.show(5)"
   ]
  },
  {
   "cell_type": "code",
   "execution_count": 6,
   "metadata": {},
   "outputs": [
    {
     "data": {
      "text/plain": [
       "['PassengerId',\n",
       " 'Survived',\n",
       " 'Pclass',\n",
       " 'Name',\n",
       " 'Sex',\n",
       " 'Age',\n",
       " 'SibSp',\n",
       " 'Parch',\n",
       " 'Ticket',\n",
       " 'Fare',\n",
       " 'Cabin',\n",
       " 'Embarked']"
      ]
     },
     "execution_count": 6,
     "metadata": {},
     "output_type": "execute_result"
    }
   ],
   "source": [
    "titanic.columns"
   ]
  },
  {
   "cell_type": "code",
   "execution_count": 7,
   "metadata": {},
   "outputs": [
    {
     "name": "stdout",
     "output_type": "stream",
     "text": [
      "+--------+------+--------+\n",
      "|Survived|Pclass|Embarked|\n",
      "+--------+------+--------+\n",
      "|       0|     3|       S|\n",
      "|       1|     1|       C|\n",
      "|       1|     3|       S|\n",
      "|       1|     1|       S|\n",
      "|       0|     3|       S|\n",
      "|       0|     3|       Q|\n",
      "|       0|     1|       S|\n",
      "|       0|     3|       S|\n",
      "|       1|     3|       S|\n",
      "|       1|     2|       C|\n",
      "|       1|     3|       S|\n",
      "|       1|     1|       S|\n",
      "|       0|     3|       S|\n",
      "|       0|     3|       S|\n",
      "|       0|     3|       S|\n",
      "|       1|     2|       S|\n",
      "|       0|     3|       Q|\n",
      "|       1|     2|       S|\n",
      "|       0|     3|       S|\n",
      "|       1|     3|       C|\n",
      "+--------+------+--------+\n",
      "only showing top 20 rows\n",
      "\n"
     ]
    }
   ],
   "source": [
    "titanic.select(['Survived' , 'Pclass' , 'Embarked']).show()"
   ]
  },
  {
   "cell_type": "code",
   "execution_count": 8,
   "metadata": {},
   "outputs": [
    {
     "name": "stdout",
     "output_type": "stream",
     "text": [
      "+------+--------+-----+\n",
      "|   Sex|Survived|count|\n",
      "+------+--------+-----+\n",
      "|  male|       0|  468|\n",
      "|female|       1|  233|\n",
      "|female|       0|   81|\n",
      "|  male|       1|  109|\n",
      "+------+--------+-----+\n",
      "\n"
     ]
    }
   ],
   "source": [
    "titanic.groupBy('Sex','Survived').count().show()"
   ]
  },
  {
   "cell_type": "code",
   "execution_count": 9,
   "metadata": {},
   "outputs": [
    {
     "name": "stdout",
     "output_type": "stream",
     "text": [
      "+------+--------+-----+\n",
      "|Pclass|Survived|count|\n",
      "+------+--------+-----+\n",
      "|     1|       0|   80|\n",
      "|     3|       1|  119|\n",
      "|     1|       1|  136|\n",
      "|     2|       1|   87|\n",
      "|     2|       0|   97|\n",
      "|     3|       0|  372|\n",
      "+------+--------+-----+\n",
      "\n"
     ]
    }
   ],
   "source": [
    "titanic.groupBy('Pclass', 'Survived').count().show()"
   ]
  },
  {
   "cell_type": "code",
   "execution_count": 10,
   "metadata": {},
   "outputs": [],
   "source": [
    "from pyspark.sql.functions import mean, col, split, regexp_extract, when, lit"
   ]
  },
  {
   "cell_type": "code",
   "execution_count": 11,
   "metadata": {},
   "outputs": [],
   "source": [
    "from pyspark.sql.functions import mean,col,split, col, regexp_extract, when, lit\n",
    "# This function use to print feature with null values and null count \n",
    "def null_value_count(df):\n",
    "  null_columns_counts = []\n",
    "  numRows = df.count()\n",
    "  for k in df.columns:\n",
    "    nullRows = df.where(col(k).isNull()).count() #k를 피처로 인식하도록 col(k) , spark 의 문법\n",
    "    if(nullRows > 0):\n",
    "      temp = k,nullRows\n",
    "      null_columns_counts.append(temp)\n",
    "  return(null_columns_counts)"
   ]
  },
  {
   "cell_type": "code",
   "execution_count": 12,
   "metadata": {},
   "outputs": [],
   "source": [
    "null_list = null_value_count(titanic)"
   ]
  },
  {
   "cell_type": "code",
   "execution_count": 13,
   "metadata": {},
   "outputs": [
    {
     "data": {
      "text/plain": [
       "[('Age', 177), ('Cabin', 687), ('Embarked', 2)]"
      ]
     },
     "execution_count": 13,
     "metadata": {},
     "output_type": "execute_result"
    }
   ],
   "source": [
    "null_list"
   ]
  },
  {
   "cell_type": "code",
   "execution_count": 14,
   "metadata": {
    "scrolled": true
   },
   "outputs": [
    {
     "name": "stdout",
     "output_type": "stream",
     "text": [
      "+--------+---+\n",
      "|  column|cnt|\n",
      "+--------+---+\n",
      "|     Age|177|\n",
      "|   Cabin|687|\n",
      "|Embarked|  2|\n",
      "+--------+---+\n",
      "\n"
     ]
    }
   ],
   "source": [
    "sqlCtx.createDataFrame(null_list , ['column' , 'cnt']).show()"
   ]
  },
  {
   "cell_type": "code",
   "execution_count": 15,
   "metadata": {},
   "outputs": [
    {
     "name": "stdout",
     "output_type": "stream",
     "text": [
      "+-----------------+\n",
      "|         avg(Age)|\n",
      "+-----------------+\n",
      "|29.69911764705882|\n",
      "+-----------------+\n",
      "\n"
     ]
    }
   ],
   "source": [
    "# 나이 평균을 구한다면?\n",
    "titanic.select(mean('Age')).show()"
   ]
  },
  {
   "cell_type": "code",
   "execution_count": 16,
   "metadata": {},
   "outputs": [
    {
     "name": "stdout",
     "output_type": "stream",
     "text": [
      "+--------------------+\n",
      "|                Name|\n",
      "+--------------------+\n",
      "|Braund, Mr. Owen ...|\n",
      "|Cumings, Mrs. Joh...|\n",
      "|Heikkinen, Miss. ...|\n",
      "|Futrelle, Mrs. Ja...|\n",
      "|Allen, Mr. Willia...|\n",
      "|    Moran, Mr. James|\n",
      "|McCarthy, Mr. Tim...|\n",
      "|Palsson, Master. ...|\n",
      "|Johnson, Mrs. Osc...|\n",
      "|Nasser, Mrs. Nich...|\n",
      "|Sandstrom, Miss. ...|\n",
      "|Bonnell, Miss. El...|\n",
      "|Saundercock, Mr. ...|\n",
      "|Andersson, Mr. An...|\n",
      "|Vestrom, Miss. Hu...|\n",
      "|Hewlett, Mrs. (Ma...|\n",
      "|Rice, Master. Eugene|\n",
      "|Williams, Mr. Cha...|\n",
      "|Vander Planke, Mr...|\n",
      "|Masselmani, Mrs. ...|\n",
      "+--------------------+\n",
      "only showing top 20 rows\n",
      "\n"
     ]
    }
   ],
   "source": [
    "titanic.select('Name').show()"
   ]
  },
  {
   "cell_type": "code",
   "execution_count": 17,
   "metadata": {},
   "outputs": [],
   "source": [
    "type( col('Name') )\n",
    "# regexp_extract(col('Name'))\n",
    "titanic = titanic.withColumn('initial' , regexp_extract( col ('Name') , '([A-Za-z]+)' , 1) )"
   ]
  },
  {
   "cell_type": "code",
   "execution_count": 18,
   "metadata": {
    "scrolled": false
   },
   "outputs": [
    {
     "name": "stdout",
     "output_type": "stream",
     "text": [
      "+-----------+-----------+\n",
      "|PassengerId|    initial|\n",
      "+-----------+-----------+\n",
      "|          1|     Braund|\n",
      "|          2|    Cumings|\n",
      "|          3|  Heikkinen|\n",
      "|          4|   Futrelle|\n",
      "|          5|      Allen|\n",
      "|          6|      Moran|\n",
      "|          7|   McCarthy|\n",
      "|          8|    Palsson|\n",
      "|          9|    Johnson|\n",
      "|         10|     Nasser|\n",
      "|         11|  Sandstrom|\n",
      "|         12|    Bonnell|\n",
      "|         13|Saundercock|\n",
      "|         14|  Andersson|\n",
      "|         15|    Vestrom|\n",
      "|         16|    Hewlett|\n",
      "|         17|       Rice|\n",
      "|         18|   Williams|\n",
      "|         19|     Vander|\n",
      "|         20| Masselmani|\n",
      "+-----------+-----------+\n",
      "only showing top 20 rows\n",
      "\n"
     ]
    }
   ],
   "source": [
    "titanic.select(['PassengerId','initial']).show()"
   ]
  },
  {
   "cell_type": "code",
   "execution_count": 19,
   "metadata": {
    "scrolled": true
   },
   "outputs": [
    {
     "name": "stdout",
     "output_type": "stream",
     "text": [
      "+-------------+\n",
      "|      initial|\n",
      "+-------------+\n",
      "|     Pavlovic|\n",
      "|         Saad|\n",
      "|      Palsson|\n",
      "| Thorneycroft|\n",
      "|   Johannesen|\n",
      "|     Meanwell|\n",
      "|      Markoff|\n",
      "|       Porter|\n",
      "|     Harrison|\n",
      "|     Bissette|\n",
      "|        Hampe|\n",
      "|      Hegarty|\n",
      "|Lemberopolous|\n",
      "|      Ekstrom|\n",
      "|       Boulos|\n",
      "|       Bourke|\n",
      "|     McGovern|\n",
      "|     Kvillner|\n",
      "|   Goldenberg|\n",
      "|        Keefe|\n",
      "+-------------+\n",
      "only showing top 20 rows\n",
      "\n"
     ]
    }
   ],
   "source": [
    "titanic.select('initial').distinct().show()"
   ]
  },
  {
   "cell_type": "code",
   "execution_count": 20,
   "metadata": {},
   "outputs": [],
   "source": [
    "titanic = titanic.replace(['Don'] , ['Other'])"
   ]
  },
  {
   "cell_type": "code",
   "execution_count": 21,
   "metadata": {},
   "outputs": [
    {
     "name": "stdout",
     "output_type": "stream",
     "text": [
      "+-------------+\n",
      "|      initial|\n",
      "+-------------+\n",
      "|     Pavlovic|\n",
      "|         Saad|\n",
      "|      Palsson|\n",
      "| Thorneycroft|\n",
      "|   Johannesen|\n",
      "|     Meanwell|\n",
      "|      Markoff|\n",
      "|       Porter|\n",
      "|     Harrison|\n",
      "|     Bissette|\n",
      "|        Hampe|\n",
      "|      Hegarty|\n",
      "|Lemberopolous|\n",
      "|      Ekstrom|\n",
      "|       Boulos|\n",
      "|       Bourke|\n",
      "|     McGovern|\n",
      "|     Kvillner|\n",
      "|   Goldenberg|\n",
      "|        Keefe|\n",
      "+-------------+\n",
      "only showing top 20 rows\n",
      "\n"
     ]
    }
   ],
   "source": [
    "titanic.select('initial').distinct().show()"
   ]
  },
  {
   "cell_type": "code",
   "execution_count": 22,
   "metadata": {
    "scrolled": true
   },
   "outputs": [
    {
     "name": "stdout",
     "output_type": "stream",
     "text": [
      "+-------------+--------+\n",
      "|      initial|avg(age)|\n",
      "+-------------+--------+\n",
      "|     Pavlovic|    32.0|\n",
      "|         Saad|    25.0|\n",
      "|      Palsson|    10.5|\n",
      "| Thorneycroft|    null|\n",
      "|   Johannesen|    null|\n",
      "|     Meanwell|    null|\n",
      "|      Markoff|    35.0|\n",
      "|       Porter|    47.0|\n",
      "|     Harrison|    40.0|\n",
      "|     Bissette|    35.0|\n",
      "|        Hampe|    20.0|\n",
      "|      Hegarty|    18.0|\n",
      "|Lemberopolous|    34.5|\n",
      "|      Ekstrom|    45.0|\n",
      "|       Boulos|     9.0|\n",
      "|       Bourke|    36.0|\n",
      "|     McGovern|    null|\n",
      "|     Kvillner|    31.0|\n",
      "|   Goldenberg|    49.0|\n",
      "|        Keefe|    null|\n",
      "+-------------+--------+\n",
      "only showing top 20 rows\n",
      "\n"
     ]
    }
   ],
   "source": [
    "titanic.groupby('initial').avg('age').show()"
   ]
  },
  {
   "cell_type": "code",
   "execution_count": 23,
   "metadata": {},
   "outputs": [],
   "source": [
    "titanic = titanic.replace(['Mlle','Mme', 'Ms', 'Dr','Major','Lady','Countess','Jonkheer','Col','Rev','Capt','Sir','Don'],\n",
    "               ['Miss','Miss','Miss','Mr','Mr',  'Mrs',  'Mrs',  'Other',  'Other','Other','Mr','Mr','Mr'])"
   ]
  },
  {
   "cell_type": "code",
   "execution_count": 24,
   "metadata": {
    "scrolled": true
   },
   "outputs": [
    {
     "name": "stdout",
     "output_type": "stream",
     "text": [
      "+-------------+--------+\n",
      "|      initial|avg(age)|\n",
      "+-------------+--------+\n",
      "|     Pavlovic|    32.0|\n",
      "|         Saad|    25.0|\n",
      "|      Palsson|    10.5|\n",
      "| Thorneycroft|    null|\n",
      "|   Johannesen|    null|\n",
      "|     Meanwell|    null|\n",
      "|      Markoff|    35.0|\n",
      "|       Porter|    47.0|\n",
      "|     Harrison|    40.0|\n",
      "|     Bissette|    35.0|\n",
      "|        Hampe|    20.0|\n",
      "|      Hegarty|    18.0|\n",
      "|Lemberopolous|    34.5|\n",
      "|      Ekstrom|    45.0|\n",
      "|       Boulos|     9.0|\n",
      "|       Bourke|    36.0|\n",
      "|     McGovern|    null|\n",
      "|     Kvillner|    31.0|\n",
      "|   Goldenberg|    49.0|\n",
      "|        Keefe|    null|\n",
      "+-------------+--------+\n",
      "only showing top 20 rows\n",
      "\n"
     ]
    }
   ],
   "source": [
    "titanic.groupby('initial').avg('age').show()"
   ]
  },
  {
   "cell_type": "code",
   "execution_count": 25,
   "metadata": {},
   "outputs": [
    {
     "data": {
      "text/plain": [
       "[Row(initial='Pavlovic', avg(age)=32.0),\n",
       " Row(initial='Saad', avg(age)=25.0),\n",
       " Row(initial='Palsson', avg(age)=10.5),\n",
       " Row(initial='Thorneycroft', avg(age)=None),\n",
       " Row(initial='Johannesen', avg(age)=None),\n",
       " Row(initial='Meanwell', avg(age)=None),\n",
       " Row(initial='Markoff', avg(age)=35.0),\n",
       " Row(initial='Porter', avg(age)=47.0),\n",
       " Row(initial='Harrison', avg(age)=40.0),\n",
       " Row(initial='Bissette', avg(age)=35.0),\n",
       " Row(initial='Hampe', avg(age)=20.0),\n",
       " Row(initial='Hegarty', avg(age)=18.0),\n",
       " Row(initial='Lemberopolous', avg(age)=34.5),\n",
       " Row(initial='Ekstrom', avg(age)=45.0),\n",
       " Row(initial='Boulos', avg(age)=9.0),\n",
       " Row(initial='Bourke', avg(age)=36.0),\n",
       " Row(initial='McGovern', avg(age)=None),\n",
       " Row(initial='Kvillner', avg(age)=31.0),\n",
       " Row(initial='Goldenberg', avg(age)=49.0),\n",
       " Row(initial='Keefe', avg(age)=None),\n",
       " Row(initial='Leader', avg(age)=49.0),\n",
       " Row(initial='Kraeff', avg(age)=None),\n",
       " Row(initial='van', avg(age)=40.5),\n",
       " Row(initial='Cairns', avg(age)=None),\n",
       " Row(initial='Horgan', avg(age)=None),\n",
       " Row(initial='Bowerman', avg(age)=22.0),\n",
       " Row(initial='Watt', avg(age)=40.0),\n",
       " Row(initial='Newell', avg(age)=37.333333333333336),\n",
       " Row(initial='Graham', avg(age)=38.333333333333336),\n",
       " Row(initial='Cann', avg(age)=21.0),\n",
       " Row(initial='Compton', avg(age)=39.0),\n",
       " Row(initial='Goldsmith', avg(age)=24.333333333333332),\n",
       " Row(initial='Flynn', avg(age)=36.0),\n",
       " Row(initial='Celotti', avg(age)=24.0),\n",
       " Row(initial='Silverthorne', avg(age)=35.0),\n",
       " Row(initial='Potter', avg(age)=56.0),\n",
       " Row(initial='Healy', avg(age)=None),\n",
       " Row(initial='Francatelli', avg(age)=30.0),\n",
       " Row(initial='Dimic', avg(age)=42.0),\n",
       " Row(initial='Robbins', avg(age)=None),\n",
       " Row(initial='Tomlin', avg(age)=30.5),\n",
       " Row(initial='Goldschmidt', avg(age)=71.0),\n",
       " Row(initial='Cacic', avg(age)=34.0),\n",
       " Row(initial='Madigan', avg(age)=None),\n",
       " Row(initial='Taussig', avg(age)=36.333333333333336),\n",
       " Row(initial='Jonkoff', avg(age)=23.0),\n",
       " Row(initial='Sunderland', avg(age)=16.0),\n",
       " Row(initial='Lang', avg(age)=26.0),\n",
       " Row(initial='Lines', avg(age)=16.0),\n",
       " Row(initial='McDermott', avg(age)=None),\n",
       " Row(initial='del', avg(age)=29.0),\n",
       " Row(initial='Vestrom', avg(age)=14.0),\n",
       " Row(initial='Gee', avg(age)=47.0),\n",
       " Row(initial='Stahelin', avg(age)=32.0),\n",
       " Row(initial='Davis', avg(age)=28.0),\n",
       " Row(initial='Mitkoff', avg(age)=None),\n",
       " Row(initial='Ponesell', avg(age)=34.0),\n",
       " Row(initial='Shutes', avg(age)=40.0),\n",
       " Row(initial='Ibrahim', avg(age)=30.0),\n",
       " Row(initial='Andreasson', avg(age)=20.0),\n",
       " Row(initial='Farrell', avg(age)=40.5),\n",
       " Row(initial='Shelley', avg(age)=25.0),\n",
       " Row(initial='Andersson', avg(age)=17.11111111111111),\n",
       " Row(initial='Odahl', avg(age)=23.0),\n",
       " Row(initial='Doharr', avg(age)=None),\n",
       " Row(initial='Berglund', avg(age)=22.0),\n",
       " Row(initial='Partner', avg(age)=45.5),\n",
       " Row(initial='Hansen', avg(age)=29.333333333333332),\n",
       " Row(initial='Levy', avg(age)=36.0),\n",
       " Row(initial='Cunningham', avg(age)=None),\n",
       " Row(initial='Marechal', avg(age)=None),\n",
       " Row(initial='Markun', avg(age)=33.0),\n",
       " Row(initial='Phillips', avg(age)=19.0),\n",
       " Row(initial='Barah', avg(age)=20.0),\n",
       " Row(initial='Spencer', avg(age)=None),\n",
       " Row(initial='Weisz', avg(age)=29.0),\n",
       " Row(initial='LeRoy', avg(age)=30.0),\n",
       " Row(initial='Downton', avg(age)=54.0),\n",
       " Row(initial='Hocking', avg(age)=38.5),\n",
       " Row(initial='Eitemiller', avg(age)=23.0),\n",
       " Row(initial='Carlsson', avg(age)=30.5),\n",
       " Row(initial='Turkula', avg(age)=63.0),\n",
       " Row(initial='Toufik', avg(age)=None),\n",
       " Row(initial='Knight', avg(age)=None),\n",
       " Row(initial='Hogeboom', avg(age)=51.0),\n",
       " Row(initial='Pettersson', avg(age)=18.0),\n",
       " Row(initial='Dahlberg', avg(age)=22.0),\n",
       " Row(initial='Moran', avg(age)=None),\n",
       " Row(initial='Hold', avg(age)=44.0),\n",
       " Row(initial='Rintamaki', avg(age)=35.0),\n",
       " Row(initial='Madill', avg(age)=15.0),\n",
       " Row(initial='Stranden', avg(age)=31.0),\n",
       " Row(initial='Wiklund', avg(age)=18.0),\n",
       " Row(initial='Campbell', avg(age)=None),\n",
       " Row(initial='Mannion', avg(age)=None),\n",
       " Row(initial='Nirva', avg(age)=41.0),\n",
       " Row(initial='Najib', avg(age)=15.0),\n",
       " Row(initial='Williams', avg(age)=39.75),\n",
       " Row(initial='Todoroff', avg(age)=None),\n",
       " Row(initial='Peduzzi', avg(age)=None),\n",
       " Row(initial='Klasen', avg(age)=18.0),\n",
       " Row(initial='Jerwan', avg(age)=23.0),\n",
       " Row(initial='Christy', avg(age)=25.0),\n",
       " Row(initial='Smith', avg(age)=48.0),\n",
       " Row(initial='Alhomaki', avg(age)=20.0),\n",
       " Row(initial='Mayne', avg(age)=24.0),\n",
       " Row(initial='Emanuel', avg(age)=5.0),\n",
       " Row(initial='Chip', avg(age)=32.0),\n",
       " Row(initial='Mellinger', avg(age)=27.0),\n",
       " Row(initial='Silven', avg(age)=18.0),\n",
       " Row(initial='Stanley', avg(age)=22.0),\n",
       " Row(initial='Hedman', avg(age)=27.0),\n",
       " Row(initial='Allen', avg(age)=32.0),\n",
       " Row(initial='Youseff', avg(age)=45.5),\n",
       " Row(initial='Harder', avg(age)=25.0),\n",
       " Row(initial='Lehmann', avg(age)=17.0),\n",
       " Row(initial='Lester', avg(age)=39.0),\n",
       " Row(initial='Moussa', avg(age)=None),\n",
       " Row(initial='Mineff', avg(age)=24.0),\n",
       " Row(initial='Ryerson', avg(age)=19.5),\n",
       " Row(initial='Sdycoff', avg(age)=None),\n",
       " Row(initial='Drew', avg(age)=34.0),\n",
       " Row(initial='Baclini', avg(age)=7.625),\n",
       " Row(initial='Jonsson', avg(age)=32.0),\n",
       " Row(initial='Leinonen', avg(age)=32.0),\n",
       " Row(initial='Eklund', avg(age)=16.0),\n",
       " Row(initial='McCormack', avg(age)=None),\n",
       " Row(initial='Salkjelsvik', avg(age)=21.0),\n",
       " Row(initial='Samaan', avg(age)=None),\n",
       " Row(initial='Crease', avg(age)=19.0),\n",
       " Row(initial='Mionoff', avg(age)=28.0),\n",
       " Row(initial='Davidson', avg(age)=31.0),\n",
       " Row(initial='Lindahl', avg(age)=25.0),\n",
       " Row(initial='Gronnestad', avg(age)=32.0),\n",
       " Row(initial='Kiernan', avg(age)=None),\n",
       " Row(initial='Connors', avg(age)=70.5),\n",
       " Row(initial='Hale', avg(age)=30.0),\n",
       " Row(initial='Murphy', avg(age)=None),\n",
       " Row(initial='Nilsson', avg(age)=26.0),\n",
       " Row(initial='Karaic', avg(age)=30.0),\n",
       " Row(initial='Hewlett', avg(age)=55.0),\n",
       " Row(initial='Jussila', avg(age)=24.333333333333332),\n",
       " Row(initial='Lahoud', avg(age)=None),\n",
       " Row(initial='Bengtsson', avg(age)=26.0),\n",
       " Row(initial='Hoyt', avg(age)=36.5),\n",
       " Row(initial='Haas', avg(age)=24.0),\n",
       " Row(initial='Caram', avg(age)=None),\n",
       " Row(initial='Paulner', avg(age)=None),\n",
       " Row(initial='Woolner', avg(age)=None),\n",
       " Row(initial='Wright', avg(age)=62.0),\n",
       " Row(initial='Chambers', avg(age)=30.0),\n",
       " Row(initial='Wells', avg(age)=4.0),\n",
       " Row(initial='Walker', avg(age)=47.0),\n",
       " Row(initial='Cor', avg(age)=19.0),\n",
       " Row(initial='Sinkkonen', avg(age)=30.0),\n",
       " Row(initial='Sage', avg(age)=None),\n",
       " Row(initial='Laitinen', avg(age)=37.0),\n",
       " Row(initial='Homer', avg(age)=35.0),\n",
       " Row(initial='Mamee', avg(age)=None),\n",
       " Row(initial='Strandberg', avg(age)=22.0),\n",
       " Row(initial='Banfield', avg(age)=28.0),\n",
       " Row(initial='Sheerlinck', avg(age)=29.0),\n",
       " Row(initial='Elsbury', avg(age)=47.0),\n",
       " Row(initial='Becker', avg(age)=2.5),\n",
       " Row(initial='Ilett', avg(age)=17.0),\n",
       " Row(initial='Cook', avg(age)=43.0),\n",
       " Row(initial='Nye', avg(age)=29.0),\n",
       " Row(initial='Richards', avg(age)=9.276666666666666),\n",
       " Row(initial='Norman', avg(age)=28.0),\n",
       " Row(initial='Braund', avg(age)=25.5),\n",
       " Row(initial='Dean', avg(age)=13.5),\n",
       " Row(initial='Leyson', avg(age)=24.0),\n",
       " Row(initial='Vanden', avg(age)=28.0),\n",
       " Row(initial='Pickard', avg(age)=32.0),\n",
       " Row(initial='Reynaldo', avg(age)=28.0),\n",
       " Row(initial='Endres', avg(age)=38.0),\n",
       " Row(initial='Nicola', avg(age)=13.0),\n",
       " Row(initial='McMahon', avg(age)=None),\n",
       " Row(initial='Pinsky', avg(age)=32.0),\n",
       " Row(initial='Kelly', avg(age)=44.5),\n",
       " Row(initial='Hakkarainen', avg(age)=26.0),\n",
       " Row(initial='Risien', avg(age)=None),\n",
       " Row(initial='Beesley', avg(age)=34.0),\n",
       " Row(initial='Devaney', avg(age)=19.0),\n",
       " Row(initial='Quick', avg(age)=17.5),\n",
       " Row(initial='Thayer', avg(age)=35.0),\n",
       " Row(initial='Radeff', avg(age)=None),\n",
       " Row(initial='Windelov', avg(age)=21.0),\n",
       " Row(initial='Foo', avg(age)=None),\n",
       " Row(initial='Cumings', avg(age)=38.0),\n",
       " Row(initial='Givard', avg(age)=30.0),\n",
       " Row(initial='Keane', avg(age)=None),\n",
       " Row(initial='Svensson', avg(age)=49.0),\n",
       " Row(initial='Sobey', avg(age)=25.0),\n",
       " Row(initial='Ling', avg(age)=28.0),\n",
       " Row(initial='Abelson', avg(age)=29.0),\n",
       " Row(initial='Plotcharsky', avg(age)=None),\n",
       " Row(initial='Oreskovic', avg(age)=20.0),\n",
       " Row(initial='Chaffee', avg(age)=46.0),\n",
       " Row(initial='Fleming', avg(age)=None),\n",
       " Row(initial='Garside', avg(age)=34.0),\n",
       " Row(initial='Kenyon', avg(age)=None),\n",
       " Row(initial='Hamalainen', avg(age)=12.335),\n",
       " Row(initial='Novel', avg(age)=28.5),\n",
       " Row(initial='Jermyn', avg(age)=None),\n",
       " Row(initial='Ohman', avg(age)=22.0),\n",
       " Row(initial='Holm', avg(age)=43.0),\n",
       " Row(initial='Coutts', avg(age)=6.0),\n",
       " Row(initial='Molson', avg(age)=55.0),\n",
       " Row(initial='Artagaveytia', avg(age)=71.0),\n",
       " Row(initial='Brocklebank', avg(age)=35.0),\n",
       " Row(initial='Mitchell', avg(age)=70.0),\n",
       " Row(initial='McNamee', avg(age)=24.0),\n",
       " Row(initial='Yrois', avg(age)=24.0),\n",
       " Row(initial='Leeni', avg(age)=22.0),\n",
       " Row(initial='Jarvis', avg(age)=47.0),\n",
       " Row(initial='Theobald', avg(age)=34.0),\n",
       " Row(initial='Johnston', avg(age)=None),\n",
       " Row(initial='Drazenoic', avg(age)=33.0),\n",
       " Row(initial='Osen', avg(age)=16.0),\n",
       " Row(initial='Bostandyeff', avg(age)=26.0),\n",
       " Row(initial='Olsson', avg(age)=29.5),\n",
       " Row(initial='Bjornstrom', avg(age)=28.0),\n",
       " Row(initial='Kilgannon', avg(age)=None),\n",
       " Row(initial='Harris', avg(age)=43.0),\n",
       " Row(initial='Waelens', avg(age)=22.0),\n",
       " Row(initial='Blank', avg(age)=40.0),\n",
       " Row(initial='Ringhini', avg(age)=22.0),\n",
       " Row(initial='Mangan', avg(age)=30.5),\n",
       " Row(initial='Otter', avg(age)=39.0),\n",
       " Row(initial='Lulic', avg(age)=27.0),\n",
       " Row(initial='Beckwith', avg(age)=42.0),\n",
       " Row(initial='Moraweck', avg(age)=54.0),\n",
       " Row(initial='Lievens', avg(age)=24.0),\n",
       " Row(initial='Razi', avg(age)=None),\n",
       " Row(initial='Nasser', avg(age)=23.25),\n",
       " Row(initial='Barbara', avg(age)=31.5),\n",
       " Row(initial='Moor', avg(age)=16.5),\n",
       " Row(initial='Meyer', avg(age)=33.5),\n",
       " Row(initial='Dowdell', avg(age)=30.0),\n",
       " Row(initial='Matthews', avg(age)=30.0),\n",
       " Row(initial='Turcin', avg(age)=36.0),\n",
       " Row(initial='Morrow', avg(age)=None),\n",
       " Row(initial='Sjoblom', avg(age)=18.0),\n",
       " Row(initial='Glynn', avg(age)=None),\n",
       " Row(initial='Strom', avg(age)=15.5),\n",
       " Row(initial='Naidenoff', avg(age)=22.0),\n",
       " Row(initial='Anderson', avg(age)=48.0),\n",
       " Row(initial='Collyer', avg(age)=23.333333333333332),\n",
       " Row(initial='Gheorgheff', avg(age)=None),\n",
       " Row(initial='Eustis', avg(age)=54.0),\n",
       " Row(initial='Fry', avg(age)=None),\n",
       " Row(initial='Bonnell', avg(age)=58.0),\n",
       " Row(initial='O', avg(age)=None),\n",
       " Row(initial='Bing', avg(age)=32.0),\n",
       " Row(initial='Caldwell', avg(age)=11.415),\n",
       " Row(initial='Petranec', avg(age)=28.0),\n",
       " Row(initial='Denkoff', avg(age)=None),\n",
       " Row(initial='Troutt', avg(age)=27.0),\n",
       " Row(initial='Warren', avg(age)=60.0),\n",
       " Row(initial='Ross', avg(age)=36.0),\n",
       " Row(initial='Kirkland', avg(age)=57.0),\n",
       " Row(initial='Dick', avg(age)=24.0),\n",
       " Row(initial='Goncalves', avg(age)=38.0),\n",
       " Row(initial='de', avg(age)=27.333333333333332),\n",
       " Row(initial='Milling', avg(age)=48.0),\n",
       " Row(initial='Zabour', avg(age)=14.5),\n",
       " Row(initial='Trout', avg(age)=28.0),\n",
       " Row(initial='Yousseff', avg(age)=None),\n",
       " Row(initial='Harrington', avg(age)=None),\n",
       " Row(initial='Yasbeck', avg(age)=21.0),\n",
       " Row(initial='Cohen', avg(age)=18.0),\n",
       " Row(initial='Charters', avg(age)=21.0),\n",
       " Row(initial='Laleff', avg(age)=None),\n",
       " Row(initial='Webber', avg(age)=32.5),\n",
       " Row(initial='Hunt', avg(age)=33.0),\n",
       " Row(initial='Foreman', avg(age)=30.0),\n",
       " Row(initial='Sandstrom', avg(age)=14.0),\n",
       " Row(initial='Ahlin', avg(age)=40.0),\n",
       " Row(initial='Maenpaa', avg(age)=22.0),\n",
       " Row(initial='Lindell', avg(age)=36.0),\n",
       " Row(initial='Andersen', avg(age)=19.0),\n",
       " Row(initial='Danbom', avg(age)=31.0),\n",
       " Row(initial='Jenkin', avg(age)=32.0),\n",
       " Row(initial='Backstrom', avg(age)=32.5),\n",
       " Row(initial='Rood', avg(age)=None),\n",
       " Row(initial='Perreault', avg(age)=30.0),\n",
       " Row(initial='McEvoy', avg(age)=None),\n",
       " Row(initial='Mack', avg(age)=57.0),\n",
       " Row(initial='Heikkinen', avg(age)=26.0),\n",
       " Row(initial='Asplund', avg(age)=13.75),\n",
       " Row(initial='Laroche', avg(age)=16.666666666666668),\n",
       " Row(initial='Clifford', avg(age)=None),\n",
       " Row(initial='Frost', avg(age)=None),\n",
       " Row(initial='Salonen', avg(age)=39.0),\n",
       " Row(initial='Hassab', avg(age)=27.0),\n",
       " Row(initial='Myhrman', avg(age)=18.0),\n",
       " Row(initial='Scanlan', avg(age)=None),\n",
       " Row(initial='Bowen', avg(age)=21.0),\n",
       " Row(initial='Coelho', avg(age)=20.0),\n",
       " Row(initial='Skoog', avg(age)=18.333333333333332),\n",
       " Row(initial='Abbott', avg(age)=25.5),\n",
       " Row(initial='Bradley', avg(age)=None),\n",
       " Row(initial='Sloper', avg(age)=28.0),\n",
       " Row(initial='Doling', avg(age)=26.0),\n",
       " Row(initial='Spedden', avg(age)=40.0),\n",
       " Row(initial='Masselmani', avg(age)=None),\n",
       " Row(initial='Uruchurtu', avg(age)=40.0),\n",
       " Row(initial='Mellors', avg(age)=19.0),\n",
       " Row(initial='Parkes', avg(age)=None),\n",
       " Row(initial='Swift', avg(age)=48.0),\n",
       " Row(initial='Sutehall', avg(age)=25.0),\n",
       " Row(initial='Smiljanic', avg(age)=None),\n",
       " Row(initial='Adams', avg(age)=26.0),\n",
       " Row(initial='Birkeland', avg(age)=21.0),\n",
       " Row(initial='Sawyer', avg(age)=24.5),\n",
       " Row(initial='Lennon', avg(age)=None),\n",
       " Row(initial='Stewart', avg(age)=None),\n",
       " Row(initial='Green', avg(age)=51.0),\n",
       " Row(initial='Slayter', avg(age)=30.0),\n",
       " Row(initial='Sagesser', avg(age)=24.0),\n",
       " Row(initial='Kantor', avg(age)=29.0),\n",
       " Row(initial='Carbines', avg(age)=19.0),\n",
       " Row(initial='Reed', avg(age)=None),\n",
       " Row(initial='Widener', avg(age)=27.0),\n",
       " Row(initial='Daly', avg(age)=40.0),\n",
       " Row(initial='Bazzani', avg(age)=32.0),\n",
       " Row(initial='Jardin', avg(age)=None),\n",
       " Row(initial='Ilmakangas', avg(age)=25.0),\n",
       " Row(initial='Staneff', avg(age)=None),\n",
       " Row(initial='Nysveen', avg(age)=61.0),\n",
       " Row(initial='Simonius', avg(age)=56.0),\n",
       " Row(initial='Gilnagh', avg(age)=16.0),\n",
       " Row(initial='Chibnall', avg(age)=None),\n",
       " Row(initial='Carr', avg(age)=16.0),\n",
       " Row(initial='Morley', avg(age)=36.5),\n",
       " Row(initial='Rogers', avg(age)=None),\n",
       " Row(initial='Leonard', avg(age)=36.0),\n",
       " Row(initial='Lindblom', avg(age)=45.0),\n",
       " Row(initial='Maioni', avg(age)=16.0),\n",
       " Row(initial='Astor', avg(age)=18.0),\n",
       " Row(initial='Lindqvist', avg(age)=20.0),\n",
       " Row(initial='Nicholson', avg(age)=64.0),\n",
       " Row(initial='Baxter', avg(age)=37.0),\n",
       " Row(initial='Toomey', avg(age)=50.0),\n",
       " Row(initial='Moen', avg(age)=25.0),\n",
       " Row(initial='Robins', avg(age)=47.0),\n",
       " Row(initial='McCoy', avg(age)=None),\n",
       " Row(initial='Hirvonen', avg(age)=2.0),\n",
       " Row(initial='Mudd', avg(age)=16.0),\n",
       " Row(initial='Thorne', avg(age)=None),\n",
       " Row(initial='Clarke', avg(age)=28.0),\n",
       " Row(initial='Brewe', avg(age)=None),\n",
       " Row(initial='Ridsdale', avg(age)=50.0),\n",
       " Row(initial='Sjostedt', avg(age)=59.0),\n",
       " Row(initial='Simmons', avg(age)=None),\n",
       " Row(initial='Karun', avg(age)=4.0),\n",
       " Row(initial='Petroff', avg(age)=19.0),\n",
       " Row(initial='Byles', avg(age)=42.0),\n",
       " Row(initial='Butt', avg(age)=45.0),\n",
       " Row(initial='Pernot', avg(age)=None),\n",
       " Row(initial='Young', avg(age)=36.0),\n",
       " Row(initial='Moutal', avg(age)=None),\n",
       " Row(initial='Andrews', avg(age)=51.0),\n",
       " Row(initial='Dantcheff', avg(age)=25.0),\n",
       " Row(initial='Lesurer', avg(age)=35.0),\n",
       " Row(initial='Sirota', avg(age)=None),\n",
       " Row(initial='Slocovski', avg(age)=None),\n",
       " Row(initial='McKane', avg(age)=46.0),\n",
       " Row(initial='Hagland', avg(age)=None),\n",
       " Row(initial='Gillespie', avg(age)=34.0),\n",
       " Row(initial='Ball', avg(age)=36.0),\n",
       " Row(initial='Sivic', avg(age)=40.0),\n",
       " Row(initial='Rothes', avg(age)=33.0),\n",
       " Row(initial='Gustafsson', avg(age)=26.0),\n",
       " Row(initial='Minahan', avg(age)=38.5),\n",
       " Row(initial='Frauenthal', avg(age)=50.0),\n",
       " Row(initial='Nakid', avg(age)=10.5),\n",
       " Row(initial='Angle', avg(age)=36.0),\n",
       " Row(initial='Stoytcheff', avg(age)=19.0),\n",
       " Row(initial='Soholt', avg(age)=19.0),\n",
       " Row(initial='Hawksford', avg(age)=None),\n",
       " Row(initial='Olsen', avg(age)=35.0),\n",
       " Row(initial='Barber', avg(age)=26.0),\n",
       " Row(initial='Jansson', avg(age)=21.0),\n",
       " Row(initial='Coleff', avg(age)=30.0),\n",
       " Row(initial='Kassem', avg(age)=None),\n",
       " Row(initial='Dooley', avg(age)=32.0),\n",
       " Row(initial='Panula', avg(age)=13.5),\n",
       " Row(initial='Larsson', avg(age)=29.0),\n",
       " Row(initial='Smart', avg(age)=56.0),\n",
       " Row(initial='Appleton', avg(age)=53.0),\n",
       " Row(initial='Alexander', avg(age)=26.0),\n",
       " Row(initial='Coxon', avg(age)=59.0),\n",
       " Row(initial='Rosblom', avg(age)=29.5),\n",
       " Row(initial='Kent', avg(age)=58.0),\n",
       " Row(initial='Gilinski', avg(age)=22.0),\n",
       " Row(initial='Wilhelms', avg(age)=31.0),\n",
       " Row(initial='Slemen', avg(age)=35.0),\n",
       " Row(initial='Faunthorpe', avg(age)=29.0),\n",
       " Row(initial='Christmann', avg(age)=29.0),\n",
       " Row(initial='Rekic', avg(age)=38.0),\n",
       " Row(initial='Vovk', avg(age)=22.0),\n",
       " Row(initial='Tobin', avg(age)=None),\n",
       " Row(initial='Aks', avg(age)=18.0),\n",
       " Row(initial='Barton', avg(age)=22.0),\n",
       " Row(initial='Madsen', avg(age)=24.0),\n",
       " Row(initial='Nenkoff', avg(age)=None),\n",
       " Row(initial='Louch', avg(age)=42.0),\n",
       " Row(initial='Weir', avg(age)=60.0),\n",
       " Row(initial='Klaber', avg(age)=None),\n",
       " Row(initial='Long', avg(age)=29.0),\n",
       " Row(initial='Abbing', avg(age)=42.0),\n",
       " Row(initial='Chronopoulos', avg(age)=26.0),\n",
       " Row(initial='Richard', avg(age)=23.0),\n",
       " Row(initial='Aubart', avg(age)=24.0),\n",
       " Row(initial='Stephenson', avg(age)=52.0),\n",
       " Row(initial='Badt', avg(age)=40.0),\n",
       " Row(initial='Serepeca', avg(age)=30.0),\n",
       " Row(initial='Hays', avg(age)=38.0),\n",
       " Row(initial='Lahtinen', avg(age)=26.0),\n",
       " Row(initial='Pasic', avg(age)=21.0),\n",
       " Row(initial='Hood', avg(age)=21.0),\n",
       " Row(initial='Andrew', avg(age)=18.0),\n",
       " Row(initial='Seward', avg(age)=34.0),\n",
       " Row(initial='Renouf', avg(age)=32.0),\n",
       " Row(initial='Taylor', avg(age)=48.0),\n",
       " Row(initial='Bryhl', avg(age)=25.0),\n",
       " Row(initial='Duane', avg(age)=65.0),\n",
       " Row(initial='Colley', avg(age)=47.0),\n",
       " Row(initial='Van', avg(age)=34.25),\n",
       " Row(initial='Coleridge', avg(age)=29.0),\n",
       " Row(initial='Gale', avg(age)=34.0),\n",
       " Row(initial='Berriman', avg(age)=23.0),\n",
       " Row(initial='Ivanoff', avg(age)=None),\n",
       " Row(initial='Turpin', avg(age)=28.0),\n",
       " Row(initial='Kallio', avg(age)=17.0),\n",
       " Row(initial='Millet', avg(age)=65.0),\n",
       " Row(initial='Icard', avg(age)=38.0),\n",
       " Row(initial='Torber', avg(age)=44.0),\n",
       " Row(initial='Calic', avg(age)=17.0),\n",
       " Row(initial='Lurette', avg(age)=58.0),\n",
       " Row(initial='Allison', avg(age)=9.306666666666667),\n",
       " Row(initial='Ostby', avg(age)=65.0),\n",
       " Row(initial='Edvardsson', avg(age)=18.0),\n",
       " Row(initial='Willey', avg(age)=None),\n",
       " Row(initial='Rice', avg(age)=12.0),\n",
       " Row(initial='Attalah', avg(age)=23.5),\n",
       " Row(initial='Giglio', avg(age)=24.0),\n",
       " Row(initial='Cribb', avg(age)=44.0),\n",
       " Row(initial='Duran', avg(age)=27.0),\n",
       " Row(initial='Sutton', avg(age)=61.0),\n",
       " Row(initial='Olsvigen', avg(age)=20.0),\n",
       " Row(initial='Behr', avg(age)=26.0),\n",
       " Row(initial='Fynney', avg(age)=35.0),\n",
       " Row(initial='Johansson', avg(age)=28.666666666666668),\n",
       " Row(initial='Betros', avg(age)=20.0),\n",
       " Row(initial='Isham', avg(age)=50.0),\n",
       " Row(initial='Ward', avg(age)=35.0),\n",
       " Row(initial='Zimmerman', avg(age)=29.0),\n",
       " Row(initial='Nankoff', avg(age)=None),\n",
       " Row(initial='Reeves', avg(age)=36.0),\n",
       " Row(initial='Penasco', avg(age)=17.5),\n",
       " Row(initial='Cherry', avg(age)=30.0),\n",
       " Row(initial='Meo', avg(age)=55.5),\n",
       " Row(initial='Sadlier', avg(age)=None),\n",
       " Row(initial='Rush', avg(age)=16.0),\n",
       " Row(initial='Humblen', avg(age)=42.0),\n",
       " Row(initial='Hodges', avg(age)=50.0),\n",
       " Row(initial='Montvila', avg(age)=27.0),\n",
       " Row(initial='Wheadon', avg(age)=66.0),\n",
       " Row(initial='White', avg(age)=37.5),\n",
       " Row(initial='Lefebre', avg(age)=None),\n",
       " Row(initial='Yousif', avg(age)=None),\n",
       " Row(initial='Lemore', avg(age)=34.0),\n",
       " Row(initial='Greenberg', avg(age)=52.0),\n",
       " Row(initial='Stone', avg(age)=62.0),\n",
       " Row(initial='Brown', avg(age)=42.0),\n",
       " Row(initial='Hanna', avg(age)=23.5),\n",
       " Row(initial='Davies', avg(age)=16.666666666666668),\n",
       " Row(initial='Padro', avg(age)=None),\n",
       " Row(initial='Watson', avg(age)=None),\n",
       " Row(initial='Greenfield', avg(age)=23.0),\n",
       " Row(initial='Beavan', avg(age)=19.0),\n",
       " Row(initial='Balkic', avg(age)=26.0),\n",
       " Row(initial='Johanson', avg(age)=34.0),\n",
       " Row(initial='Sundman', avg(age)=44.0),\n",
       " Row(initial='Daniel', avg(age)=27.0),\n",
       " Row(initial='Lam', avg(age)=None),\n",
       " Row(initial='Connolly', avg(age)=22.0),\n",
       " Row(initial='Peuchen', avg(age)=52.0),\n",
       " Row(initial='Rouse', avg(age)=50.0),\n",
       " Row(initial='Fischer', avg(age)=18.0),\n",
       " Row(initial='Hassan', avg(age)=11.0),\n",
       " Row(initial='Nicholls', avg(age)=19.0),\n",
       " Row(initial='Lewy', avg(age)=None),\n",
       " Row(initial='Mullens', avg(age)=None),\n",
       " Row(initial='Harknett', avg(age)=None),\n",
       " Row(initial='Rugg', avg(age)=21.0),\n",
       " Row(initial='Rommetvedt', avg(age)=None),\n",
       " Row(initial='Butler', avg(age)=25.0),\n",
       " Row(initial='Calderhead', avg(age)=42.0),\n",
       " Row(initial='Arnold', avg(age)=21.5),\n",
       " Row(initial='Perkin', avg(age)=22.0),\n",
       " Row(initial='Funk', avg(age)=38.0),\n",
       " Row(initial='Moore', avg(age)=None),\n",
       " Row(initial='Nosworthy', avg(age)=21.0),\n",
       " Row(initial='Patchett', avg(age)=19.0),\n",
       " Row(initial='Hickman', avg(age)=25.666666666666668),\n",
       " Row(initial='Dennis', avg(age)=22.0),\n",
       " Row(initial='Beane', avg(age)=25.5),\n",
       " Row(initial='Sivola', avg(age)=21.0),\n",
       " Row(initial='Collander', avg(age)=28.0),\n",
       " Row(initial='Asim', avg(age)=35.0),\n",
       " Row(initial='Landergren', avg(age)=22.0),\n",
       " Row(initial='Cavendish', avg(age)=36.0),\n",
       " Row(initial='Mallet', avg(age)=16.0),\n",
       " Row(initial='Roebling', avg(age)=31.0),\n",
       " Row(initial='Newsom', avg(age)=19.0),\n",
       " Row(initial='Crosby', avg(age)=53.0),\n",
       " Row(initial='Tornquist', avg(age)=25.0),\n",
       " Row(initial='Niskanen', avg(age)=39.0),\n",
       " Row(initial='Davison', avg(age)=None),\n",
       " Row(initial='Rothschild', avg(age)=54.0),\n",
       " Row(initial='Leitch', avg(age)=None),\n",
       " Row(initial='Stead', avg(age)=62.0),\n",
       " Row(initial='Turja', avg(age)=18.0),\n",
       " Row(initial='Giles', avg(age)=21.0),\n",
       " Row(initial='Bracken', avg(age)=27.0),\n",
       " Row(initial='Persson', avg(age)=25.0),\n",
       " Row(initial='Kalvik', avg(age)=21.0),\n",
       " Row(initial='Pears', avg(age)=25.5),\n",
       " Row(initial='Frolicher', avg(age)=41.0),\n",
       " Row(initial='Slabenoff', avg(age)=None),\n",
       " Row(initial='Cardeza', avg(age)=36.0),\n",
       " Row(initial='Reuchlin', avg(age)=38.0),\n",
       " Row(initial='Tikkanen', avg(age)=32.0),\n",
       " Row(initial='Canavan', avg(age)=21.0),\n",
       " Row(initial='West', avg(age)=24.666666666666668),\n",
       " Row(initial='Bateman', avg(age)=51.0),\n",
       " Row(initial='Chapman', avg(age)=44.5),\n",
       " Row(initial='Shorney', avg(age)=None),\n",
       " Row(initial='Cleaver', avg(age)=22.0),\n",
       " Row(initial='Connaghton', avg(age)=31.0),\n",
       " Row(initial='Herman', avg(age)=36.0),\n",
       " Row(initial='Hendekovic', avg(age)=28.0),\n",
       " Row(initial='Kimball', avg(age)=42.0),\n",
       " Row(initial='Goodwin', avg(age)=15.666666666666666),\n",
       " Row(initial='Lobb', avg(age)=28.0),\n",
       " Row(initial='Dakic', avg(age)=19.0),\n",
       " Row(initial='Jacobsohn', avg(age)=33.0),\n",
       " Row(initial='Mockler', avg(age)=None),\n",
       " Row(initial='Douglas', avg(age)=50.0),\n",
       " Row(initial='McCarthy', avg(age)=54.0),\n",
       " Row(initial='Fortune', avg(age)=32.5),\n",
       " Row(initial='Sirayanian', avg(age)=22.0),\n",
       " Row(initial='Mernagh', avg(age)=None),\n",
       " Row(initial='Lovell', avg(age)=20.5),\n",
       " Row(initial='Wiseman', avg(age)=None),\n",
       " Row(initial='McGough', avg(age)=36.0),\n",
       " Row(initial='Peter', avg(age)=None),\n",
       " Row(initial='Honkanen', avg(age)=27.0),\n",
       " Row(initial='Hosono', avg(age)=42.0),\n",
       " Row(initial='Pain', avg(age)=23.0),\n",
       " Row(initial='Moubarek', avg(age)=None),\n",
       " Row(initial='Ryan', avg(age)=None),\n",
       " Row(initial='Guggenheim', avg(age)=46.0),\n",
       " Row(initial='Ayoub', avg(age)=13.0),\n",
       " Row(initial='Allum', avg(age)=18.0),\n",
       " Row(initial='Emir', avg(age)=None),\n",
       " Row(initial='Corn', avg(age)=30.0),\n",
       " Row(initial='Bishop', avg(age)=22.0),\n",
       " Row(initial='Buss', avg(age)=36.0),\n",
       " Row(initial='Silvey', avg(age)=44.5),\n",
       " Row(initial='Adahl', avg(age)=30.0),\n",
       " Row(initial='Pekoniemi', avg(age)=21.0),\n",
       " Row(initial='Dodge', avg(age)=4.0),\n",
       " Row(initial='Murdlin', avg(age)=None),\n",
       " Row(initial='Jensen', avg(age)=28.333333333333332),\n",
       " Row(initial='Widegren', avg(age)=51.0),\n",
       " Row(initial='Carrau', avg(age)=28.0),\n",
       " Row(initial='Dorking', avg(age)=19.0),\n",
       " Row(initial='Karlsson', avg(age)=22.0),\n",
       " Row(initial='Heininen', avg(age)=23.0),\n",
       " Row(initial='Albimona', avg(age)=26.0),\n",
       " Row(initial='Petterson', avg(age)=25.0),\n",
       " Row(initial='Thomas', avg(age)=0.42),\n",
       " Row(initial='Johnson', avg(age)=22.166666666666668),\n",
       " Row(initial='Baumann', avg(age)=None),\n",
       " Row(initial='Sedgwick', avg(age)=25.0),\n",
       " Row(initial='Somerton', avg(age)=30.0),\n",
       " Row(initial='Saundercock', avg(age)=20.0),\n",
       " Row(initial='Fahlstrom', avg(age)=18.0),\n",
       " Row(initial='Saalfeld', avg(age)=None),\n",
       " Row(initial='Dahl', avg(age)=45.0),\n",
       " Row(initial='Maisner', avg(age)=None),\n",
       " Row(initial='Robert', avg(age)=43.0),\n",
       " Row(initial='Culumovic', avg(age)=17.0),\n",
       " Row(initial='Wick', avg(age)=38.0),\n",
       " Row(initial='Burke', avg(age)=19.0),\n",
       " Row(initial='Fox', avg(age)=36.0),\n",
       " Row(initial='Elias', avg(age)=16.0),\n",
       " Row(initial='Vander', avg(age)=28.0),\n",
       " Row(initial='Parrish', avg(age)=50.0),\n",
       " Row(initial='Natsch', avg(age)=37.0),\n",
       " Row(initial='Bailey', avg(age)=18.0),\n",
       " Row(initial='McGowan', avg(age)=15.0),\n",
       " Row(initial='Gallagher', avg(age)=25.0),\n",
       " Row(initial='Vande', avg(age)=30.5),\n",
       " Row(initial='Gavey', avg(age)=26.0),\n",
       " Row(initial='Harmer', avg(age)=25.0),\n",
       " Row(initial='Gaskell', avg(age)=16.0),\n",
       " Row(initial='Ford', avg(age)=23.5),\n",
       " Row(initial='Bidois', avg(age)=42.0),\n",
       " Row(initial='Lundahl', avg(age)=51.0),\n",
       " Row(initial='Navratil', avg(age)=13.833333333333334),\n",
       " Row(initial='Jalsevac', avg(age)=29.0),\n",
       " Row(initial='Longley', avg(age)=21.0),\n",
       " Row(initial='Troupiansky', avg(age)=23.0),\n",
       " Row(initial='Kink', avg(age)=15.0),\n",
       " Row(initial='Hippach', avg(age)=30.0),\n",
       " Row(initial='Marvin', avg(age)=19.0),\n",
       " Row(initial='Nysten', avg(age)=22.0),\n",
       " Row(initial='Pengelly', avg(age)=19.0),\n",
       " Row(initial='Sharp', avg(age)=27.0),\n",
       " Row(initial='Duff', avg(age)=48.5),\n",
       " Row(initial='Stankovic', avg(age)=33.0),\n",
       " Row(initial='Meek', avg(age)=None),\n",
       " Row(initial='Shellard', avg(age)=None),\n",
       " Row(initial='Augustsson', avg(age)=23.0),\n",
       " Row(initial='Holverson', avg(age)=38.5),\n",
       " Row(initial='Harper', avg(age)=32.75),\n",
       " Row(initial='Peters', avg(age)=None),\n",
       " Row(initial='Henry', avg(age)=None),\n",
       " Row(initial='Touma', avg(age)=29.0),\n",
       " Row(initial='Osman', avg(age)=31.0),\n",
       " Row(initial='Burns', avg(age)=41.0),\n",
       " Row(initial='Ali', avg(age)=24.5),\n",
       " Row(initial='Carter', avg(age)=32.5),\n",
       " Row(initial='Parr', avg(age)=None),\n",
       " Row(initial='Bystrom', avg(age)=42.0),\n",
       " Row(initial='Futrelle', avg(age)=36.0),\n",
       " Row(initial='Moss', avg(age)=None),\n",
       " Row(initial='Cameron', avg(age)=35.0),\n",
       " Row(initial='Danoff', avg(age)=27.0),\n",
       " Row(initial='Farthing', avg(age)=None),\n",
       " Row(initial='Gill', avg(age)=24.0),\n",
       " Row(initial='Blackwell', avg(age)=45.0),\n",
       " Row(initial='Barkworth', avg(age)=80.0),\n",
       " Row(initial='Garfirth', avg(age)=None),\n",
       " Row(initial='Romaine', avg(age)=45.0),\n",
       " Row(initial='Hart', avg(age)=31.666666666666668)]"
      ]
     },
     "execution_count": 25,
     "metadata": {},
     "output_type": "execute_result"
    }
   ],
   "source": [
    "titanic.groupby('initial').avg('age').collect()"
   ]
  },
  {
   "cell_type": "code",
   "execution_count": 26,
   "metadata": {},
   "outputs": [
    {
     "name": "stdout",
     "output_type": "stream",
     "text": [
      "+--------+\n",
      "| initial|\n",
      "+--------+\n",
      "|Anderson|\n",
      "| Milling|\n",
      "|    Duff|\n",
      "|  Harper|\n",
      "|  Taylor|\n",
      "|    Ford|\n",
      "|  Herman|\n",
      "|  Jensen|\n",
      "|   Swift|\n",
      "+--------+\n",
      "\n"
     ]
    }
   ],
   "source": [
    "titanic.filter(titanic['Age'] == 48).select('initial').show()"
   ]
  },
  {
   "cell_type": "code",
   "execution_count": 27,
   "metadata": {},
   "outputs": [
    {
     "name": "stdout",
     "output_type": "stream",
     "text": [
      "+--------+-----+\n",
      "|Embarked|count|\n",
      "+--------+-----+\n",
      "|       Q|   77|\n",
      "|    null|    2|\n",
      "|       C|  168|\n",
      "|       S|  644|\n",
      "+--------+-----+\n",
      "\n"
     ]
    }
   ],
   "source": [
    "# null 처리 방법\n",
    "titanic.groupby('Embarked').count().show()\n",
    "titanic = titanic.na.fill({'Embarked' : 'S'})"
   ]
  },
  {
   "cell_type": "code",
   "execution_count": 28,
   "metadata": {},
   "outputs": [
    {
     "name": "stdout",
     "output_type": "stream",
     "text": [
      "+--------+-----+\n",
      "|Embarked|count|\n",
      "+--------+-----+\n",
      "|       Q|   77|\n",
      "|       C|  168|\n",
      "|       S|  646|\n",
      "+--------+-----+\n",
      "\n"
     ]
    }
   ],
   "source": [
    "titanic.groupby('Embarked').count().show()"
   ]
  },
  {
   "cell_type": "code",
   "execution_count": 29,
   "metadata": {},
   "outputs": [],
   "source": [
    "titanic = titanic.drop('Cabin')"
   ]
  },
  {
   "cell_type": "code",
   "execution_count": 30,
   "metadata": {
    "scrolled": false
   },
   "outputs": [
    {
     "name": "stdout",
     "output_type": "stream",
     "text": [
      "root\n",
      " |-- PassengerId: integer (nullable = true)\n",
      " |-- Survived: integer (nullable = true)\n",
      " |-- Pclass: integer (nullable = true)\n",
      " |-- Name: string (nullable = true)\n",
      " |-- Sex: string (nullable = true)\n",
      " |-- Age: double (nullable = true)\n",
      " |-- SibSp: integer (nullable = true)\n",
      " |-- Parch: integer (nullable = true)\n",
      " |-- Ticket: string (nullable = true)\n",
      " |-- Fare: double (nullable = true)\n",
      " |-- Embarked: string (nullable = false)\n",
      " |-- initial: string (nullable = true)\n",
      "\n"
     ]
    }
   ],
   "source": [
    "titanic.printSchema()"
   ]
  },
  {
   "cell_type": "code",
   "execution_count": 31,
   "metadata": {},
   "outputs": [],
   "source": [
    "# 파생 컬럼 만드는 방법\n",
    "titanic = titanic.withColumn('Family_Size' , col('SibSp')+col('Parch'))"
   ]
  },
  {
   "cell_type": "code",
   "execution_count": 32,
   "metadata": {},
   "outputs": [
    {
     "name": "stdout",
     "output_type": "stream",
     "text": [
      "root\n",
      " |-- PassengerId: integer (nullable = true)\n",
      " |-- Survived: integer (nullable = true)\n",
      " |-- Pclass: integer (nullable = true)\n",
      " |-- Name: string (nullable = true)\n",
      " |-- Sex: string (nullable = true)\n",
      " |-- Age: double (nullable = true)\n",
      " |-- SibSp: integer (nullable = true)\n",
      " |-- Parch: integer (nullable = true)\n",
      " |-- Ticket: string (nullable = true)\n",
      " |-- Fare: double (nullable = true)\n",
      " |-- Embarked: string (nullable = false)\n",
      " |-- initial: string (nullable = true)\n",
      " |-- Family_Size: integer (nullable = true)\n",
      "\n"
     ]
    }
   ],
   "source": [
    "titanic.printSchema()"
   ]
  },
  {
   "cell_type": "code",
   "execution_count": 33,
   "metadata": {},
   "outputs": [
    {
     "name": "stdout",
     "output_type": "stream",
     "text": [
      "+-----------+\n",
      "|Family_Size|\n",
      "+-----------+\n",
      "|          1|\n",
      "|          1|\n",
      "|          0|\n",
      "|          1|\n",
      "|          0|\n",
      "|          0|\n",
      "|          0|\n",
      "|          4|\n",
      "|          2|\n",
      "|          1|\n",
      "|          2|\n",
      "|          0|\n",
      "|          0|\n",
      "|          6|\n",
      "|          0|\n",
      "|          0|\n",
      "|          5|\n",
      "|          0|\n",
      "|          1|\n",
      "|          0|\n",
      "+-----------+\n",
      "only showing top 20 rows\n",
      "\n"
     ]
    }
   ],
   "source": [
    "titanic.select('Family_Size').show()"
   ]
  },
  {
   "cell_type": "code",
   "execution_count": 34,
   "metadata": {
    "scrolled": true
   },
   "outputs": [
    {
     "name": "stdout",
     "output_type": "stream",
     "text": [
      "+-----------+-----+\n",
      "|Family_Size|count|\n",
      "+-----------+-----+\n",
      "|          1|  161|\n",
      "|          6|   12|\n",
      "|          3|   29|\n",
      "|          5|   22|\n",
      "|          4|   15|\n",
      "|          7|    6|\n",
      "|         10|    7|\n",
      "|          2|  102|\n",
      "|          0|  537|\n",
      "+-----------+-----+\n",
      "\n"
     ]
    }
   ],
   "source": [
    "titanic.groupby('Family_Size').count().show()"
   ]
  },
  {
   "cell_type": "code",
   "execution_count": 35,
   "metadata": {},
   "outputs": [],
   "source": [
    "titanic = titanic.withColumn('Alone' , lit(0))"
   ]
  },
  {
   "cell_type": "code",
   "execution_count": 36,
   "metadata": {
    "scrolled": true
   },
   "outputs": [
    {
     "name": "stdout",
     "output_type": "stream",
     "text": [
      "+-----+\n",
      "|Alone|\n",
      "+-----+\n",
      "|    0|\n",
      "|    0|\n",
      "|    0|\n",
      "|    0|\n",
      "|    0|\n",
      "|    0|\n",
      "|    0|\n",
      "|    0|\n",
      "|    0|\n",
      "|    0|\n",
      "|    0|\n",
      "|    0|\n",
      "|    0|\n",
      "|    0|\n",
      "|    0|\n",
      "|    0|\n",
      "|    0|\n",
      "|    0|\n",
      "|    0|\n",
      "|    0|\n",
      "+-----+\n",
      "only showing top 20 rows\n",
      "\n"
     ]
    }
   ],
   "source": [
    "titanic.select('Alone').show()"
   ]
  },
  {
   "cell_type": "code",
   "execution_count": 37,
   "metadata": {},
   "outputs": [],
   "source": [
    "# when ~ otherwise -> if ~ else 와 비슷한 함수\n",
    "titanic = titanic.withColumn('Alone' , when(titanic['Family_Size'] == 0, 1).otherwise(titanic['Alone']))"
   ]
  },
  {
   "cell_type": "code",
   "execution_count": 38,
   "metadata": {},
   "outputs": [
    {
     "name": "stdout",
     "output_type": "stream",
     "text": [
      "+-----+\n",
      "|Alone|\n",
      "+-----+\n",
      "|    0|\n",
      "|    0|\n",
      "|    1|\n",
      "|    0|\n",
      "|    1|\n",
      "|    1|\n",
      "|    1|\n",
      "|    0|\n",
      "|    0|\n",
      "|    0|\n",
      "|    0|\n",
      "|    1|\n",
      "|    1|\n",
      "|    0|\n",
      "|    1|\n",
      "|    1|\n",
      "|    0|\n",
      "|    1|\n",
      "|    0|\n",
      "|    1|\n",
      "+-----+\n",
      "only showing top 20 rows\n",
      "\n"
     ]
    }
   ],
   "source": [
    "titanic.select('Alone').show()"
   ]
  },
  {
   "cell_type": "code",
   "execution_count": 39,
   "metadata": {},
   "outputs": [
    {
     "data": {
      "text/plain": [
       "['PassengerId',\n",
       " 'Survived',\n",
       " 'Pclass',\n",
       " 'Name',\n",
       " 'Sex',\n",
       " 'Age',\n",
       " 'SibSp',\n",
       " 'Parch',\n",
       " 'Ticket',\n",
       " 'Fare',\n",
       " 'Embarked',\n",
       " 'initial',\n",
       " 'Family_Size',\n",
       " 'Alone']"
      ]
     },
     "execution_count": 39,
     "metadata": {},
     "output_type": "execute_result"
    }
   ],
   "source": [
    "titanic.columns"
   ]
  },
  {
   "cell_type": "code",
   "execution_count": 40,
   "metadata": {},
   "outputs": [],
   "source": [
    "from pyspark.ml.feature import StringIndexer\n",
    "from pyspark.ml import Pipeline"
   ]
  },
  {
   "cell_type": "code",
   "execution_count": 41,
   "metadata": {},
   "outputs": [],
   "source": [
    "indexers = [StringIndexer(inputCol=column, outputCol=column+\"_index\").fit(titanic) for column in [\"Sex\",\"Embarked\",\"initial\"]]\n",
    "pipeline = Pipeline(stages=indexers)\n",
    "titanic = pipeline.fit(titanic).transform(titanic)"
   ]
  },
  {
   "cell_type": "code",
   "execution_count": 42,
   "metadata": {},
   "outputs": [
    {
     "name": "stdout",
     "output_type": "stream",
     "text": [
      "+-----------+--------+------+--------------------+------+----+-----+-----+----------------+-------+--------+-----------+-----------+-----+---------+--------------+-------------+\n",
      "|PassengerId|Survived|Pclass|                Name|   Sex| Age|SibSp|Parch|          Ticket|   Fare|Embarked|    initial|Family_Size|Alone|Sex_index|Embarked_index|initial_index|\n",
      "+-----------+--------+------+--------------------+------+----+-----+-----+----------------+-------+--------+-----------+-----------+-----+---------+--------------+-------------+\n",
      "|          1|       0|     3|Braund, Mr. Owen ...|  male|22.0|    1|    0|       A/5 21171|   7.25|       S|     Braund|          1|    0|      0.0|           0.0|         58.0|\n",
      "|          2|       1|     1|Cumings, Mrs. Joh...|female|38.0|    1|    0|        PC 17599|71.2833|       C|    Cumings|          1|    0|      1.0|           1.0|        406.0|\n",
      "|          3|       1|     3|Heikkinen, Miss. ...|female|26.0|    0|    0|STON/O2. 3101282|  7.925|       S|  Heikkinen|          0|    1|      1.0|           0.0|        473.0|\n",
      "|          4|       1|     1|Futrelle, Mrs. Ja...|female|35.0|    1|    0|          113803|   53.1|       S|   Futrelle|          1|    0|      1.0|           0.0|         93.0|\n",
      "|          5|       0|     3|Allen, Mr. Willia...|  male|35.0|    0|    0|          373450|   8.05|       S|      Allen|          0|    1|      0.0|           0.0|         94.0|\n",
      "|          6|       0|     3|    Moran, Mr. James|  male|null|    0|    0|          330877| 8.4583|       Q|      Moran|          0|    1|      0.0|           2.0|         48.0|\n",
      "|          7|       0|     1|McCarthy, Mr. Tim...|  male|54.0|    0|    0|           17463|51.8625|       S|   McCarthy|          0|    1|      0.0|           0.0|        620.0|\n",
      "|          8|       0|     3|Palsson, Master. ...|  male| 2.0|    3|    1|          349909| 21.075|       S|    Palsson|          4|    0|      0.0|           0.0|         21.0|\n",
      "|          9|       1|     3|Johnson, Mrs. Osc...|female|27.0|    0|    2|          347742|11.1333|       S|    Johnson|          2|    0|      1.0|           0.0|          4.0|\n",
      "|         10|       1|     2|Nasser, Mrs. Nich...|female|14.0|    1|    0|          237736|30.0708|       C|     Nasser|          1|    0|      1.0|           1.0|        114.0|\n",
      "|         11|       1|     3|Sandstrom, Miss. ...|female| 4.0|    1|    1|         PP 9549|   16.7|       S|  Sandstrom|          2|    0|      1.0|           0.0|         75.0|\n",
      "|         12|       1|     1|Bonnell, Miss. El...|female|58.0|    0|    0|          113783|  26.55|       S|    Bonnell|          0|    1|      1.0|           0.0|        171.0|\n",
      "|         13|       0|     3|Saundercock, Mr. ...|  male|20.0|    0|    0|       A/5. 2151|   8.05|       S|Saundercock|          0|    1|      0.0|           0.0|        614.0|\n",
      "|         14|       0|     3|Andersson, Mr. An...|  male|39.0|    1|    5|          347082| 31.275|       S|  Andersson|          6|    0|      0.0|           0.0|          0.0|\n",
      "|         15|       0|     3|Vestrom, Miss. Hu...|female|14.0|    0|    0|          350406| 7.8542|       S|    Vestrom|          0|    1|      1.0|           0.0|        214.0|\n",
      "|         16|       1|     2|Hewlett, Mrs. (Ma...|female|55.0|    0|    0|          248706|   16.0|       S|    Hewlett|          0|    1|      1.0|           0.0|        540.0|\n",
      "|         17|       0|     3|Rice, Master. Eugene|  male| 2.0|    4|    1|          382652| 29.125|       Q|       Rice|          5|    0|      0.0|           2.0|          8.0|\n",
      "|         18|       1|     2|Williams, Mr. Cha...|  male|null|    0|    0|          244373|   13.0|       S|   Williams|          0|    1|      0.0|           0.0|          9.0|\n",
      "|         19|       0|     3|Vander Planke, Mr...|female|31.0|    1|    0|          345763|   18.0|       S|     Vander|          1|    0|      1.0|           0.0|         13.0|\n",
      "|         20|       1|     3|Masselmani, Mrs. ...|female|null|    0|    0|            2649|  7.225|       C| Masselmani|          0|    1|      1.0|           1.0|        158.0|\n",
      "+-----------+--------+------+--------------------+------+----+-----+-----+----------------+-------+--------+-----------+-----------+-----+---------+--------------+-------------+\n",
      "only showing top 20 rows\n",
      "\n"
     ]
    }
   ],
   "source": [
    "titanic.show()"
   ]
  },
  {
   "cell_type": "code",
   "execution_count": 43,
   "metadata": {},
   "outputs": [
    {
     "name": "stdout",
     "output_type": "stream",
     "text": [
      "+-----------+--------+------+--------------------+------+----+-----+-----+----------------+-------+--------+-----------+-----------+-----+---------+--------------+-------------+\n",
      "|PassengerId|Survived|Pclass|                Name|   Sex| Age|SibSp|Parch|          Ticket|   Fare|Embarked|    initial|Family_Size|Alone|Sex_index|Embarked_index|initial_index|\n",
      "+-----------+--------+------+--------------------+------+----+-----+-----+----------------+-------+--------+-----------+-----------+-----+---------+--------------+-------------+\n",
      "|          1|       0|     3|Braund, Mr. Owen ...|  male|22.0|    1|    0|       A/5 21171|   7.25|       S|     Braund|          1|    0|      0.0|           0.0|         58.0|\n",
      "|          2|       1|     1|Cumings, Mrs. Joh...|female|38.0|    1|    0|        PC 17599|71.2833|       C|    Cumings|          1|    0|      1.0|           1.0|        406.0|\n",
      "|          3|       1|     3|Heikkinen, Miss. ...|female|26.0|    0|    0|STON/O2. 3101282|  7.925|       S|  Heikkinen|          0|    1|      1.0|           0.0|        473.0|\n",
      "|          4|       1|     1|Futrelle, Mrs. Ja...|female|35.0|    1|    0|          113803|   53.1|       S|   Futrelle|          1|    0|      1.0|           0.0|         93.0|\n",
      "|          5|       0|     3|Allen, Mr. Willia...|  male|35.0|    0|    0|          373450|   8.05|       S|      Allen|          0|    1|      0.0|           0.0|         94.0|\n",
      "|          6|       0|     3|    Moran, Mr. James|  male|null|    0|    0|          330877| 8.4583|       Q|      Moran|          0|    1|      0.0|           2.0|         48.0|\n",
      "|          7|       0|     1|McCarthy, Mr. Tim...|  male|54.0|    0|    0|           17463|51.8625|       S|   McCarthy|          0|    1|      0.0|           0.0|        620.0|\n",
      "|          8|       0|     3|Palsson, Master. ...|  male| 2.0|    3|    1|          349909| 21.075|       S|    Palsson|          4|    0|      0.0|           0.0|         21.0|\n",
      "|          9|       1|     3|Johnson, Mrs. Osc...|female|27.0|    0|    2|          347742|11.1333|       S|    Johnson|          2|    0|      1.0|           0.0|          4.0|\n",
      "|         10|       1|     2|Nasser, Mrs. Nich...|female|14.0|    1|    0|          237736|30.0708|       C|     Nasser|          1|    0|      1.0|           1.0|        114.0|\n",
      "|         11|       1|     3|Sandstrom, Miss. ...|female| 4.0|    1|    1|         PP 9549|   16.7|       S|  Sandstrom|          2|    0|      1.0|           0.0|         75.0|\n",
      "|         12|       1|     1|Bonnell, Miss. El...|female|58.0|    0|    0|          113783|  26.55|       S|    Bonnell|          0|    1|      1.0|           0.0|        171.0|\n",
      "|         13|       0|     3|Saundercock, Mr. ...|  male|20.0|    0|    0|       A/5. 2151|   8.05|       S|Saundercock|          0|    1|      0.0|           0.0|        614.0|\n",
      "|         14|       0|     3|Andersson, Mr. An...|  male|39.0|    1|    5|          347082| 31.275|       S|  Andersson|          6|    0|      0.0|           0.0|          0.0|\n",
      "|         15|       0|     3|Vestrom, Miss. Hu...|female|14.0|    0|    0|          350406| 7.8542|       S|    Vestrom|          0|    1|      1.0|           0.0|        214.0|\n",
      "|         16|       1|     2|Hewlett, Mrs. (Ma...|female|55.0|    0|    0|          248706|   16.0|       S|    Hewlett|          0|    1|      1.0|           0.0|        540.0|\n",
      "|         17|       0|     3|Rice, Master. Eugene|  male| 2.0|    4|    1|          382652| 29.125|       Q|       Rice|          5|    0|      0.0|           2.0|          8.0|\n",
      "|         18|       1|     2|Williams, Mr. Cha...|  male|null|    0|    0|          244373|   13.0|       S|   Williams|          0|    1|      0.0|           0.0|          9.0|\n",
      "|         19|       0|     3|Vander Planke, Mr...|female|31.0|    1|    0|          345763|   18.0|       S|     Vander|          1|    0|      1.0|           0.0|         13.0|\n",
      "|         20|       1|     3|Masselmani, Mrs. ...|female|null|    0|    0|            2649|  7.225|       C| Masselmani|          0|    1|      1.0|           1.0|        158.0|\n",
      "+-----------+--------+------+--------------------+------+----+-----+-----+----------------+-------+--------+-----------+-----------+-----+---------+--------------+-------------+\n",
      "only showing top 20 rows\n",
      "\n"
     ]
    }
   ],
   "source": [
    "titanic.show()"
   ]
  },
  {
   "cell_type": "code",
   "execution_count": 44,
   "metadata": {
    "scrolled": true
   },
   "outputs": [
    {
     "name": "stdout",
     "output_type": "stream",
     "text": [
      "root\n",
      " |-- PassengerId: integer (nullable = true)\n",
      " |-- Survived: integer (nullable = true)\n",
      " |-- Pclass: integer (nullable = true)\n",
      " |-- Name: string (nullable = true)\n",
      " |-- Sex: string (nullable = true)\n",
      " |-- Age: double (nullable = true)\n",
      " |-- SibSp: integer (nullable = true)\n",
      " |-- Parch: integer (nullable = true)\n",
      " |-- Ticket: string (nullable = true)\n",
      " |-- Fare: double (nullable = true)\n",
      " |-- Embarked: string (nullable = false)\n",
      " |-- initial: string (nullable = true)\n",
      " |-- Family_Size: integer (nullable = true)\n",
      " |-- Alone: integer (nullable = false)\n",
      " |-- Sex_index: double (nullable = false)\n",
      " |-- Embarked_index: double (nullable = false)\n",
      " |-- initial_index: double (nullable = false)\n",
      "\n"
     ]
    }
   ],
   "source": [
    "titanic.printSchema()"
   ]
  },
  {
   "cell_type": "code",
   "execution_count": 54,
   "metadata": {},
   "outputs": [],
   "source": [
    "titanic = titanic.na.fill({'Age' : 20})"
   ]
  },
  {
   "cell_type": "code",
   "execution_count": 55,
   "metadata": {},
   "outputs": [],
   "source": [
    "titanic = titanic.drop(\"PassengerId\",\"Name\",\"Ticket\",\"Cabin\",\"Embarked\",\"Sex\",\"initial\")"
   ]
  },
  {
   "cell_type": "code",
   "execution_count": 56,
   "metadata": {
    "scrolled": false
   },
   "outputs": [
    {
     "name": "stdout",
     "output_type": "stream",
     "text": [
      "+--------+------+----+-----+-----+-------+-----------+-----+---------+--------------+-------------+\n",
      "|Survived|Pclass| Age|SibSp|Parch|   Fare|Family_Size|Alone|Sex_index|Embarked_index|initial_index|\n",
      "+--------+------+----+-----+-----+-------+-----------+-----+---------+--------------+-------------+\n",
      "|       0|     3|22.0|    1|    0|   7.25|          1|    0|      0.0|           0.0|         58.0|\n",
      "|       1|     1|38.0|    1|    0|71.2833|          1|    0|      1.0|           1.0|        406.0|\n",
      "|       1|     3|26.0|    0|    0|  7.925|          0|    1|      1.0|           0.0|        473.0|\n",
      "|       1|     1|35.0|    1|    0|   53.1|          1|    0|      1.0|           0.0|         93.0|\n",
      "|       0|     3|35.0|    0|    0|   8.05|          0|    1|      0.0|           0.0|         94.0|\n",
      "|       0|     3|20.0|    0|    0| 8.4583|          0|    1|      0.0|           2.0|         48.0|\n",
      "|       0|     1|54.0|    0|    0|51.8625|          0|    1|      0.0|           0.0|        620.0|\n",
      "|       0|     3| 2.0|    3|    1| 21.075|          4|    0|      0.0|           0.0|         21.0|\n",
      "|       1|     3|27.0|    0|    2|11.1333|          2|    0|      1.0|           0.0|          4.0|\n",
      "|       1|     2|14.0|    1|    0|30.0708|          1|    0|      1.0|           1.0|        114.0|\n",
      "|       1|     3| 4.0|    1|    1|   16.7|          2|    0|      1.0|           0.0|         75.0|\n",
      "|       1|     1|58.0|    0|    0|  26.55|          0|    1|      1.0|           0.0|        171.0|\n",
      "|       0|     3|20.0|    0|    0|   8.05|          0|    1|      0.0|           0.0|        614.0|\n",
      "|       0|     3|39.0|    1|    5| 31.275|          6|    0|      0.0|           0.0|          0.0|\n",
      "|       0|     3|14.0|    0|    0| 7.8542|          0|    1|      1.0|           0.0|        214.0|\n",
      "|       1|     2|55.0|    0|    0|   16.0|          0|    1|      1.0|           0.0|        540.0|\n",
      "|       0|     3| 2.0|    4|    1| 29.125|          5|    0|      0.0|           2.0|          8.0|\n",
      "|       1|     2|20.0|    0|    0|   13.0|          0|    1|      0.0|           0.0|          9.0|\n",
      "|       0|     3|31.0|    1|    0|   18.0|          1|    0|      1.0|           0.0|         13.0|\n",
      "|       1|     3|20.0|    0|    0|  7.225|          0|    1|      1.0|           1.0|        158.0|\n",
      "+--------+------+----+-----+-----+-------+-----------+-----+---------+--------------+-------------+\n",
      "only showing top 20 rows\n",
      "\n"
     ]
    }
   ],
   "source": [
    "titanic.show()"
   ]
  },
  {
   "cell_type": "code",
   "execution_count": 57,
   "metadata": {},
   "outputs": [
    {
     "data": {
      "text/plain": [
       "['Pclass',\n",
       " 'Age',\n",
       " 'SibSp',\n",
       " 'Parch',\n",
       " 'Fare',\n",
       " 'Family_Size',\n",
       " 'Alone',\n",
       " 'Sex_index',\n",
       " 'Embarked_index',\n",
       " 'initial_index']"
      ]
     },
     "execution_count": 57,
     "metadata": {},
     "output_type": "execute_result"
    }
   ],
   "source": [
    "titanic.columns[1:]"
   ]
  },
  {
   "cell_type": "code",
   "execution_count": 58,
   "metadata": {},
   "outputs": [],
   "source": [
    "from pyspark.ml.feature import VectorAssembler"
   ]
  },
  {
   "cell_type": "code",
   "execution_count": 59,
   "metadata": {},
   "outputs": [],
   "source": [
    "feature = VectorAssembler(inputCols = titanic.columns[1:], outputCol = 'features')\n",
    "feature_vector = feature.transform(titanic)"
   ]
  },
  {
   "cell_type": "code",
   "execution_count": 60,
   "metadata": {},
   "outputs": [
    {
     "name": "stdout",
     "output_type": "stream",
     "text": [
      "root\n",
      " |-- Survived: integer (nullable = true)\n",
      " |-- Pclass: integer (nullable = true)\n",
      " |-- Age: double (nullable = false)\n",
      " |-- SibSp: integer (nullable = true)\n",
      " |-- Parch: integer (nullable = true)\n",
      " |-- Fare: double (nullable = true)\n",
      " |-- Family_Size: integer (nullable = true)\n",
      " |-- Alone: integer (nullable = false)\n",
      " |-- Sex_index: double (nullable = false)\n",
      " |-- Embarked_index: double (nullable = false)\n",
      " |-- initial_index: double (nullable = false)\n",
      " |-- features: vector (nullable = true)\n",
      "\n"
     ]
    }
   ],
   "source": [
    "feature_vector.printSchema()"
   ]
  },
  {
   "cell_type": "code",
   "execution_count": 61,
   "metadata": {},
   "outputs": [],
   "source": [
    "# 데이터 세트를 나누는 작업\n",
    "trainData , testData = feature_vector.randomSplit([.8 , .2] , seed=100)"
   ]
  },
  {
   "cell_type": "code",
   "execution_count": 62,
   "metadata": {},
   "outputs": [
    {
     "data": {
      "text/plain": [
       "DataFrame[Survived: int, Pclass: int, Age: double, SibSp: int, Parch: int, Fare: double, Family_Size: int, Alone: int, Sex_index: double, Embarked_index: double, initial_index: double, features: vector]"
      ]
     },
     "execution_count": 62,
     "metadata": {},
     "output_type": "execute_result"
    }
   ],
   "source": [
    "# type(trainData)\n",
    "trainData"
   ]
  },
  {
   "cell_type": "markdown",
   "metadata": {},
   "source": [
    "- 모델링\n",
    "- Spark ML(DTC , LR , RFC , GDTC , NB , SVM)"
   ]
  },
  {
   "cell_type": "code",
   "execution_count": 72,
   "metadata": {},
   "outputs": [],
   "source": [
    "# LogisticRegression\n",
    "# 데이터의 범주가 0 , 1  사이의 값으로 예측하는 분류 알고리즘\n",
    "\n",
    "from pyspark.ml.classification import LogisticRegression\n",
    "lr = LogisticRegression(labelCol='Survived' , featuresCol='features')\n",
    "lr_model = lr.fit(trainData) #모델 생성\n",
    "lr_pred = lr_model.transform(testData) #예측"
   ]
  },
  {
   "cell_type": "code",
   "execution_count": 66,
   "metadata": {},
   "outputs": [
    {
     "name": "stdout",
     "output_type": "stream",
     "text": [
      "root\n",
      " |-- Survived: integer (nullable = true)\n",
      " |-- Pclass: integer (nullable = true)\n",
      " |-- Age: double (nullable = false)\n",
      " |-- SibSp: integer (nullable = true)\n",
      " |-- Parch: integer (nullable = true)\n",
      " |-- Fare: double (nullable = true)\n",
      " |-- Family_Size: integer (nullable = true)\n",
      " |-- Alone: integer (nullable = false)\n",
      " |-- Sex_index: double (nullable = false)\n",
      " |-- Embarked_index: double (nullable = false)\n",
      " |-- initial_index: double (nullable = false)\n",
      " |-- features: vector (nullable = true)\n",
      " |-- rawPrediction: vector (nullable = true)\n",
      " |-- probability: vector (nullable = true)\n",
      " |-- prediction: double (nullable = false)\n",
      "\n",
      "+----------+--------+--------------------+\n",
      "|prediction|Survived|            features|\n",
      "+----------+--------+--------------------+\n",
      "|       0.0|       0|(10,[0,1,6,9],[1....|\n",
      "|       0.0|       0|(10,[0,1,4,6,9],[...|\n",
      "|       0.0|       0|(10,[0,1,4,6,9],[...|\n",
      "|       1.0|       0|[1.0,20.0,0.0,0.0...|\n",
      "|       1.0|       0|(10,[0,1,4,6,9],[...|\n",
      "|       1.0|       0|[1.0,20.0,0.0,0.0...|\n",
      "|       1.0|       0|[1.0,22.0,0.0,0.0...|\n",
      "|       1.0|       0|[1.0,27.0,0.0,2.0...|\n",
      "|       0.0|       0|(10,[0,1,4,6,9],[...|\n",
      "|       0.0|       0|[1.0,36.0,0.0,0.0...|\n",
      "|       0.0|       0|[1.0,36.0,1.0,0.0...|\n",
      "|       0.0|       0|(10,[0,1,6,9],[1....|\n",
      "|       0.0|       0|[1.0,46.0,0.0,0.0...|\n",
      "|       0.0|       0|(10,[0,1,4,6,9],[...|\n",
      "|       0.0|       0|[1.0,50.0,1.0,0.0...|\n",
      "|       0.0|       0|[1.0,54.0,0.0,1.0...|\n",
      "|       0.0|       0|(10,[0,1,4,6,9],[...|\n",
      "|       0.0|       0|[1.0,64.0,1.0,4.0...|\n",
      "|       0.0|       0|(10,[0,1,4,6,9],[...|\n",
      "|       0.0|       0|(10,[0,1,4,6,9],[...|\n",
      "+----------+--------+--------------------+\n",
      "only showing top 20 rows\n",
      "\n"
     ]
    }
   ],
   "source": [
    "# type ( lr_pred )\n",
    "lr_pred.printSchema()\n",
    "lr_pred.select('prediction' , 'Survived' , 'features').show()"
   ]
  },
  {
   "cell_type": "code",
   "execution_count": 68,
   "metadata": {},
   "outputs": [],
   "source": [
    "# 평가\n",
    "from pyspark.ml.evaluation import MulticlassClassificationEvaluator\n",
    "evaluator = MulticlassClassificationEvaluator(labelCol= 'Survived', \n",
    "                                              predictionCol= 'prediction', \n",
    "                                              metricName='accuracy')"
   ]
  },
  {
   "cell_type": "code",
   "execution_count": 73,
   "metadata": {},
   "outputs": [
    {
     "name": "stdout",
     "output_type": "stream",
     "text": [
      "acc :  0.8\n",
      "err :  0.19999999999999996\n"
     ]
    }
   ],
   "source": [
    "acc = evaluator.evaluate(lr_pred)\n",
    "print('acc : ' , acc) \n",
    "print('err : ' , 1.0 - acc)"
   ]
  }
 ],
 "metadata": {
  "kernelspec": {
   "display_name": "Python 3",
   "language": "python",
   "name": "python3"
  },
  "language_info": {
   "codemirror_mode": {
    "name": "ipython",
    "version": 3
   },
   "file_extension": ".py",
   "mimetype": "text/x-python",
   "name": "python",
   "nbconvert_exporter": "python",
   "pygments_lexer": "ipython3",
   "version": "3.6.10"
  }
 },
 "nbformat": 4,
 "nbformat_minor": 4
}
