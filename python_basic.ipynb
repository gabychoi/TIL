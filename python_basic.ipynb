{
 "cells": [
  {
   "cell_type": "markdown",
   "metadata": {},
   "source": [
    "## 변수와 상수"
   ]
  },
  {
   "cell_type": "code",
   "execution_count": 21,
   "metadata": {},
   "outputs": [
    {
     "name": "stdout",
     "output_type": "stream",
     "text": [
      "10\n",
      "20\n",
      "10\n",
      "20\n"
     ]
    }
   ],
   "source": [
    "result = 10\n",
    "print(result)\n",
    "result = 20\n",
    "print(result)\n",
    "\n",
    "print(\"10\")\n",
    "print(\"20\")"
   ]
  },
  {
   "cell_type": "markdown",
   "metadata": {},
   "source": [
    "- 변수 : 값을 저장하는 곳, 변하는 값, 따옴표로 감싸져 있지 않음 \n",
    "    ex) hello = 10에서 hello가 변수\n",
    "\n",
    "\n",
    "- 상수 : 변하지 않는 값, 따옴표로 감싸져 있음.\n",
    "    ex) print(\"10\")에서 \"10\""
   ]
  },
  {
   "cell_type": "markdown",
   "metadata": {},
   "source": [
    "## if문"
   ]
  },
  {
   "cell_type": "code",
   "execution_count": 23,
   "metadata": {},
   "outputs": [
    {
     "name": "stdout",
     "output_type": "stream",
     "text": [
      "문을 열어줍니다.\n"
     ]
    }
   ],
   "source": [
    "password = 1234\n",
    "\n",
    "if password == 1234:\n",
    "    print(\"문을 열어줍니다.\")\n",
    "else :\n",
    "    print(\"아무것도 하지 않습니다.\")"
   ]
  },
  {
   "cell_type": "code",
   "execution_count": 24,
   "metadata": {},
   "outputs": [
    {
     "name": "stdout",
     "output_type": "stream",
     "text": [
      "아무것도 하지 않습니다.\n"
     ]
    }
   ],
   "source": [
    "password = 1235\n",
    "\n",
    "if password == 1234:\n",
    "    print(\"문을 열어줍니다.\")\n",
    "else :\n",
    "    print(\"아무것도 하지 않습니다.\")"
   ]
  },
  {
   "cell_type": "code",
   "execution_count": 25,
   "metadata": {},
   "outputs": [
    {
     "name": "stdout",
     "output_type": "stream",
     "text": [
      "B\n"
     ]
    }
   ],
   "source": [
    "score = 86\n",
    "\n",
    "if score >= 90:\n",
    "    print(\"A\")\n",
    "elif score >= 80:\n",
    "    print(\"B\")\n",
    "else:\n",
    "    print(\"C\")"
   ]
  },
  {
   "cell_type": "markdown",
   "metadata": {},
   "source": [
    "## 함수"
   ]
  },
  {
   "cell_type": "code",
   "execution_count": null,
   "metadata": {},
   "outputs": [],
   "source": [
    "def print_hello()\n",
    "def aaaa()\n",
    "def bbbb()\n",
    "def plus()"
   ]
  },
  {
   "cell_type": "code",
   "execution_count": 3,
   "metadata": {},
   "outputs": [
    {
     "name": "stdout",
     "output_type": "stream",
     "text": [
      "hello\n"
     ]
    }
   ],
   "source": [
    "def print_hello():\n",
    "    print(\"hello\")\n",
    "    \n",
    "print_hello()"
   ]
  },
  {
   "cell_type": "code",
   "execution_count": 4,
   "metadata": {},
   "outputs": [
    {
     "name": "stdout",
     "output_type": "stream",
     "text": [
      "전기공격\n"
     ]
    }
   ],
   "source": [
    "def pikachu():\n",
    "    print(\"전기공격\")\n",
    "    \n",
    "pikachu()"
   ]
  },
  {
   "cell_type": "code",
   "execution_count": 5,
   "metadata": {},
   "outputs": [
    {
     "name": "stdout",
     "output_type": "stream",
     "text": [
      "bye\n"
     ]
    }
   ],
   "source": [
    "def print_message(p_message):\n",
    "    print(p_message)\n",
    "    \n",
    "print_message(\"bye\")"
   ]
  },
  {
   "cell_type": "code",
   "execution_count": 12,
   "metadata": {},
   "outputs": [
    {
     "name": "stdout",
     "output_type": "stream",
     "text": [
      "전기공격\n"
     ]
    }
   ],
   "source": [
    "def pikachu(skill_number):\n",
    "    if skill_number == 1:\n",
    "        print(\"전기공격\")\n",
    "    elif skill_number == 2:\n",
    "        print(\"몸통박치기\")\n",
    "        \n",
    "pikachu(1)"
   ]
  },
  {
   "cell_type": "code",
   "execution_count": 10,
   "metadata": {},
   "outputs": [
    {
     "name": "stdout",
     "output_type": "stream",
     "text": [
      "result_return : 30\n"
     ]
    }
   ],
   "source": [
    "def plus(val1, val2):\n",
    "    return val1 + val2\n",
    "\n",
    "result_return = plus(10, 20)\n",
    "print(\"result_return :\", result_return)"
   ]
  },
  {
   "cell_type": "code",
   "execution_count": 17,
   "metadata": {},
   "outputs": [
    {
     "name": "stdout",
     "output_type": "stream",
     "text": [
      "using print: 30\n",
      "result: None\n",
      "result_return 30\n"
     ]
    }
   ],
   "source": [
    "def print_hello(p1, p2):\n",
    "    print(\"using print:\", p1 + p2)\n",
    "#     return \"using print:\"+str((p1 + p2))\n",
    "    \n",
    "def plus(val1, val2):\n",
    "    return val1 + val2\n",
    "\n",
    "result = print_hello(10, 20)\n",
    "result_return = plus(10, 20)\n",
    "\n",
    "print(\"result:\",result)\n",
    "print(\"result_return\",result_return)"
   ]
  },
  {
   "cell_type": "markdown",
   "metadata": {},
   "source": [
    "### 사칙연산 예제로 배우는 함수 만들기\n"
   ]
  },
  {
   "cell_type": "code",
   "execution_count": 27,
   "metadata": {},
   "outputs": [],
   "source": [
    "def plus(val1, val2):\n",
    "    return val1 + val2\n",
    "\n",
    "def sub(val1, val2):\n",
    "    return val1 - val2\n",
    "\n",
    "def mul(val1, val2):\n",
    "    return val1 * val2\n",
    "\n",
    "def div(val1, val2):\n",
    "    return val1 / val2"
   ]
  },
  {
   "cell_type": "code",
   "execution_count": 29,
   "metadata": {},
   "outputs": [
    {
     "name": "stdout",
     "output_type": "stream",
     "text": [
      "80\n"
     ]
    }
   ],
   "source": [
    "a = plus(10, 20)\n",
    "b = plus(20, 30)\n",
    "c = a + b\n",
    "print(c)"
   ]
  },
  {
   "cell_type": "markdown",
   "metadata": {},
   "source": [
    "### 합성 함수"
   ]
  },
  {
   "cell_type": "code",
   "execution_count": 3,
   "metadata": {},
   "outputs": [
    {
     "name": "stdout",
     "output_type": "stream",
     "text": [
      "210\n"
     ]
    }
   ],
   "source": [
    "# f(g(x)) 함수 만들기\n",
    "\n",
    "#f함수 선언\n",
    "def f(param1):\n",
    "    return param1 + 10\n",
    "\n",
    "#g함수 선언\n",
    "def g(param1):\n",
    "    return param1 * 20\n",
    "\n",
    "#합성 함수\n",
    "#fog(10) = 210\n",
    "print(f(g(10)))"
   ]
  },
  {
   "cell_type": "markdown",
   "metadata": {},
   "source": [
    "### 반복문 for"
   ]
  },
  {
   "cell_type": "code",
   "execution_count": 6,
   "metadata": {},
   "outputs": [
    {
     "name": "stdout",
     "output_type": "stream",
     "text": [
      "0\n",
      "1\n",
      "2\n",
      "3\n",
      "4\n",
      "5\n",
      "6\n",
      "7\n",
      "8\n",
      "9\n"
     ]
    }
   ],
   "source": [
    "for item in range(0, 10): #in 뒤에 있는 것들이 item으로 하나씩 뽑아 들어간다는 뜻\n",
    "    print(item)"
   ]
  },
  {
   "cell_type": "code",
   "execution_count": 9,
   "metadata": {},
   "outputs": [
    {
     "name": "stdout",
     "output_type": "stream",
     "text": [
      "hello\n",
      "hello\n",
      "hello\n",
      "hello\n",
      "hello\n",
      "hello\n",
      "hello\n",
      "hello\n",
      "hello\n",
      "hello\n"
     ]
    }
   ],
   "source": [
    "for item in range(0, 10):\n",
    "    print(\"hello\")"
   ]
  },
  {
   "cell_type": "markdown",
   "metadata": {},
   "source": [
    "### range()\n",
    ": 숫자를 여러 개 만들어주는 함수"
   ]
  },
  {
   "cell_type": "code",
   "execution_count": 13,
   "metadata": {},
   "outputs": [
    {
     "name": "stdout",
     "output_type": "stream",
     "text": [
      "[1, 2, 3, 4, 5, 6, 7, 8, 9]\n"
     ]
    }
   ],
   "source": [
    "range(0,10) # 0~9까지 생성\n",
    "range(1,21) # 1~20까지 생성\n",
    "print(list(range(1,10))) #뭐가 들어있는지 보려면 list로 감싸서 출력해야 한다."
   ]
  },
  {
   "cell_type": "markdown",
   "metadata": {},
   "source": [
    "### list(리스트) = array(배열) = [ ]"
   ]
  },
  {
   "cell_type": "code",
   "execution_count": 17,
   "metadata": {},
   "outputs": [
    {
     "name": "stdout",
     "output_type": "stream",
     "text": [
      "[0, 1, 2, 3, 4]\n",
      "['hojin', 'jaewon', 'sunlim']\n"
     ]
    }
   ],
   "source": [
    "list_number = [0,1,2,3,4]\n",
    "list_string = ['hojin', 'jaewon', 'sunlim']\n",
    "print(list_number)\n",
    "print(list_string)"
   ]
  },
  {
   "cell_type": "markdown",
   "metadata": {},
   "source": [
    "#### 리스트에서 인덱싱하기"
   ]
  },
  {
   "cell_type": "code",
   "execution_count": 21,
   "metadata": {},
   "outputs": [
    {
     "name": "stdout",
     "output_type": "stream",
     "text": [
      "[0, 1, 2, 3, 4]\n",
      "3\n"
     ]
    }
   ],
   "source": [
    "num_list = [0,1,2,3,4]\n",
    "\n",
    "print(num_list)\n",
    "print(num_list[3]) #인덱스는 0부터 시작한다."
   ]
  },
  {
   "cell_type": "markdown",
   "metadata": {},
   "source": [
    "#### for로 리스트 출력하기"
   ]
  },
  {
   "cell_type": "code",
   "execution_count": 23,
   "metadata": {},
   "outputs": [
    {
     "name": "stdout",
     "output_type": "stream",
     "text": [
      "0\n",
      "1\n",
      "2\n",
      "3\n",
      "4\n"
     ]
    }
   ],
   "source": [
    "for item in [0,1,2,3,4]:\n",
    "    print(item)"
   ]
  },
  {
   "cell_type": "markdown",
   "metadata": {},
   "source": [
    "#### 구구단 만들기"
   ]
  },
  {
   "cell_type": "code",
   "execution_count": 24,
   "metadata": {},
   "outputs": [
    {
     "name": "stdout",
     "output_type": "stream",
     "text": [
      "2 1 2\n",
      "2 * 1 = 2\n"
     ]
    }
   ],
   "source": [
    "print(2, 1, 2)\n",
    "print(2, \"*\", 1, \"=\", 2)"
   ]
  },
  {
   "cell_type": "code",
   "execution_count": 25,
   "metadata": {},
   "outputs": [
    {
     "name": "stdout",
     "output_type": "stream",
     "text": [
      "2 1\n",
      "2 2\n",
      "2 3\n",
      "2 4\n",
      "2 5\n",
      "2 6\n",
      "2 7\n",
      "2 8\n",
      "2 9\n"
     ]
    }
   ],
   "source": [
    "for item in range(1,10):\n",
    "    print(2, item)"
   ]
  },
  {
   "cell_type": "code",
   "execution_count": 27,
   "metadata": {},
   "outputs": [
    {
     "name": "stdout",
     "output_type": "stream",
     "text": [
      "2 * 1 = 2\n",
      "2 * 2 = 4\n",
      "2 * 3 = 6\n",
      "2 * 4 = 8\n",
      "2 * 5 = 10\n",
      "2 * 6 = 12\n",
      "2 * 7 = 14\n",
      "2 * 8 = 16\n",
      "2 * 9 = 18\n"
     ]
    }
   ],
   "source": [
    "#구구단 출력\n",
    "for item in range(1,10):\n",
    "    print(2, \"*\", item, \"=\", 2 * item)"
   ]
  },
  {
   "cell_type": "markdown",
   "metadata": {},
   "source": [
    "#### for문을 바로 리스트로 만들기"
   ]
  },
  {
   "cell_type": "code",
   "execution_count": 30,
   "metadata": {
    "scrolled": true
   },
   "outputs": [
    {
     "name": "stdout",
     "output_type": "stream",
     "text": [
      "2\n",
      "4\n",
      "6\n",
      "8\n"
     ]
    }
   ],
   "source": [
    "num_list = [1,2,3,4]\n",
    "\n",
    "for num in num_list :\n",
    "    print(num * 2)"
   ]
  },
  {
   "cell_type": "code",
   "execution_count": 32,
   "metadata": {},
   "outputs": [
    {
     "name": "stdout",
     "output_type": "stream",
     "text": [
      "[2, 4, 6, 8]\n"
     ]
    }
   ],
   "source": [
    "num_list = [1,2,3,4]\n",
    "\n",
    "results = [num * 2 for num in num_list]\n",
    "print(results)\n",
    "\n",
    "# results = [연산결과 for item in 리스트]\n",
    "# 쇼핑몰 크롤링 시 한 페이지에 있는 모든 상품 정보를 바로 리스트 형태로 만들고 싶을 때 주로 사용"
   ]
  },
  {
   "cell_type": "markdown",
   "metadata": {},
   "source": [
    "### 숫자"
   ]
  },
  {
   "cell_type": "code",
   "execution_count": 1,
   "metadata": {},
   "outputs": [
    {
     "name": "stdout",
     "output_type": "stream",
     "text": [
      "20\n"
     ]
    }
   ],
   "source": [
    "a = 10\n",
    "b = -20\n",
    "c = 30\n",
    "total = a + b + c\n",
    "print(total)"
   ]
  },
  {
   "cell_type": "code",
   "execution_count": 2,
   "metadata": {},
   "outputs": [
    {
     "name": "stdout",
     "output_type": "stream",
     "text": [
      "32.766666666666666\n"
     ]
    }
   ],
   "source": [
    "a = 12.5\n",
    "b = 35.8\n",
    "c = 50\n",
    "total = a + b + c\n",
    "average = total / 3\n",
    "print(average)"
   ]
  },
  {
   "cell_type": "code",
   "execution_count": 1,
   "metadata": {},
   "outputs": [
    {
     "name": "stdout",
     "output_type": "stream",
     "text": [
      "7.5\n",
      "0.13333333333333333\n",
      "0.5\n",
      "1.0\n",
      "<class 'int'>\n",
      "<class 'float'>\n"
     ]
    }
   ],
   "source": [
    "print(30/4)\n",
    "print(4/30)\n",
    "print(5/10)\n",
    "print(1/1)\n",
    "print(type(1))\n",
    "print(type(1/1))\n",
    "\n",
    "# 연산 결과는 실수형으로 출력된다.\n",
    "# 결과값이 정수형으로 정확히 떨어져도 실수형으로 출력된다.\n",
    "# type() 은 데이터의 타입을 알아볼 때 사용된다."
   ]
  },
  {
   "cell_type": "markdown",
   "metadata": {},
   "source": [
    "#### 연산자"
   ]
  },
  {
   "cell_type": "code",
   "execution_count": 3,
   "metadata": {
    "scrolled": true
   },
   "outputs": [
    {
     "name": "stdout",
     "output_type": "stream",
     "text": [
      "9\n",
      "2.0\n",
      "42.0\n",
      "20.0\n",
      "0\n",
      "2.857142857142857\n",
      "6\n",
      "2\n"
     ]
    }
   ],
   "source": [
    "print(5 + 4)\n",
    "print(5.0 - 3.0)\n",
    "print(10.5 * 4)\n",
    "print(200 / 10)\n",
    "print(200 % 10)\n",
    "print(20 / 7)\n",
    "print(20 % 7) # 나눈 나머지 출력\n",
    "print(20 // 7) # 나눈 몫에서 정수 부분만 출력"
   ]
  },
  {
   "cell_type": "markdown",
   "metadata": {},
   "source": [
    "#### 중간고사 점수 비교 실습하기"
   ]
  },
  {
   "cell_type": "code",
   "execution_count": 2,
   "metadata": {},
   "outputs": [
    {
     "name": "stdout",
     "output_type": "stream",
     "text": [
      "호진이가 높아요\n"
     ]
    }
   ],
   "source": [
    "hojin_kor = 88\n",
    "hojin_eng = 76\n",
    "hojin_math = 95\n",
    "jaewon_kor = 100\n",
    "jaewon_eng = 67\n",
    "jaewon_math = 80\n",
    "\n",
    "hojin_average = (hojin_kor + hojin_eng + hojin_math) / 3\n",
    "jaewon_average = (jaewon_kor + jaewon_eng + jaewon_math) / 3\n",
    "\n",
    "if (hojin_average > jaewon_average) :\n",
    "    print(\"호진이가 높아요\")\n",
    "elif (hojin_average == jaewon_average):\n",
    "    print(\"둘이 같아요\")\n",
    "else : \n",
    "    print(\"재원이가 높아요\")"
   ]
  },
  {
   "cell_type": "markdown",
   "metadata": {},
   "source": [
    "### 문자열\n",
    ": \" \", ' ' 로 감싸 만든다."
   ]
  },
  {
   "cell_type": "code",
   "execution_count": 6,
   "metadata": {},
   "outputs": [
    {
     "name": "stdout",
     "output_type": "stream",
     "text": [
      "Data crawling is fun\n",
      "Data parsing is also fun\n",
      "<class 'str'>\n",
      "<class 'str'>\n"
     ]
    }
   ],
   "source": [
    "crawling = \"Data crawling is fun\"\n",
    "parsing = 'Data parsing is also fun'\n",
    "\n",
    "print(crawling)\n",
    "print(parsing)\n",
    "print(type(crawling))\n",
    "print(type(parsing))"
   ]
  },
  {
   "cell_type": "code",
   "execution_count": 11,
   "metadata": {},
   "outputs": [
    {
     "name": "stdout",
     "output_type": "stream",
     "text": [
      "Data crawling is fun. Data parsing is also fun\n"
     ]
    }
   ],
   "source": [
    "# 문자열 더하기 : 문자열끼리의 연산\n",
    "crawling = \"Data crawling is fun\"\n",
    "parsing = 'Data parsing is also fun'\n",
    "\n",
    "print(crawling + \". \" + parsing) #중간에 . 와 띄어쓰기 추가"
   ]
  },
  {
   "cell_type": "code",
   "execution_count": 2,
   "metadata": {},
   "outputs": [
    {
     "name": "stdout",
     "output_type": "stream",
     "text": [
      "원의 넓이 : 314.1592\n"
     ]
    }
   ],
   "source": [
    "r = 10\n",
    "pie = 3.141592\n",
    "area = (r ** 2) * pie\n",
    "\n",
    "print(\"원의 넓이 : \" + str(area)) # 데이터 형이 달라 + 연산할 수 없어 str() 함수로 문자열로 변환"
   ]
  },
  {
   "cell_type": "markdown",
   "metadata": {},
   "source": [
    "### 인덱싱\n",
    "- 인덱스를 통해 자료를 다루는 것을 의미. 원하는 특정 문자 혹은 데이터를 추출할 때 사용.\n",
    "- 변수[시작:끝]"
   ]
  },
  {
   "cell_type": "markdown",
   "metadata": {},
   "source": [
    "#### 문자열 인덱싱"
   ]
  },
  {
   "cell_type": "code",
   "execution_count": 9,
   "metadata": {},
   "outputs": [],
   "source": [
    "s1 = 'abcde'\n",
    "s2 = 'cdabe'\n",
    "s3 = 'qwertabcd'"
   ]
  },
  {
   "cell_type": "code",
   "execution_count": 5,
   "metadata": {},
   "outputs": [
    {
     "data": {
      "text/plain": [
       "'a'"
      ]
     },
     "execution_count": 5,
     "metadata": {},
     "output_type": "execute_result"
    }
   ],
   "source": [
    "s1[0]"
   ]
  },
  {
   "cell_type": "code",
   "execution_count": 6,
   "metadata": {},
   "outputs": [
    {
     "data": {
      "text/plain": [
       "'ab'"
      ]
     },
     "execution_count": 6,
     "metadata": {},
     "output_type": "execute_result"
    }
   ],
   "source": [
    "s2[2:4]"
   ]
  },
  {
   "cell_type": "code",
   "execution_count": 10,
   "metadata": {},
   "outputs": [
    {
     "data": {
      "text/plain": [
       "'c'"
      ]
     },
     "execution_count": 10,
     "metadata": {},
     "output_type": "execute_result"
    }
   ],
   "source": [
    "s3[7]\n",
    "# or\n",
    "s3[7:8] # 변수[시작:끝] 끝 -1 까지만 출력된다"
   ]
  },
  {
   "cell_type": "code",
   "execution_count": 7,
   "metadata": {
    "scrolled": true
   },
   "outputs": [
    {
     "name": "stdout",
     "output_type": "stream",
     "text": [
      "Data\n",
      "Data crawling\n",
      "fun\n",
      "n\n",
      "un\n",
      "Data crawling is f\n",
      "fun\n"
     ]
    }
   ],
   "source": [
    "crawling = \"Data crawling is fun\"\n",
    "parsing = 'Data parsing is fun'\n",
    "\n",
    "data = crawling[0:4]\n",
    "data_crawling = crawling[0:13]\n",
    "fun = crawling[17:]\n",
    "n = crawling[19]\n",
    "n_range = crawling[-2:] # 뒤에서부터 2 거리(2 음절)만큼 출력\n",
    "n_range2 = crawling[:-2] # 뒤에서부터 2 거리(2 음절)만큼만 빼고 전부 출력\n",
    "also = parsing[16:16 + 4]\n",
    "\n",
    "print(data)\n",
    "print(data_crawling)\n",
    "print(fun)\n",
    "print(n)\n",
    "print(n_range)\n",
    "print(n_range2)\n",
    "print(also)"
   ]
  },
  {
   "cell_type": "markdown",
   "metadata": {},
   "source": [
    "### 문자열 함수"
   ]
  },
  {
   "cell_type": "markdown",
   "metadata": {},
   "source": [
    "- find() : 특정 문자열이 문자열 안에 존재하는지, 존재한다면 어디에 존재하는지 알려주는 함수"
   ]
  },
  {
   "cell_type": "code",
   "execution_count": 12,
   "metadata": {},
   "outputs": [
    {
     "name": "stdout",
     "output_type": "stream",
     "text": [
      "0\n",
      "17\n",
      "0\n",
      "16\n",
      "-1\n",
      "-1\n"
     ]
    }
   ],
   "source": [
    "crawling = \"Data crawling is fun\"\n",
    "parsing = 'Data parsing is fun'\n",
    "\n",
    "print(crawling.find(\"Data\")) # 찾는 문자열이 존재할 경우, 해당 문자열이 존재하는 첫 번째 인덱스가 출력된다\n",
    "print(crawling.find(\"fun\"))\n",
    "print(parsing.find(\"Data\"))\n",
    "print(parsing.find(\"fun\"))\n",
    "print(crawling.find(\"parsing\")) # 존재하지 않는 문자열이면 -1 이 출력된다\n",
    "print(parsing.find(\"crawling\"))"
   ]
  },
  {
   "cell_type": "code",
   "execution_count": 13,
   "metadata": {},
   "outputs": [
    {
     "name": "stdout",
     "output_type": "stream",
     "text": [
      "Data 문자열이 존재합니다\n"
     ]
    }
   ],
   "source": [
    "if(crawling.find(\"Data\") != -1) :\n",
    "    print(\"Data 문자열이 존재합니다\")"
   ]
  },
  {
   "cell_type": "markdown",
   "metadata": {},
   "source": [
    "- split() : 문자열을 나눌 때 사용하는 함수"
   ]
  },
  {
   "cell_type": "code",
   "execution_count": 16,
   "metadata": {},
   "outputs": [
    {
     "name": "stdout",
     "output_type": "stream",
     "text": [
      "random:data:choice:sampling:mini-batch:unpooling:training\n",
      "['random', 'data', 'choice', 'sampling', 'mini-batch', 'unpooling', 'training']\n",
      "random\n",
      "data\n",
      "choice\n",
      "sampling\n",
      "mini-batch\n",
      "unpooling\n",
      "training\n"
     ]
    }
   ],
   "source": [
    "str_data = \"random:data:choice:sampling:mini-batch:unpooling:training\"\n",
    "split_str_data = str_data.split(\":\") \n",
    "print(str_data)\n",
    "print(split_str_data) # 리스트 형태로 출력된다\n",
    "\n",
    "for i in range(0, len(split_str_data)):\n",
    "    print(split_str_data[i])"
   ]
  },
  {
   "cell_type": "markdown",
   "metadata": {},
   "source": [
    "- replace() : 특정 문자열을 원하는 문자열로 바꿔주는 함수"
   ]
  },
  {
   "cell_type": "code",
   "execution_count": 18,
   "metadata": {},
   "outputs": [
    {
     "name": "stdout",
     "output_type": "stream",
     "text": [
      "Data crawling is fun\n",
      "Web crawling is fun\n"
     ]
    }
   ],
   "source": [
    "crawling = \"Data crawling is fun\"\n",
    "\n",
    "print(crawling.replace(\"search\", \"analyze\")) # 해당 문자열이 없으면 바뀌지 X, 원래 문자열 반환\n",
    "print(crawling.replace(\"Data\", \"Web\"))"
   ]
  },
  {
   "cell_type": "markdown",
   "metadata": {},
   "source": [
    "- count() : 전체 문자열에서 특정 문자열이 몇 번 출현하는지 그 수를 리턴하는 함수"
   ]
  },
  {
   "cell_type": "code",
   "execution_count": 20,
   "metadata": {},
   "outputs": [
    {
     "name": "stdout",
     "output_type": "stream",
     "text": [
      "7\n"
     ]
    }
   ],
   "source": [
    "hojin = \"hojin is pretty. hojin is awesome. hojin is amazing. hojin is beautiful. hojin is smart. hojin is great. hojin is perfect.\"\n",
    "\n",
    "print(hojin.count(\"is\"))"
   ]
  },
  {
   "cell_type": "markdown",
   "metadata": {},
   "source": [
    "## parsing \n",
    "- 데이터 중 필요한 데이터만 추출하는 분석 과정\n",
    "- ex) 크롤링한 데이터 중 실제 필요한 중요 데이터를 분석 과정을 통해 자르고 추출하는 과정"
   ]
  },
  {
   "cell_type": "code",
   "execution_count": 22,
   "metadata": {},
   "outputs": [
    {
     "name": "stdout",
     "output_type": "stream",
     "text": [
      "70\n"
     ]
    }
   ],
   "source": [
    "str_data = \"{a1 : 20}, {a2 : 30}, {a3 : 15}, {a4 : 50}, {a5 : -15}, {a6 : 80}, {a7 : 0}, {a8 : -110}\"\n",
    "\n",
    "total = 0\n",
    "split_str_data = str_data.split(\",\")\n",
    "for i in range(0, len(split_str_data)):\n",
    "    str_tmp = split_str_data[i].split(\":\")[1].split(\"}\")[0]\n",
    "    num_tmp = int(str_tmp)\n",
    "    total += num_tmp\n",
    "    \n",
    "print(total)"
   ]
  },
  {
   "cell_type": "markdown",
   "metadata": {},
   "source": [
    "## 리스트 [ ]\n",
    "- 원소로 숫자, 문자, 문자열, 또 다른 리스트 등 모든 데이터 타입을 넣을 수 있다.\n",
    "- 리스트 안 원소를 추가 혹은 삭제하거나, 특정 인덱스 원소를 뽑아 새로운 리스트를 만들 수 있다."
   ]
  },
  {
   "cell_type": "code",
   "execution_count": 13,
   "metadata": {},
   "outputs": [
    {
     "name": "stdout",
     "output_type": "stream",
     "text": [
      "[]\n",
      "<class 'list'>\n"
     ]
    }
   ],
   "source": [
    "name = [ ]\n",
    "print(name)\n",
    "print(type(name))"
   ]
  },
  {
   "cell_type": "code",
   "execution_count": 14,
   "metadata": {},
   "outputs": [
    {
     "name": "stdout",
     "output_type": "stream",
     "text": [
      "['hojin']\n"
     ]
    }
   ],
   "source": [
    "name = [\"hojin\"]\n",
    "print(name)"
   ]
  },
  {
   "cell_type": "code",
   "execution_count": 20,
   "metadata": {},
   "outputs": [
    {
     "name": "stdout",
     "output_type": "stream",
     "text": [
      "[1, 2, 3, 4, 5]\n",
      "[1.1, 2.2, 3.3, 4.4, 5.5]\n",
      "['crawling', 'parsing', 'data', 'extract', 'pre-processing']\n",
      "[[1, 2, 3, 4, 5], [1.1, 2.2, 3.3, 4.4, 5.5], ['crawling', 'parsing', 'data', 'extract', 'pre-processing']]\n"
     ]
    }
   ],
   "source": [
    "int_list = [1,2,3,4,5]\n",
    "float_list = [1.1, 2.2, 3.3, 4.4, 5.5]\n",
    "string_list = [\"crawling\", \"parsing\", \"data\", \"extract\", \"pre-processing\"]\n",
    "all_list = [int_list, float_list, string_list]\n",
    "\n",
    "print(int_list)\n",
    "print(float_list)\n",
    "print(string_list)\n",
    "print(all_list)"
   ]
  },
  {
   "cell_type": "markdown",
   "metadata": {},
   "source": [
    "#### 인덱싱"
   ]
  },
  {
   "cell_type": "code",
   "execution_count": 28,
   "metadata": {},
   "outputs": [
    {
     "name": "stdout",
     "output_type": "stream",
     "text": [
      "[3, 4]\n",
      "[5.5]\n",
      "parsing\n",
      "5\n"
     ]
    }
   ],
   "source": [
    "int_list = [1,2,3,4,5]\n",
    "float_list = [1.1, 2.2, 3.3, 4.4, 5.5]\n",
    "string_list = [\"crawling\", \"parsing\", \"data\", \"extract\", \"pre-processing\"]\n",
    "all_list = [int_list, float_list, string_list]\n",
    "\n",
    "print(int_list[2:4])\n",
    "print(float_list[-1:])\n",
    "print(string_list[1])\n",
    "print(all_list[0][4])"
   ]
  },
  {
   "cell_type": "markdown",
   "metadata": {},
   "source": [
    "#### 반복문을 사용한 데이터 접근"
   ]
  },
  {
   "cell_type": "code",
   "execution_count": 34,
   "metadata": {},
   "outputs": [
    {
     "name": "stdout",
     "output_type": "stream",
     "text": [
      "1\n",
      "2\n",
      "3\n",
      "4\n",
      "5\n",
      "1.1\n",
      "2.2\n",
      "3.3\n",
      "4.4\n",
      "5.5\n",
      "crawling\n",
      "parsing\n",
      "data\n",
      "extract\n",
      "pre-processing\n",
      "[1, 2, 3, 4, 5]\n",
      "[1.1, 2.2, 3.3, 4.4, 5.5]\n",
      "['crawling', 'parsing', 'data', 'extract', 'pre-processing']\n"
     ]
    }
   ],
   "source": [
    "in_list = [1,2,3,4,5]\n",
    "float_list = [1.1, 2.2, 3.3, 4.4, 5.5]\n",
    "string_list = [\"crawling\", \"parsing\", \"data\", \"extract\", \"pre-processing\"]\n",
    "all_list = [int_list, float_list, string_list]\n",
    "\n",
    "for i in range(0, len(int_list)):\n",
    "    print(int_list[i])\n",
    "for i in range(0, len(float_list)):\n",
    "    print(float_list[i])\n",
    "for i in range(0, len(string_list)):\n",
    "    print(string_list[i])\n",
    "for i in range(0, len(all_list)):\n",
    "    print(all_list[i])"
   ]
  },
  {
   "cell_type": "markdown",
   "metadata": {},
   "source": [
    "## 자주 사용하는 리스트 함수"
   ]
  },
  {
   "cell_type": "markdown",
   "metadata": {},
   "source": [
    "- append( ) : 리스트의 가장 마지막에 원소를 추가\n"
   ]
  },
  {
   "cell_type": "code",
   "execution_count": 9,
   "metadata": {},
   "outputs": [
    {
     "name": "stdout",
     "output_type": "stream",
     "text": [
      "[1, 2, 3, 4, 5, 6]\n"
     ]
    }
   ],
   "source": [
    "int_list = [1,2,3,4,5]\n",
    "\n",
    "int_list.append(6)\n",
    "print(int_list)"
   ]
  },
  {
   "cell_type": "markdown",
   "metadata": {},
   "source": [
    "- insert( ) : 특정 인덱스에 원소를 추가 ex) insert(1,4) : 1번 인덱스에 4를 삽입"
   ]
  },
  {
   "cell_type": "code",
   "execution_count": 8,
   "metadata": {},
   "outputs": [
    {
     "name": "stdout",
     "output_type": "stream",
     "text": [
      "[-1, 1, 2, 3, 4, 5]\n"
     ]
    }
   ],
   "source": [
    "int_list = [1,2,3,4,5]\n",
    "\n",
    "int_list.insert(0, -1)\n",
    "print(int_list)"
   ]
  },
  {
   "cell_type": "markdown",
   "metadata": {},
   "source": [
    "- remove( ) : 인자로 받은 데이터를 앞의 인덱스부터 검색해 처음 나오는 해당 데이터를 삭제"
   ]
  },
  {
   "cell_type": "code",
   "execution_count": 16,
   "metadata": {},
   "outputs": [
    {
     "name": "stdout",
     "output_type": "stream",
     "text": [
      "[1, 2, 3, 5, 4]\n"
     ]
    }
   ],
   "source": [
    "int_list = [1,2,3,4,5,4]\n",
    "\n",
    "int_list.remove(4)\n",
    "print(int_list)"
   ]
  },
  {
   "cell_type": "markdown",
   "metadata": {},
   "source": [
    "- del : 자료의 삭제를 위한 키워드. ex) del 리스트 [인덱스 범위] : 인덱스 범위에 해당되는 부분을 제거"
   ]
  },
  {
   "cell_type": "code",
   "execution_count": 15,
   "metadata": {},
   "outputs": [
    {
     "name": "stdout",
     "output_type": "stream",
     "text": [
      "[1, 2, 3]\n"
     ]
    }
   ],
   "source": [
    "int_list = [1,2,3,5,4]\n",
    "\n",
    "del int_list[3:]\n",
    "print(int_list)"
   ]
  },
  {
   "cell_type": "markdown",
   "metadata": {},
   "source": [
    "- sort( ) : 리스트 정렬. 데이터형이 숫자 혹은 문자형으로 통일된 데이터셋에 대한 정렬\n",
    "- 정수와 실수 함께 대소 비교 가능\n",
    "- 문자열의 경우, 첫 글자를 a-z 순으로 정렬, 첫 글자가 같다면 그 다음 글자를 비교하는 식"
   ]
  },
  {
   "cell_type": "code",
   "execution_count": 20,
   "metadata": {},
   "outputs": [
    {
     "name": "stdout",
     "output_type": "stream",
     "text": [
      "[1, 2, 3, 4, 5]\n",
      "[1.1, 2.2, 3.3, 4.4, 5.5]\n",
      "['crawling', 'data', 'extract', 'parsing', 'pre-processing']\n"
     ]
    }
   ],
   "source": [
    "int_list = [3,1,5,4,2]\n",
    "float_list = [4.4, 2.2, 3.3, 5.5, 1.1]\n",
    "string_list = [\"crawling\", \"parsing\", \"data\", \"extract\", \"pre-processing\"]\n",
    "\n",
    "int_list.sort()\n",
    "float_list.sort()\n",
    "string_list.sort()\n",
    "\n",
    "print(int_list)\n",
    "print(float_list)\n",
    "print(string_list)"
   ]
  },
  {
   "cell_type": "markdown",
   "metadata": {},
   "source": [
    "- count( ) : 리스트에서 특정 원소가 몇 번 출현하는지 세어주는 함수"
   ]
  },
  {
   "cell_type": "code",
   "execution_count": 23,
   "metadata": {},
   "outputs": [
    {
     "name": "stdout",
     "output_type": "stream",
     "text": [
      "3\n",
      "3\n"
     ]
    }
   ],
   "source": [
    "int_list = [1, 5, 4, 3, 7, 5, 4, 2, 4]\n",
    "string_list = [\"car\", \"cat\", \"can\", \"cut\", \"cat\", \"cnn\", \"cure\", \"cat\"]\n",
    "\n",
    "print(int_list.count(4))\n",
    "print(string_list.count(\"cat\"))"
   ]
  },
  {
   "cell_type": "markdown",
   "metadata": {},
   "source": [
    "## 딕셔너리 { } \n",
    "- { key(키) : value(밸류) }\n",
    "- 딕셔너리는 순서가 없다. 문자열, 리스트와는 달리 숫자 인덱스로 접근이 불가능하다.\n",
    "- key(키)를 통해 value(값)에 접근해야 한다. key(키)는 문자 또는 숫자가 될 수 있다."
   ]
  },
  {
   "cell_type": "code",
   "execution_count": 1,
   "metadata": {},
   "outputs": [
    {
     "name": "stdout",
     "output_type": "stream",
     "text": [
      "{}\n",
      "<class 'dict'>\n"
     ]
    }
   ],
   "source": [
    "user = { }\n",
    "print(user)\n",
    "print(type(user))"
   ]
  },
  {
   "cell_type": "code",
   "execution_count": 2,
   "metadata": {},
   "outputs": [
    {
     "name": "stdout",
     "output_type": "stream",
     "text": [
      "{'name': 'hojin'}\n"
     ]
    }
   ],
   "source": [
    "user = { \"name\" : \"hojin\" }\n",
    "print(user)"
   ]
  },
  {
   "cell_type": "code",
   "execution_count": 6,
   "metadata": {},
   "outputs": [
    {
     "name": "stdout",
     "output_type": "stream",
     "text": [
      "{0: 'hojin', 1: 'jaewon'}\n",
      "hojin\n",
      "jaewon\n"
     ]
    }
   ],
   "source": [
    "class1 = {0:\"hojin\", 1:\"jaewon\"}\n",
    "print(class1)\n",
    "print(class1[0])\n",
    "print(class1[1])"
   ]
  },
  {
   "cell_type": "code",
   "execution_count": 8,
   "metadata": {},
   "outputs": [
    {
     "name": "stdout",
     "output_type": "stream",
     "text": [
      "{'hojin': 0, 'jaewon': 1}\n",
      "0\n",
      "1\n"
     ]
    }
   ],
   "source": [
    "# key(키)를 넣어 인덱싱\n",
    "class2 = {\"hojin\" : 0 , \"jaewon\" : 1}\n",
    "print(class2)\n",
    "print(class2[\"hojin\"])\n",
    "print(class2[\"jaewon\"])"
   ]
  },
  {
   "cell_type": "markdown",
   "metadata": {},
   "source": [
    "#### 딕셔너리에 여러 개의 값 넣기"
   ]
  },
  {
   "cell_type": "code",
   "execution_count": 10,
   "metadata": {},
   "outputs": [
    {
     "name": "stdout",
     "output_type": "stream",
     "text": [
      "{'name': 'hojin', 'url': 'www.github.com/gabychoi', 'userid': 'gabychoi', 'passwd': '12345678'}\n",
      "{'name': 'google', 'url': 'www.google.com', 'userid': 'gg', 'passwd': '1234'}\n",
      "<class 'dict'>\n",
      "<class 'dict'>\n"
     ]
    }
   ],
   "source": [
    "hojin_info = {\n",
    "    \"name\" : \"hojin\",\n",
    "    \"url\"  : \"www.github.com/gabychoi\",\n",
    "    \"userid\" : \"gabychoi\",\n",
    "    \"passwd\" : \"12345678\"\n",
    "}\n",
    "\n",
    "google = {\n",
    "    \"name\" : \"google\",\n",
    "    \"url\"  : \"www.google.com\",\n",
    "    \"userid\" : \"gg\",\n",
    "    \"passwd\" : \"1234\"\n",
    "}\n",
    "\n",
    "print(hojin_info)\n",
    "print(google)\n",
    "\n",
    "print(type(hojin_info))\n",
    "print(type(google))"
   ]
  },
  {
   "cell_type": "code",
   "execution_count": 11,
   "metadata": {},
   "outputs": [
    {
     "name": "stdout",
     "output_type": "stream",
     "text": [
      "www.github.com/gabychoi\n",
      "www.google.com\n"
     ]
    }
   ],
   "source": [
    "site = {\n",
    "    \"hojin\" : \"www.github.com/gabychoi\",\n",
    "    \"google\": \"www.google.com\"\n",
    "}\n",
    "\n",
    "print(site[\"hojin\"])\n",
    "print(site[\"google\"])"
   ]
  },
  {
   "cell_type": "markdown",
   "metadata": {},
   "source": [
    "#### 딕셔너리에 자료 추가\n",
    "- 딕셔너리[\"키\"] = \"값\""
   ]
  },
  {
   "cell_type": "code",
   "execution_count": 14,
   "metadata": {},
   "outputs": [
    {
     "name": "stdout",
     "output_type": "stream",
     "text": [
      "{'hojin': 'www.github.com/gabychoi', 'google': 'www.google.com', 'daum': 'www.daum.net'}\n",
      "www.daum.net\n",
      "{'hojin': 'www.github.com/gabychoi', 'google': 'www.google.com', 'daum': 'www.daum.net', 'yahoo': 'www.yahoo.com'}\n",
      "www.yahoo.com\n"
     ]
    }
   ],
   "source": [
    "site = {\n",
    "    \"hojin\" : \"www.github.com/gabychoi\",\n",
    "    \"google\": \"www.google.com\"\n",
    "}\n",
    "\n",
    "site[\"daum\"] = \"www.daum.net\"\n",
    "print(site)\n",
    "print(site[\"daum\"])\n",
    "\n",
    "site[\"yahoo\"] = \"www.yahoo.com\"\n",
    "print(site)\n",
    "print(site[\"yahoo\"])"
   ]
  },
  {
   "cell_type": "markdown",
   "metadata": {},
   "source": [
    "#### 딕셔너리의 자료 수정, 삭제\n",
    "- 수정 : 딕셔너리[\"키\"] = \"변경할 데이터\"\n",
    "- 삭제 : del 딕셔너리[\"키\"]"
   ]
  },
  {
   "cell_type": "code",
   "execution_count": 17,
   "metadata": {
    "scrolled": true
   },
   "outputs": [
    {
     "name": "stdout",
     "output_type": "stream",
     "text": [
      "www.daum.net\n",
      "{'hojin': 'www.github.com/gabychoi', 'google': 'www.google.com'}\n"
     ]
    }
   ],
   "source": [
    "site = {\n",
    "    \"hojin\" : \"www.github.com/gabychoi\",\n",
    "    \"google\": \"www.google.com\",\n",
    "    \"daum\"  : \"nodata\"\n",
    "}\n",
    "\n",
    "site[\"daum\"] = \"www.daum.net\"\n",
    "print(site[\"daum\"])\n",
    "\n",
    "del site[\"daum\"]\n",
    "print(site)"
   ]
  },
  {
   "cell_type": "markdown",
   "metadata": {},
   "source": [
    "## 자주 사용하는 딕셔너리 함수\n",
    "- get( ) : 키에 대한 값을 가져오는 함수\n",
    "- 딕셔너리.get(\"키\")\n",
    "- 존재하지 않는 키에 대해 get( )을 사용할 경우 None을 반환. 에러 발생 X."
   ]
  },
  {
   "cell_type": "code",
   "execution_count": 22,
   "metadata": {},
   "outputs": [
    {
     "name": "stdout",
     "output_type": "stream",
     "text": [
      "www.google.com\n",
      "None\n",
      "daum에 대한 데이터가 없습니다.\n"
     ]
    }
   ],
   "source": [
    "site = {\n",
    "    \"hojin\" : \"www.github.com/gabychoi\",\n",
    "    \"google\": \"www.google.com\"\n",
    "}\n",
    "\n",
    "print(site.get(\"google\"))\n",
    "print(site.get(\"daum\"))\n",
    "\n",
    "key = \"daum\"\n",
    "if (site.get(key) == None):\n",
    "    print(insert_key + \"에 대한 데이터가 없습니다.\")"
   ]
  },
  {
   "cell_type": "markdown",
   "metadata": {},
   "source": [
    "- keys( ), values( ), items( ) : 딕셔너리에 들어 있는 key값, value값, key-value 쌍인 item들을 가져오는 함수\n",
    "- 딕셔너리는 순서가 없는 자료형이기 때문에 인덱스로 가져올 수 없는 대신 위와 같은 함수를 사용한다."
   ]
  },
  {
   "cell_type": "code",
   "execution_count": 30,
   "metadata": {
    "scrolled": true
   },
   "outputs": [
    {
     "name": "stdout",
     "output_type": "stream",
     "text": [
      "dict_keys(['hojin', 'google', 'daum'])\n",
      "dict_values(['www.github.com/gabychoi', 'www.google.com', 'www.daum.net'])\n",
      "dict_items([('hojin', 'www.github.com/gabychoi'), ('google', 'www.google.com'), ('daum', 'www.daum.net')])\n",
      "['hojin', 'google', 'daum']\n",
      "['www.github.com/gabychoi', 'www.google.com', 'www.daum.net']\n",
      "[('hojin', 'www.github.com/gabychoi'), ('google', 'www.google.com'), ('daum', 'www.daum.net')]\n",
      "hojin\n",
      "google\n",
      "daum\n",
      "www.github.com/gabychoi\n",
      "www.google.com\n",
      "www.daum.net\n",
      "('hojin', 'www.github.com/gabychoi')\n",
      "('google', 'www.google.com')\n",
      "('daum', 'www.daum.net')\n"
     ]
    }
   ],
   "source": [
    "site = {\n",
    "    \"hojin\" : \"www.github.com/gabychoi\",\n",
    "    \"google\": \"www.google.com\",\n",
    "    \"daum\"  : \"www.daum.net\"\n",
    "}\n",
    "\n",
    "# dict_keys([ ]), dict_values([ ]), dict_items([ ]) 와 같은 형태로 출력된다. 튜플의 리스트 형태로 리스트와 비슷한 자료형이다.\n",
    "print(site.keys()) \n",
    "print(site.values())\n",
    "print(site.items()) # key-value값을 쌍으로 나타내는 튜플(Tuple) 형태로 출력된다.\n",
    "\n",
    "# 리스트로 사용하고 싶다면 list( ) 로 묶어 출력\n",
    "print(list(site.keys())) \n",
    "print(list(site.values()))\n",
    "print(list(site.items()))\n",
    "\n",
    "# dict 자료형 내부에 있는 자료 출력 위해 for문 사용\n",
    "for key in site.keys():\n",
    "    print(key)\n",
    "for value in site.values():\n",
    "    print(value)\n",
    "for item in site.items():\n",
    "    print(item)"
   ]
  },
  {
   "cell_type": "markdown",
   "metadata": {},
   "source": [
    "## 튜플 ( )\n",
    "- 소괄호 ( , ) 로 묶인 데이터. ex. ('hojin', 'www.github.com/gabychoi')\n",
    "- 튜플 안에 있는 자료를 수정하거나 삭제할 수 없다. 고정되거나 변하지 않는 값을 다룰 때 주로 사용\n",
    "- cf. 리스트나 딕셔너리는 그 안에 있는 값을 수정, 삭제 가능"
   ]
  },
  {
   "cell_type": "markdown",
   "metadata": {},
   "source": [
    "## 라이브러리(Library)\n",
    "- 다른 사람들이 만들어 놓은 코드. 프로그램은 소스코드로 이루어져 있고, 잘 만든 소스코드는 전 세계 사람들이 공유해서 사용할 수 있다.\n",
    "- 라이브러리는 패키지(Package)라고도 한다.\n",
    "- 파이썬에서 많이 사용하는 라이브러리는 beautifulsoap(뷰티풀솝), numpy(넘파이), pandas(판다스), matplot(맷플롯) 등이 있다."
   ]
  }
 ],
 "metadata": {
  "kernelspec": {
   "display_name": "Python 3",
   "language": "python",
   "name": "python3"
  },
  "language_info": {
   "codemirror_mode": {
    "name": "ipython",
    "version": 3
   },
   "file_extension": ".py",
   "mimetype": "text/x-python",
   "name": "python",
   "nbconvert_exporter": "python",
   "pygments_lexer": "ipython3",
   "version": "3.6.5"
  }
 },
 "nbformat": 4,
 "nbformat_minor": 2
}
